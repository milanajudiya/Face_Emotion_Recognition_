{
  "nbformat": 4,
  "nbformat_minor": 0,
  "metadata": {
    "colab": {
      "provenance": [],
      "collapsed_sections": [],
      "mount_file_id": "1hiPtrmQxQiVASe6paFhddDgvGV15MNej",
      "authorship_tag": "ABX9TyOOhLqCXT/olG4B6KmCLhQ8",
      "include_colab_link": true
    },
    "kernelspec": {
      "name": "python3",
      "display_name": "Python 3"
    },
    "language_info": {
      "name": "python"
    },
    "gpuClass": "standard",
    "accelerator": "GPU"
  },
  "cells": [
    {
      "cell_type": "markdown",
      "metadata": {
        "id": "view-in-github",
        "colab_type": "text"
      },
      "source": [
        "<a href=\"https://colab.research.google.com/github/milanajudiya/Face_Emotion_Recognition_/blob/main/Face_Emotion_Recognition.ipynb\" target=\"_parent\"><img src=\"https://colab.research.google.com/assets/colab-badge.svg\" alt=\"Open In Colab\"/></a>"
      ]
    },
    {
      "cell_type": "markdown",
      "source": [
        "# **Project Introduction**\n",
        "The Indian education landscape has been undergoing rapid changes for the past 10 years owing to the advancement of web-based learning services, specifically, eLearning platforms.Global E-learning is estimated to witness an 8X over the next 5 years to reach USD 2B in 2021. India\n",
        "is expected to grow with a CAGR of 44% crossing the 10M users mark in 2021. Although the market\n",
        "is growing on a rapid scale, there are major challenges associated with digital learning when\n",
        "compared with brick and mortar classrooms. One of many challenges is how to ensure quality\n",
        "learning for students. Digital platforms might overpower physical classrooms in terms of content\n",
        "quality but when it comes to understanding whether students are able to grasp the content in a live\n",
        "class scenario is yet an open-end challenge.\n",
        "In a physical classroom during a lecturing teacher can see the faces and assess the emotion of the\n",
        "class and tune their lecture accordingly, whether he is going fast or slow. He can identify students who\n",
        "need special attention. Digital classrooms are conducted via video telephony software program (ex\u0002Zoom) where it’s not possible for medium scale class (25-50) to see all students and access the\n",
        "mood. Because of this drawback, students are not focusing on content due to lack of surveillance.\n",
        "While digital platforms have limitations in terms of physical surveillance but it comes with the power of\n",
        "data and machines which can work for you. It provides data in the form of video, audio, and texts\n",
        "which can be analysed using deep learning algorithms. Deep learning backed system not only solves\n",
        "the surveillance issue, but it also removes the human bias from the system, and all information is no\n",
        "longer in the teacher’s brain rather translated in numbers that can be analysed and tracked.\n"
      ],
      "metadata": {
        "id": "MJ-LH1UVpPxJ"
      }
    },
    {
      "cell_type": "markdown",
      "source": [
        "## **Problem Statements**\n",
        "We will solve the above-mentioned challenge by applying deep learning algorithms to live video data.\n",
        "The solution to this problem is by recognizing facial emotions"
      ],
      "metadata": {
        "id": "FJo30lRYpukr"
      }
    },
    {
      "cell_type": "code",
      "source": [
        "!pip install tensorflow===2.4.1"
      ],
      "metadata": {
        "colab": {
          "base_uri": "https://localhost:8080/"
        },
        "id": "2Pf39H3BseM5",
        "outputId": "a8393b49-315c-44f5-da72-4c8b6e5e9896"
      },
      "execution_count": 1,
      "outputs": [
        {
          "output_type": "stream",
          "name": "stdout",
          "text": [
            "Looking in indexes: https://pypi.org/simple, https://us-python.pkg.dev/colab-wheels/public/simple/\n",
            "Requirement already satisfied: tensorflow===2.4.1 in /usr/local/lib/python3.7/dist-packages (2.4.1)\n",
            "Requirement already satisfied: google-pasta~=0.2 in /usr/local/lib/python3.7/dist-packages (from tensorflow===2.4.1) (0.2.0)\n",
            "Requirement already satisfied: absl-py~=0.10 in /usr/local/lib/python3.7/dist-packages (from tensorflow===2.4.1) (0.15.0)\n",
            "Requirement already satisfied: typing-extensions~=3.7.4 in /usr/local/lib/python3.7/dist-packages (from tensorflow===2.4.1) (3.7.4.3)\n",
            "Requirement already satisfied: keras-preprocessing~=1.1.2 in /usr/local/lib/python3.7/dist-packages (from tensorflow===2.4.1) (1.1.2)\n",
            "Requirement already satisfied: six~=1.15.0 in /usr/local/lib/python3.7/dist-packages (from tensorflow===2.4.1) (1.15.0)\n",
            "Requirement already satisfied: protobuf>=3.9.2 in /usr/local/lib/python3.7/dist-packages (from tensorflow===2.4.1) (3.17.3)\n",
            "Requirement already satisfied: wheel~=0.35 in /usr/local/lib/python3.7/dist-packages (from tensorflow===2.4.1) (0.37.1)\n",
            "Requirement already satisfied: numpy~=1.19.2 in /usr/local/lib/python3.7/dist-packages (from tensorflow===2.4.1) (1.19.5)\n",
            "Requirement already satisfied: tensorflow-estimator<2.5.0,>=2.4.0 in /usr/local/lib/python3.7/dist-packages (from tensorflow===2.4.1) (2.4.0)\n",
            "Requirement already satisfied: astunparse~=1.6.3 in /usr/local/lib/python3.7/dist-packages (from tensorflow===2.4.1) (1.6.3)\n",
            "Requirement already satisfied: flatbuffers~=1.12.0 in /usr/local/lib/python3.7/dist-packages (from tensorflow===2.4.1) (1.12)\n",
            "Requirement already satisfied: gast==0.3.3 in /usr/local/lib/python3.7/dist-packages (from tensorflow===2.4.1) (0.3.3)\n",
            "Requirement already satisfied: grpcio~=1.32.0 in /usr/local/lib/python3.7/dist-packages (from tensorflow===2.4.1) (1.32.0)\n",
            "Requirement already satisfied: tensorboard~=2.4 in /usr/local/lib/python3.7/dist-packages (from tensorflow===2.4.1) (2.8.0)\n",
            "Requirement already satisfied: wrapt~=1.12.1 in /usr/local/lib/python3.7/dist-packages (from tensorflow===2.4.1) (1.12.1)\n",
            "Requirement already satisfied: termcolor~=1.1.0 in /usr/local/lib/python3.7/dist-packages (from tensorflow===2.4.1) (1.1.0)\n",
            "Requirement already satisfied: opt-einsum~=3.3.0 in /usr/local/lib/python3.7/dist-packages (from tensorflow===2.4.1) (3.3.0)\n",
            "Requirement already satisfied: h5py~=2.10.0 in /usr/local/lib/python3.7/dist-packages (from tensorflow===2.4.1) (2.10.0)\n",
            "Requirement already satisfied: werkzeug>=0.11.15 in /usr/local/lib/python3.7/dist-packages (from tensorboard~=2.4->tensorflow===2.4.1) (1.0.1)\n",
            "Requirement already satisfied: google-auth<3,>=1.6.3 in /usr/local/lib/python3.7/dist-packages (from tensorboard~=2.4->tensorflow===2.4.1) (1.35.0)\n",
            "Requirement already satisfied: setuptools>=41.0.0 in /usr/local/lib/python3.7/dist-packages (from tensorboard~=2.4->tensorflow===2.4.1) (57.4.0)\n",
            "Requirement already satisfied: markdown>=2.6.8 in /usr/local/lib/python3.7/dist-packages (from tensorboard~=2.4->tensorflow===2.4.1) (3.4.1)\n",
            "Requirement already satisfied: tensorboard-plugin-wit>=1.6.0 in /usr/local/lib/python3.7/dist-packages (from tensorboard~=2.4->tensorflow===2.4.1) (1.8.1)\n",
            "Requirement already satisfied: google-auth-oauthlib<0.5,>=0.4.1 in /usr/local/lib/python3.7/dist-packages (from tensorboard~=2.4->tensorflow===2.4.1) (0.4.6)\n",
            "Requirement already satisfied: requests<3,>=2.21.0 in /usr/local/lib/python3.7/dist-packages (from tensorboard~=2.4->tensorflow===2.4.1) (2.23.0)\n",
            "Requirement already satisfied: tensorboard-data-server<0.7.0,>=0.6.0 in /usr/local/lib/python3.7/dist-packages (from tensorboard~=2.4->tensorflow===2.4.1) (0.6.1)\n",
            "Requirement already satisfied: cachetools<5.0,>=2.0.0 in /usr/local/lib/python3.7/dist-packages (from google-auth<3,>=1.6.3->tensorboard~=2.4->tensorflow===2.4.1) (4.2.4)\n",
            "Requirement already satisfied: rsa<5,>=3.1.4 in /usr/local/lib/python3.7/dist-packages (from google-auth<3,>=1.6.3->tensorboard~=2.4->tensorflow===2.4.1) (4.9)\n",
            "Requirement already satisfied: pyasn1-modules>=0.2.1 in /usr/local/lib/python3.7/dist-packages (from google-auth<3,>=1.6.3->tensorboard~=2.4->tensorflow===2.4.1) (0.2.8)\n",
            "Requirement already satisfied: requests-oauthlib>=0.7.0 in /usr/local/lib/python3.7/dist-packages (from google-auth-oauthlib<0.5,>=0.4.1->tensorboard~=2.4->tensorflow===2.4.1) (1.3.1)\n",
            "Requirement already satisfied: importlib-metadata>=4.4 in /usr/local/lib/python3.7/dist-packages (from markdown>=2.6.8->tensorboard~=2.4->tensorflow===2.4.1) (4.12.0)\n",
            "Requirement already satisfied: zipp>=0.5 in /usr/local/lib/python3.7/dist-packages (from importlib-metadata>=4.4->markdown>=2.6.8->tensorboard~=2.4->tensorflow===2.4.1) (3.8.1)\n",
            "Requirement already satisfied: pyasn1<0.5.0,>=0.4.6 in /usr/local/lib/python3.7/dist-packages (from pyasn1-modules>=0.2.1->google-auth<3,>=1.6.3->tensorboard~=2.4->tensorflow===2.4.1) (0.4.8)\n",
            "Requirement already satisfied: chardet<4,>=3.0.2 in /usr/local/lib/python3.7/dist-packages (from requests<3,>=2.21.0->tensorboard~=2.4->tensorflow===2.4.1) (3.0.4)\n",
            "Requirement already satisfied: urllib3!=1.25.0,!=1.25.1,<1.26,>=1.21.1 in /usr/local/lib/python3.7/dist-packages (from requests<3,>=2.21.0->tensorboard~=2.4->tensorflow===2.4.1) (1.24.3)\n",
            "Requirement already satisfied: certifi>=2017.4.17 in /usr/local/lib/python3.7/dist-packages (from requests<3,>=2.21.0->tensorboard~=2.4->tensorflow===2.4.1) (2022.6.15)\n",
            "Requirement already satisfied: idna<3,>=2.5 in /usr/local/lib/python3.7/dist-packages (from requests<3,>=2.21.0->tensorboard~=2.4->tensorflow===2.4.1) (2.10)\n",
            "Requirement already satisfied: oauthlib>=3.0.0 in /usr/local/lib/python3.7/dist-packages (from requests-oauthlib>=0.7.0->google-auth-oauthlib<0.5,>=0.4.1->tensorboard~=2.4->tensorflow===2.4.1) (3.2.0)\n"
          ]
        }
      ]
    },
    {
      "cell_type": "code",
      "source": [
        "!pip install keras===2.4.3"
      ],
      "metadata": {
        "id": "WeNfvoVrtfHV",
        "colab": {
          "base_uri": "https://localhost:8080/"
        },
        "outputId": "683f4068-2b97-45e1-8d45-d6974e35a858"
      },
      "execution_count": 2,
      "outputs": [
        {
          "output_type": "stream",
          "name": "stdout",
          "text": [
            "Looking in indexes: https://pypi.org/simple, https://us-python.pkg.dev/colab-wheels/public/simple/\n",
            "Requirement already satisfied: keras===2.4.3 in /usr/local/lib/python3.7/dist-packages (2.4.3)\n",
            "Requirement already satisfied: scipy>=0.14 in /usr/local/lib/python3.7/dist-packages (from keras===2.4.3) (1.7.3)\n",
            "Requirement already satisfied: numpy>=1.9.1 in /usr/local/lib/python3.7/dist-packages (from keras===2.4.3) (1.19.5)\n",
            "Requirement already satisfied: pyyaml in /usr/local/lib/python3.7/dist-packages (from keras===2.4.3) (6.0)\n",
            "Requirement already satisfied: h5py in /usr/local/lib/python3.7/dist-packages (from keras===2.4.3) (2.10.0)\n",
            "Requirement already satisfied: six in /usr/local/lib/python3.7/dist-packages (from h5py->keras===2.4.3) (1.15.0)\n"
          ]
        }
      ]
    },
    {
      "cell_type": "code",
      "execution_count": 3,
      "metadata": {
        "id": "qcbenYjgpAbe"
      },
      "outputs": [],
      "source": [
        "# import libraries\n",
        "import pandas as pd\n",
        "import numpy as np\n",
        "import seaborn as sns\n",
        "import matplotlib.pyplot as plt\n",
        "#inline matplotlib\n",
        "\n",
        "import tensorflow \n",
        "from tensorflow.keras.utils import to_categorical\n",
        "import os\n",
        "from PIL import Image\n",
        "\n",
        "from keras.models import Sequential\n",
        "from keras.layers import Dense, Dropout, Activation, Flatten, BatchNormalization\n",
        "from keras.layers.convolutional import Convolution2D, MaxPooling2D, ZeroPadding2D\n",
        "from tensorflow.keras.optimizers import Adam, SGD\n",
        "from keras.callbacks import EarlyStopping\n",
        "\n",
        "from sklearn.metrics import classification_report\n",
        "import cv2\n",
        "\n",
        "import warnings\n",
        "warnings.filterwarnings(\"ignore\")\n",
        "warnings.simplefilter(\"ignore\")"
      ]
    },
    {
      "cell_type": "code",
      "source": [
        "tensorflow.test.gpu_device_name()"
      ],
      "metadata": {
        "colab": {
          "base_uri": "https://localhost:8080/",
          "height": 36
        },
        "id": "MJ8GYSkqpBDE",
        "outputId": "1f4b7c7b-96b6-433e-e412-b2c7ed576dd1"
      },
      "execution_count": 4,
      "outputs": [
        {
          "output_type": "execute_result",
          "data": {
            "text/plain": [
              "'/device:GPU:0'"
            ],
            "application/vnd.google.colaboratory.intrinsic+json": {
              "type": "string"
            }
          },
          "metadata": {},
          "execution_count": 4
        }
      ]
    },
    {
      "cell_type": "code",
      "source": [
        "from google.colab import drive\n",
        "drive.mount('/content/drive')"
      ],
      "metadata": {
        "id": "Mzp8BxQJ3BYo",
        "colab": {
          "base_uri": "https://localhost:8080/"
        },
        "outputId": "b04a3246-f607-4c76-df92-3357a4d51278"
      },
      "execution_count": 5,
      "outputs": [
        {
          "output_type": "stream",
          "name": "stdout",
          "text": [
            "Drive already mounted at /content/drive; to attempt to forcibly remount, call drive.mount(\"/content/drive\", force_remount=True).\n"
          ]
        }
      ]
    },
    {
      "cell_type": "code",
      "source": [
        "data = pd.read_csv(\"/content/drive/MyDrive/Face Emotion Recognition - Milan Ajudiya/Data/fer2013.csv\")"
      ],
      "metadata": {
        "id": "uTyk2M7PsHsN"
      },
      "execution_count": 6,
      "outputs": []
    },
    {
      "cell_type": "code",
      "source": [
        "data.head()"
      ],
      "metadata": {
        "id": "If29QXWU2xNe",
        "colab": {
          "base_uri": "https://localhost:8080/",
          "height": 206
        },
        "outputId": "521b09ec-c625-43a8-e7aa-2ebb4a4a6f59"
      },
      "execution_count": 7,
      "outputs": [
        {
          "output_type": "execute_result",
          "data": {
            "text/plain": [
              "   emotion                                             pixels     Usage\n",
              "0        0  70 80 82 72 58 58 60 63 54 58 60 48 89 115 121...  Training\n",
              "1        0  151 150 147 155 148 133 111 140 170 174 182 15...  Training\n",
              "2        2  231 212 156 164 174 138 161 173 182 200 106 38...  Training\n",
              "3        4  24 32 36 30 32 23 19 20 30 41 21 22 32 34 21 1...  Training\n",
              "4        6  4 0 0 0 0 0 0 0 0 0 0 0 3 15 23 28 48 50 58 84...  Training"
            ],
            "text/html": [
              "\n",
              "  <div id=\"df-d37ca1d5-8050-4335-8f7c-8dcc7fee693f\">\n",
              "    <div class=\"colab-df-container\">\n",
              "      <div>\n",
              "<style scoped>\n",
              "    .dataframe tbody tr th:only-of-type {\n",
              "        vertical-align: middle;\n",
              "    }\n",
              "\n",
              "    .dataframe tbody tr th {\n",
              "        vertical-align: top;\n",
              "    }\n",
              "\n",
              "    .dataframe thead th {\n",
              "        text-align: right;\n",
              "    }\n",
              "</style>\n",
              "<table border=\"1\" class=\"dataframe\">\n",
              "  <thead>\n",
              "    <tr style=\"text-align: right;\">\n",
              "      <th></th>\n",
              "      <th>emotion</th>\n",
              "      <th>pixels</th>\n",
              "      <th>Usage</th>\n",
              "    </tr>\n",
              "  </thead>\n",
              "  <tbody>\n",
              "    <tr>\n",
              "      <th>0</th>\n",
              "      <td>0</td>\n",
              "      <td>70 80 82 72 58 58 60 63 54 58 60 48 89 115 121...</td>\n",
              "      <td>Training</td>\n",
              "    </tr>\n",
              "    <tr>\n",
              "      <th>1</th>\n",
              "      <td>0</td>\n",
              "      <td>151 150 147 155 148 133 111 140 170 174 182 15...</td>\n",
              "      <td>Training</td>\n",
              "    </tr>\n",
              "    <tr>\n",
              "      <th>2</th>\n",
              "      <td>2</td>\n",
              "      <td>231 212 156 164 174 138 161 173 182 200 106 38...</td>\n",
              "      <td>Training</td>\n",
              "    </tr>\n",
              "    <tr>\n",
              "      <th>3</th>\n",
              "      <td>4</td>\n",
              "      <td>24 32 36 30 32 23 19 20 30 41 21 22 32 34 21 1...</td>\n",
              "      <td>Training</td>\n",
              "    </tr>\n",
              "    <tr>\n",
              "      <th>4</th>\n",
              "      <td>6</td>\n",
              "      <td>4 0 0 0 0 0 0 0 0 0 0 0 3 15 23 28 48 50 58 84...</td>\n",
              "      <td>Training</td>\n",
              "    </tr>\n",
              "  </tbody>\n",
              "</table>\n",
              "</div>\n",
              "      <button class=\"colab-df-convert\" onclick=\"convertToInteractive('df-d37ca1d5-8050-4335-8f7c-8dcc7fee693f')\"\n",
              "              title=\"Convert this dataframe to an interactive table.\"\n",
              "              style=\"display:none;\">\n",
              "        \n",
              "  <svg xmlns=\"http://www.w3.org/2000/svg\" height=\"24px\"viewBox=\"0 0 24 24\"\n",
              "       width=\"24px\">\n",
              "    <path d=\"M0 0h24v24H0V0z\" fill=\"none\"/>\n",
              "    <path d=\"M18.56 5.44l.94 2.06.94-2.06 2.06-.94-2.06-.94-.94-2.06-.94 2.06-2.06.94zm-11 1L8.5 8.5l.94-2.06 2.06-.94-2.06-.94L8.5 2.5l-.94 2.06-2.06.94zm10 10l.94 2.06.94-2.06 2.06-.94-2.06-.94-.94-2.06-.94 2.06-2.06.94z\"/><path d=\"M17.41 7.96l-1.37-1.37c-.4-.4-.92-.59-1.43-.59-.52 0-1.04.2-1.43.59L10.3 9.45l-7.72 7.72c-.78.78-.78 2.05 0 2.83L4 21.41c.39.39.9.59 1.41.59.51 0 1.02-.2 1.41-.59l7.78-7.78 2.81-2.81c.8-.78.8-2.07 0-2.86zM5.41 20L4 18.59l7.72-7.72 1.47 1.35L5.41 20z\"/>\n",
              "  </svg>\n",
              "      </button>\n",
              "      \n",
              "  <style>\n",
              "    .colab-df-container {\n",
              "      display:flex;\n",
              "      flex-wrap:wrap;\n",
              "      gap: 12px;\n",
              "    }\n",
              "\n",
              "    .colab-df-convert {\n",
              "      background-color: #E8F0FE;\n",
              "      border: none;\n",
              "      border-radius: 50%;\n",
              "      cursor: pointer;\n",
              "      display: none;\n",
              "      fill: #1967D2;\n",
              "      height: 32px;\n",
              "      padding: 0 0 0 0;\n",
              "      width: 32px;\n",
              "    }\n",
              "\n",
              "    .colab-df-convert:hover {\n",
              "      background-color: #E2EBFA;\n",
              "      box-shadow: 0px 1px 2px rgba(60, 64, 67, 0.3), 0px 1px 3px 1px rgba(60, 64, 67, 0.15);\n",
              "      fill: #174EA6;\n",
              "    }\n",
              "\n",
              "    [theme=dark] .colab-df-convert {\n",
              "      background-color: #3B4455;\n",
              "      fill: #D2E3FC;\n",
              "    }\n",
              "\n",
              "    [theme=dark] .colab-df-convert:hover {\n",
              "      background-color: #434B5C;\n",
              "      box-shadow: 0px 1px 3px 1px rgba(0, 0, 0, 0.15);\n",
              "      filter: drop-shadow(0px 1px 2px rgba(0, 0, 0, 0.3));\n",
              "      fill: #FFFFFF;\n",
              "    }\n",
              "  </style>\n",
              "\n",
              "      <script>\n",
              "        const buttonEl =\n",
              "          document.querySelector('#df-d37ca1d5-8050-4335-8f7c-8dcc7fee693f button.colab-df-convert');\n",
              "        buttonEl.style.display =\n",
              "          google.colab.kernel.accessAllowed ? 'block' : 'none';\n",
              "\n",
              "        async function convertToInteractive(key) {\n",
              "          const element = document.querySelector('#df-d37ca1d5-8050-4335-8f7c-8dcc7fee693f');\n",
              "          const dataTable =\n",
              "            await google.colab.kernel.invokeFunction('convertToInteractive',\n",
              "                                                     [key], {});\n",
              "          if (!dataTable) return;\n",
              "\n",
              "          const docLinkHtml = 'Like what you see? Visit the ' +\n",
              "            '<a target=\"_blank\" href=https://colab.research.google.com/notebooks/data_table.ipynb>data table notebook</a>'\n",
              "            + ' to learn more about interactive tables.';\n",
              "          element.innerHTML = '';\n",
              "          dataTable['output_type'] = 'display_data';\n",
              "          await google.colab.output.renderOutput(dataTable, element);\n",
              "          const docLink = document.createElement('div');\n",
              "          docLink.innerHTML = docLinkHtml;\n",
              "          element.appendChild(docLink);\n",
              "        }\n",
              "      </script>\n",
              "    </div>\n",
              "  </div>\n",
              "  "
            ]
          },
          "metadata": {},
          "execution_count": 7
        }
      ]
    },
    {
      "cell_type": "code",
      "source": [
        "# shape of data\n",
        "data.shape"
      ],
      "metadata": {
        "id": "sPPnpGLH3LaT",
        "colab": {
          "base_uri": "https://localhost:8080/"
        },
        "outputId": "8efee76f-cbcc-44b3-b004-d3e54711e351"
      },
      "execution_count": 8,
      "outputs": [
        {
          "output_type": "execute_result",
          "data": {
            "text/plain": [
              "(35887, 3)"
            ]
          },
          "metadata": {},
          "execution_count": 8
        }
      ]
    },
    {
      "cell_type": "code",
      "source": [
        "# check for null values\n",
        "data.isnull().sum()"
      ],
      "metadata": {
        "id": "CqWRS4qj3Otx",
        "colab": {
          "base_uri": "https://localhost:8080/"
        },
        "outputId": "9fa12fbd-0ef8-4c7c-a301-5ee24dc469bb"
      },
      "execution_count": 9,
      "outputs": [
        {
          "output_type": "execute_result",
          "data": {
            "text/plain": [
              "emotion    0\n",
              "pixels     0\n",
              "Usage      0\n",
              "dtype: int64"
            ]
          },
          "metadata": {},
          "execution_count": 9
        }
      ]
    },
    {
      "cell_type": "code",
      "source": [
        "data[\"Usage\"].value_counts()"
      ],
      "metadata": {
        "id": "aBNB6eF-3Y9b",
        "colab": {
          "base_uri": "https://localhost:8080/"
        },
        "outputId": "55451dac-9c19-42b7-ef78-97ee9c5ac33e"
      },
      "execution_count": 10,
      "outputs": [
        {
          "output_type": "execute_result",
          "data": {
            "text/plain": [
              "Training       28709\n",
              "PublicTest      3589\n",
              "PrivateTest     3589\n",
              "Name: Usage, dtype: int64"
            ]
          },
          "metadata": {},
          "execution_count": 10
        }
      ]
    },
    {
      "cell_type": "code",
      "source": [
        "data[\"emotion\"].value_counts()"
      ],
      "metadata": {
        "id": "hwW7yqYT3ju1",
        "colab": {
          "base_uri": "https://localhost:8080/"
        },
        "outputId": "1f136584-ba86-4f7b-a5f6-4a45abbca94b"
      },
      "execution_count": 11,
      "outputs": [
        {
          "output_type": "execute_result",
          "data": {
            "text/plain": [
              "3    8989\n",
              "6    6198\n",
              "4    6077\n",
              "2    5121\n",
              "0    4953\n",
              "5    4002\n",
              "1     547\n",
              "Name: emotion, dtype: int64"
            ]
          },
          "metadata": {},
          "execution_count": 11
        }
      ]
    },
    {
      "cell_type": "markdown",
      "source": [
        "as see there are seven different emotion."
      ],
      "metadata": {
        "id": "PBnw4X0U3sob"
      }
    },
    {
      "cell_type": "code",
      "source": [
        "def show_imag(df_row, pixel_string,class_col):\n",
        "  pixels = df_row[pixel_string]\n",
        "  label = df_row[class_col]\n",
        "  # convert into array\n",
        "  picture = np.array(pixels.split())\n",
        "  picture = picture.reshape(48,48)\n",
        "  image = np.zeros((48,48,3))\n",
        "  # slice the image\n",
        "  image[:,:,0] = picture\n",
        "  image[:,:,1] = picture\n",
        "  image[:,:,2] = picture\n",
        "\n",
        "  return np.array([image.astype(np.uint8),label])\n",
        "\n",
        "# iterate overl all emotions\n",
        "for emotion in range(1,8):\n",
        "  pic = data[data[\"emotion\"] == emotion -1].iloc[0]\n",
        "  pic = show_imag(pic,\"pixels\",\"emotion\")\n",
        "  plt.imshow(pic[0])\n",
        "  plt.title(pic[1])\n",
        "  plt.show()"
      ],
      "metadata": {
        "id": "6aQy4KeK3qDm",
        "colab": {
          "base_uri": "https://localhost:8080/",
          "height": 1000
        },
        "outputId": "b4bef85a-b9a3-404d-b026-337cc212e6ea"
      },
      "execution_count": 12,
      "outputs": [
        {
          "output_type": "display_data",
          "data": {
            "text/plain": [
              "<Figure size 432x288 with 1 Axes>"
            ],
            "image/png": "[encoded data removed]"
          },
          "metadata": {
            "needs_background": "light"
          }
        },
        {
          "output_type": "display_data",
          "data": {
            "text/plain": [
              "<Figure size 432x288 with 1 Axes>"
            ],
            "image/png": "[encoded data removed]"
          },
          "metadata": {
            "needs_background": "light"
          }
        },
        {
          "output_type": "display_data",
          "data": {
            "text/plain": [
              "<Figure size 432x288 with 1 Axes>"
            ],
            "image/png": "[encoded data removed]"
          },
          "metadata": {
            "needs_background": "light"
          }
        },
        {
          "output_type": "display_data",
          "data": {
            "text/plain": [
              "<Figure size 432x288 with 1 Axes>"
            ],
            "image/png": "[encoded data removed]"
          },
          "metadata": {
            "needs_background": "light"
          }
        },
        {
          "output_type": "display_data",
          "data": {
            "text/plain": [
              "<Figure size 432x288 with 1 Axes>"
            ],
            "image/png": "[encoded data removed]"
          },
          "metadata": {
            "needs_background": "light"
          }
        },
        {
          "output_type": "display_data",
          "data": {
            "text/plain": [
              "<Figure size 432x288 with 1 Axes>"
            ],
            "image/png": "[encoded data removed]"
          },
          "metadata": {
            "needs_background": "light"
          }
        },
        {
          "output_type": "display_data",
          "data": {
            "text/plain": [
              "<Figure size 432x288 with 1 Axes>"
            ],
            "image/png": "[encoded data removed]"
          },
          "metadata": {
            "needs_background": "light"
          }
        }
      ]
    },
    {
      "cell_type": "code",
      "source": [
        "emotion_dict = {0 : \"Angry\", 1:\"Disgust\", 2:\"Fear\", 3:\"happy\", 4:\"Sad\",5:\"Surprise\",6:\"Neutral\"}\n",
        "df = data.copy()\n",
        "df[\"emotion\"] = df[\"emotion\"].map(emotion_dict)\n",
        "plt.figure(figsize=(8,6))\n",
        "sns.countplot(x = df[\"emotion\"])\n",
        "plt.plot(\"Emotion\")"
      ],
      "metadata": {
        "id": "2yab5ds96Jrn",
        "colab": {
          "base_uri": "https://localhost:8080/",
          "height": 405
        },
        "outputId": "bb31104c-d111-4baa-9cf5-fb28dd8a851f"
      },
      "execution_count": 13,
      "outputs": [
        {
          "output_type": "execute_result",
          "data": {
            "text/plain": [
              "[<matplotlib.lines.Line2D at 0x7f0b48d43ed0>]"
            ]
          },
          "metadata": {},
          "execution_count": 13
        },
        {
          "output_type": "display_data",
          "data": {
            "text/plain": [
              "<Figure size 576x432 with 1 Axes>"
            ],
            "image/png": "[encoded data removed]"
          },
          "metadata": {
            "needs_background": "light"
          }
        }
      ]
    },
    {
      "cell_type": "markdown",
      "source": [
        "## **Data preprocessing**"
      ],
      "metadata": {
        "id": "8u9bPOGm7_Uf"
      }
    },
    {
      "cell_type": "code",
      "source": [
        "# split data into train validation and test\n",
        "train_data = data[data[\"Usage\"]== \"Training\"]\n",
        "val_data = data[data[\"Usage\"]== \"PublicTest\"]\n",
        "test_data = data[data[\"Usage\"]== \"PrivateTest\"]\n"
      ],
      "metadata": {
        "id": "Qx_oFwqc7gVm"
      },
      "execution_count": 14,
      "outputs": []
    },
    {
      "cell_type": "code",
      "source": [
        "print(\"train data\",train_data.shape)\n",
        "print(\"validation data\",val_data.shape)\n",
        "print(\"test data\",test_data.shape)"
      ],
      "metadata": {
        "id": "sSCq0tt28i0_",
        "colab": {
          "base_uri": "https://localhost:8080/"
        },
        "outputId": "5f4cad19-c253-44e7-a0de-a81bf7635b09"
      },
      "execution_count": 15,
      "outputs": [
        {
          "output_type": "stream",
          "name": "stdout",
          "text": [
            "train data (28709, 3)\n",
            "validation data (3589, 3)\n",
            "test data (3589, 3)\n"
          ]
        }
      ]
    },
    {
      "cell_type": "code",
      "source": [
        "for col in [train_data,val_data,test_data]:\n",
        "  col.reset_index(drop=True,inplace=True)\n",
        "  col.drop(\"Usage\",axis=1,inplace=True)"
      ],
      "metadata": {
        "id": "ZSs_dNrS8yDC"
      },
      "execution_count": 16,
      "outputs": []
    },
    {
      "cell_type": "code",
      "source": [
        "test_data[\"pixels\"] = test_data[\"pixels\"].apply(lambda pixels : [int(x)for x in pixels.split()])\n",
        "x_test = np.array(test_data[\"pixels\"].tolist(),dtype =\"float32\").reshape(-1,48,48,1)/255.0\n",
        "y_test = to_categorical(test_data[\"emotion\"],num_classes = 7,dtype =\"uint8\")"
      ],
      "metadata": {
        "id": "Yf7tb5B29bqC"
      },
      "execution_count": 17,
      "outputs": []
    },
    {
      "cell_type": "code",
      "source": [
        "# main directory path/\n",
        "path = \"/content/drive/MyDrive/Face Emotion Recognition - Milan Ajudiya/Data/\""
      ],
      "metadata": {
        "id": "yJInszzf-paq"
      },
      "execution_count": 18,
      "outputs": []
    },
    {
      "cell_type": "code",
      "source": [
        "def create_direc(path,class_list):\n",
        "  #create train validation directory\n",
        "  train_path = os.path.join(path,'train_directory__')\n",
        "  val_path = os.path.join(path,'valid_directory__')\n",
        "  os.mkdir(train_path)\n",
        "  os.mkdir(val_path)\n",
        "  for data_path,categ in {train_path :'train-' ,val_path:'valid-'}.items():\n",
        "    for label in class_list:\n",
        "      label_dir =os.path.join(data_path,categ+str(label))\n",
        "      os.mkdir(label_dir)"
      ],
      "metadata": {
        "id": "FLAuWZJBAFjz"
      },
      "execution_count": 20,
      "outputs": []
    },
    {
      "cell_type": "code",
      "source": [
        "create_direc(path,[0,1,2,3,4,5,6])"
      ],
      "metadata": {
        "id": "mQgN_kH3CEsR"
      },
      "execution_count": 21,
      "outputs": []
    },
    {
      "cell_type": "code",
      "source": [
        "train_path = \"/content/drive/MyDrive/Face Emotion Recognition - Milan Ajudiya/Data/train_directory__\"\n",
        "val_path = \"/content/drive/MyDrive/Face Emotion Recognition - Milan Ajudiya/Data/valid_directory__\""
      ],
      "metadata": {
        "id": "OTJomFLcwU3k"
      },
      "execution_count": 22,
      "outputs": []
    },
    {
      "cell_type": "code",
      "source": [
        "# save image\n",
        "def save_image(df1,df1_path,pixel_col,class_col,class_list,prefix):\n",
        "  for i in range(len(df1)):\n",
        "    pixel_string = df1[pixel_col][i]\n",
        "    pixels = list(map(int,pixel_string.split()))\n",
        "    matrix = np.array(pixels).reshape(48,48).astype(np.uint8)\n",
        "    imag = Image.fromarray(matrix)\n",
        "    for label in class_list: \n",
        "      if str(df1[class_col][i]) in prefix  + str(label):\n",
        "        imag.save(df1_path + \"/\" + prefix + str(label)+ \"/\" + prefix +str(label) + \"-\" +str(i) + \".png\")\n",
        "      else:\n",
        "        continue"
      ],
      "metadata": {
        "id": "s5vTgTaKyLPk"
      },
      "execution_count": 23,
      "outputs": []
    },
    {
      "cell_type": "code",
      "source": [
        "# train image\n",
        "save_image(train_data,train_path,\"pixels\",\"emotion\",[0,1,2,3,4,5,6],'train-')\n"
      ],
      "metadata": {
        "id": "RHlnr4LM0inL"
      },
      "execution_count": 24,
      "outputs": []
    },
    {
      "cell_type": "code",
      "source": [
        "#validation image\n",
        "save_image(val_data,val_path,\"pixels\",\"emotion\",[0,1,2,3,4,5,6],'valid-')"
      ],
      "metadata": {
        "id": "X6RwlkDe7ujq"
      },
      "execution_count": 25,
      "outputs": []
    },
    {
      "cell_type": "code",
      "source": [
        "# image preprocessing\n",
        "from keras.preprocessing.image import ImageDataGenerator\n",
        "def image_data_gen(train_path,val_path,target_size,batch_size,color_mode,class_mode):\n",
        "\n",
        "  # initialising generator for train validation\n",
        "  train_datagen = ImageDataGenerator(rescale = 1./255, rotation_range = 10, horizontal_flip = True, width_shift_range = 0.1, height_shift_range= 0.1, fill_mode= \"nearest\")\n",
        "  valid_datagen = ImageDataGenerator(rescale = 1./255)\n",
        "\n",
        "  train_generator = train_datagen.flow_from_directory(\n",
        "      train_path,\n",
        "      target_size=target_size,\n",
        "      batch_size=batch_size,\n",
        "      color_mode=color_mode,\n",
        "      seed = 42,\n",
        "      shuffle = True,\n",
        "      class_mode = class_mode)\n",
        "  \n",
        "  valid_generator = valid_datagen.flow_from_directory(\n",
        "      val_path,\n",
        "      target_size=target_size,\n",
        "      batch_size=batch_size,\n",
        "      color_mode=color_mode,\n",
        "      seed = 42,\n",
        "      shuffle = True,\n",
        "      class_mode = class_mode)\n",
        "  \n",
        "  return train_generator, valid_generator"
      ],
      "metadata": {
        "id": "GrM8YMQF1axo"
      },
      "execution_count": 26,
      "outputs": []
    },
    {
      "cell_type": "code",
      "source": [
        "# image generator\n",
        "train_gen, valid_gen = image_data_gen(train_path,val_path,target_size = (48,48),batch_size = 64, color_mode = \"grayscale\",class_mode = \"categorical\")"
      ],
      "metadata": {
        "colab": {
          "base_uri": "https://localhost:8080/"
        },
        "id": "mF3GjjZI4Cxa",
        "outputId": "f0ac190c-8bbf-4451-ed8c-12cbb0d89607"
      },
      "execution_count": 27,
      "outputs": [
        {
          "output_type": "stream",
          "name": "stdout",
          "text": [
            "Found 28709 images belonging to 7 classes.\n",
            "Found 3589 images belonging to 7 classes.\n"
          ]
        }
      ]
    },
    {
      "cell_type": "markdown",
      "source": [
        "### **Model Building**"
      ],
      "metadata": {
        "id": "iiMcTnpf4zxr"
      }
    },
    {
      "cell_type": "code",
      "source": [
        "model = Sequential()\n",
        "num_classes = 7\n",
        "\n",
        "# first block\n",
        "model.add(Convolution2D(64, kernel_size = 3, activation = \"relu\", padding = \"same\", input_shape =(48,48,1)))\n",
        "model.add(BatchNormalization())\n",
        "model.add(Convolution2D(64, kernel_size = 3, activation = \"relu\", padding = \"same\", input_shape =(48,48,1)))\n",
        "model.add(BatchNormalization())\n",
        "model.add(MaxPooling2D(pool_size=(2,2)))\n",
        "model.add(Dropout(0.25))\n",
        "\n",
        "# second block\n",
        "model.add(Convolution2D(128, kernel_size = 3, activation = \"relu\", padding = \"same\"))\n",
        "model.add(BatchNormalization())\n",
        "model.add(Convolution2D(128, kernel_size = 3, activation = \"relu\", padding = \"same\"))\n",
        "model.add(BatchNormalization())\n",
        "model.add(Convolution2D(128, kernel_size = 3, activation = \"relu\", padding = \"same\"))\n",
        "model.add(BatchNormalization())\n",
        "model.add(MaxPooling2D(pool_size=(2,2)))\n",
        "model.add(Dropout(0.3))\n",
        "\n",
        "# Third block\n",
        "model.add(Convolution2D(256, kernel_size = 3, activation = \"relu\", padding = \"same\"))\n",
        "model.add(BatchNormalization())\n",
        "model.add(Convolution2D(256, kernel_size = 3, activation = \"relu\", padding = \"same\"))\n",
        "model.add(BatchNormalization())\n",
        "model.add(Convolution2D(256, kernel_size = 3, activation = \"relu\", padding = \"same\"))\n",
        "model.add(BatchNormalization())\n",
        "model.add(MaxPooling2D(pool_size=(2,2)))\n",
        "model.add(Dropout(0.3))\n",
        "\n",
        "# fourth block\n",
        "model.add(Convolution2D(256, kernel_size = 3, activation = \"relu\", padding = \"same\"))\n",
        "model.add(BatchNormalization())\n",
        "model.add(Convolution2D(256, kernel_size = 3, activation = \"relu\", padding = \"same\"))\n",
        "model.add(BatchNormalization())\n",
        "model.add(Convolution2D(256, kernel_size = 3, activation = \"relu\", padding = \"same\"))\n",
        "model.add(BatchNormalization())\n",
        "model.add(MaxPooling2D(pool_size=(2,2)))\n",
        "model.add(Dropout(0.3))\n",
        "\n",
        "\n",
        "\n",
        "# flatten\n",
        "model.add(Flatten())\n",
        "\n",
        "model.add(Dense(num_classes, activation = \"softmax\"))\n",
        "\n",
        "#summary layer\n",
        "model.summary()\n",
        "\n"
      ],
      "metadata": {
        "colab": {
          "base_uri": "https://localhost:8080/"
        },
        "id": "1pHzcSYC4t_q",
        "outputId": "bf4499e0-2102-4863-f4c6-1264353cac69"
      },
      "execution_count": 28,
      "outputs": [
        {
          "output_type": "stream",
          "name": "stdout",
          "text": [
            "Model: \"sequential\"\n",
            "_________________________________________________________________\n",
            "Layer (type)                 Output Shape              Param #   \n",
            "=================================================================\n",
            "conv2d (Conv2D)              (None, 48, 48, 64)        640       \n",
            "_________________________________________________________________\n",
            "batch_normalization (BatchNo (None, 48, 48, 64)        256       \n",
            "_________________________________________________________________\n",
            "conv2d_1 (Conv2D)            (None, 48, 48, 64)        36928     \n",
            "_________________________________________________________________\n",
            "batch_normalization_1 (Batch (None, 48, 48, 64)        256       \n",
            "_________________________________________________________________\n",
            "max_pooling2d (MaxPooling2D) (None, 24, 24, 64)        0         \n",
            "_________________________________________________________________\n",
            "dropout (Dropout)            (None, 24, 24, 64)        0         \n",
            "_________________________________________________________________\n",
            "conv2d_2 (Conv2D)            (None, 24, 24, 128)       73856     \n",
            "_________________________________________________________________\n",
            "batch_normalization_2 (Batch (None, 24, 24, 128)       512       \n",
            "_________________________________________________________________\n",
            "conv2d_3 (Conv2D)            (None, 24, 24, 128)       147584    \n",
            "_________________________________________________________________\n",
            "batch_normalization_3 (Batch (None, 24, 24, 128)       512       \n",
            "_________________________________________________________________\n",
            "conv2d_4 (Conv2D)            (None, 24, 24, 128)       147584    \n",
            "_________________________________________________________________\n",
            "batch_normalization_4 (Batch (None, 24, 24, 128)       512       \n",
            "_________________________________________________________________\n",
            "max_pooling2d_1 (MaxPooling2 (None, 12, 12, 128)       0         \n",
            "_________________________________________________________________\n",
            "dropout_1 (Dropout)          (None, 12, 12, 128)       0         \n",
            "_________________________________________________________________\n",
            "conv2d_5 (Conv2D)            (None, 12, 12, 256)       295168    \n",
            "_________________________________________________________________\n",
            "batch_normalization_5 (Batch (None, 12, 12, 256)       1024      \n",
            "_________________________________________________________________\n",
            "conv2d_6 (Conv2D)            (None, 12, 12, 256)       590080    \n",
            "_________________________________________________________________\n",
            "batch_normalization_6 (Batch (None, 12, 12, 256)       1024      \n",
            "_________________________________________________________________\n",
            "conv2d_7 (Conv2D)            (None, 12, 12, 256)       590080    \n",
            "_________________________________________________________________\n",
            "batch_normalization_7 (Batch (None, 12, 12, 256)       1024      \n",
            "_________________________________________________________________\n",
            "max_pooling2d_2 (MaxPooling2 (None, 6, 6, 256)         0         \n",
            "_________________________________________________________________\n",
            "dropout_2 (Dropout)          (None, 6, 6, 256)         0         \n",
            "_________________________________________________________________\n",
            "conv2d_8 (Conv2D)            (None, 6, 6, 256)         590080    \n",
            "_________________________________________________________________\n",
            "batch_normalization_8 (Batch (None, 6, 6, 256)         1024      \n",
            "_________________________________________________________________\n",
            "conv2d_9 (Conv2D)            (None, 6, 6, 256)         590080    \n",
            "_________________________________________________________________\n",
            "batch_normalization_9 (Batch (None, 6, 6, 256)         1024      \n",
            "_________________________________________________________________\n",
            "conv2d_10 (Conv2D)           (None, 6, 6, 256)         590080    \n",
            "_________________________________________________________________\n",
            "batch_normalization_10 (Batc (None, 6, 6, 256)         1024      \n",
            "_________________________________________________________________\n",
            "max_pooling2d_3 (MaxPooling2 (None, 3, 3, 256)         0         \n",
            "_________________________________________________________________\n",
            "dropout_3 (Dropout)          (None, 3, 3, 256)         0         \n",
            "_________________________________________________________________\n",
            "flatten (Flatten)            (None, 2304)              0         \n",
            "_________________________________________________________________\n",
            "dense (Dense)                (None, 7)                 16135     \n",
            "=================================================================\n",
            "Total params: 3,676,487\n",
            "Trainable params: 3,672,391\n",
            "Non-trainable params: 4,096\n",
            "_________________________________________________________________\n"
          ]
        }
      ]
    },
    {
      "cell_type": "code",
      "source": [
        "opt = Adam(learning_rate = 0.0001,decay = 1e-6)\n",
        "model.compile(optimizer = opt , loss =\"categorical_crossentropy\" ,metrics =[\"accuracy\"])"
      ],
      "metadata": {
        "id": "2HYV4ONu7p10"
      },
      "execution_count": 29,
      "outputs": []
    },
    {
      "cell_type": "code",
      "source": [
        "# training\n",
        "\n",
        "early_stop = EarlyStopping(monitor = \"val_loss\",\n",
        "                           min_delta = 0, \n",
        "                           patience = 15,\n",
        "                           verbose = 1,\n",
        "                           restore_best_weights = True)\n",
        "\n",
        "#fitting \n",
        "validation_steps = (len(val_data)//64)\n",
        "\n",
        "history = model.fit(train_gen,\n",
        "                    steps_per_epoch = len(train_data)//64,\n",
        "                    epochs = 100,\n",
        "                    callbacks = early_stop,\n",
        "                    verbose = 1,\n",
        "                    validation_data = valid_gen,\n",
        "                    validation_steps = validation_steps\n",
        "                    )"
      ],
      "metadata": {
        "colab": {
          "base_uri": "https://localhost:8080/"
        },
        "id": "oSdM6oY4z5Hn",
        "outputId": "58cacc6a-9bba-4bec-b3af-e6f067256f7b"
      },
      "execution_count": 30,
      "outputs": [
        {
          "output_type": "stream",
          "name": "stdout",
          "text": [
            "Epoch 1/100\n",
            "448/448 [==============================] - 75s 139ms/step - loss: 2.9128 - accuracy: 0.2027 - val_loss: 1.9037 - val_accuracy: 0.2143\n",
            "Epoch 2/100\n",
            "448/448 [==============================] - 59s 131ms/step - loss: 2.1167 - accuracy: 0.2618 - val_loss: 1.7560 - val_accuracy: 0.3214\n",
            "Epoch 3/100\n",
            "448/448 [==============================] - 58s 130ms/step - loss: 1.9891 - accuracy: 0.2934 - val_loss: 1.6807 - val_accuracy: 0.3661\n",
            "Epoch 4/100\n",
            "448/448 [==============================] - 59s 131ms/step - loss: 1.8854 - accuracy: 0.3345 - val_loss: 1.5666 - val_accuracy: 0.4009\n",
            "Epoch 5/100\n",
            "448/448 [==============================] - 59s 131ms/step - loss: 1.7672 - accuracy: 0.3823 - val_loss: 1.7526 - val_accuracy: 0.4090\n",
            "Epoch 6/100\n",
            "448/448 [==============================] - 58s 130ms/step - loss: 1.6756 - accuracy: 0.4127 - val_loss: 1.7097 - val_accuracy: 0.4347\n",
            "Epoch 7/100\n",
            "448/448 [==============================] - 58s 130ms/step - loss: 1.5924 - accuracy: 0.4406 - val_loss: 1.6170 - val_accuracy: 0.4696\n",
            "Epoch 8/100\n",
            "448/448 [==============================] - 58s 129ms/step - loss: 1.5086 - accuracy: 0.4734 - val_loss: 1.6932 - val_accuracy: 0.4933\n",
            "Epoch 9/100\n",
            "448/448 [==============================] - 58s 129ms/step - loss: 1.4604 - accuracy: 0.4954 - val_loss: 1.5027 - val_accuracy: 0.5123\n",
            "Epoch 10/100\n",
            "448/448 [==============================] - 59s 131ms/step - loss: 1.4145 - accuracy: 0.5069 - val_loss: 1.6646 - val_accuracy: 0.5279\n",
            "Epoch 11/100\n",
            "448/448 [==============================] - 58s 129ms/step - loss: 1.3504 - accuracy: 0.5272 - val_loss: 1.7772 - val_accuracy: 0.5371\n",
            "Epoch 12/100\n",
            "448/448 [==============================] - 58s 129ms/step - loss: 1.3096 - accuracy: 0.5328 - val_loss: 1.2113 - val_accuracy: 0.5566\n",
            "Epoch 13/100\n",
            "448/448 [==============================] - 61s 137ms/step - loss: 1.2125 - accuracy: 0.5447 - val_loss: 1.1861 - val_accuracy: 0.5631\n",
            "Epoch 14/100\n",
            "448/448 [==============================] - 59s 132ms/step - loss: 1.1598 - accuracy: 0.5675 - val_loss: 1.1302 - val_accuracy: 0.5781\n",
            "Epoch 15/100\n",
            "448/448 [==============================] - 59s 131ms/step - loss: 1.1413 - accuracy: 0.5743 - val_loss: 1.1328 - val_accuracy: 0.5879\n",
            "Epoch 16/100\n",
            "448/448 [==============================] - 60s 134ms/step - loss: 1.1080 - accuracy: 0.5854 - val_loss: 1.1296 - val_accuracy: 0.5851\n",
            "Epoch 17/100\n",
            "448/448 [==============================] - 59s 132ms/step - loss: 1.1007 - accuracy: 0.5890 - val_loss: 1.1918 - val_accuracy: 0.5826\n",
            "Epoch 18/100\n",
            "448/448 [==============================] - 60s 133ms/step - loss: 1.0730 - accuracy: 0.5938 - val_loss: 1.0739 - val_accuracy: 0.6113\n",
            "Epoch 19/100\n",
            "448/448 [==============================] - 58s 129ms/step - loss: 1.0493 - accuracy: 0.6087 - val_loss: 1.0792 - val_accuracy: 0.6063\n",
            "Epoch 20/100\n",
            "448/448 [==============================] - 58s 130ms/step - loss: 1.0362 - accuracy: 0.6171 - val_loss: 1.1511 - val_accuracy: 0.5876\n",
            "Epoch 21/100\n",
            "448/448 [==============================] - 58s 129ms/step - loss: 1.0276 - accuracy: 0.6143 - val_loss: 1.1052 - val_accuracy: 0.6105\n",
            "Epoch 22/100\n",
            "448/448 [==============================] - 58s 129ms/step - loss: 0.9878 - accuracy: 0.6267 - val_loss: 1.0328 - val_accuracy: 0.6239\n",
            "Epoch 23/100\n",
            "448/448 [==============================] - 58s 129ms/step - loss: 0.9676 - accuracy: 0.6388 - val_loss: 1.0850 - val_accuracy: 0.6110\n",
            "Epoch 24/100\n",
            "448/448 [==============================] - 58s 129ms/step - loss: 0.9575 - accuracy: 0.6460 - val_loss: 1.0326 - val_accuracy: 0.6247\n",
            "Epoch 25/100\n",
            "448/448 [==============================] - 58s 130ms/step - loss: 0.9561 - accuracy: 0.6449 - val_loss: 1.0110 - val_accuracy: 0.6339\n",
            "Epoch 26/100\n",
            "448/448 [==============================] - 59s 131ms/step - loss: 0.9424 - accuracy: 0.6524 - val_loss: 1.0503 - val_accuracy: 0.6264\n",
            "Epoch 27/100\n",
            "448/448 [==============================] - 58s 129ms/step - loss: 0.9160 - accuracy: 0.6562 - val_loss: 1.0102 - val_accuracy: 0.6303\n",
            "Epoch 28/100\n",
            "448/448 [==============================] - 58s 129ms/step - loss: 0.9070 - accuracy: 0.6615 - val_loss: 1.0299 - val_accuracy: 0.6429\n",
            "Epoch 29/100\n",
            "448/448 [==============================] - 58s 129ms/step - loss: 0.8911 - accuracy: 0.6682 - val_loss: 1.0030 - val_accuracy: 0.6342\n",
            "Epoch 30/100\n",
            "448/448 [==============================] - 57s 128ms/step - loss: 0.8806 - accuracy: 0.6639 - val_loss: 1.0607 - val_accuracy: 0.6208\n",
            "Epoch 31/100\n",
            "448/448 [==============================] - 58s 130ms/step - loss: 0.8741 - accuracy: 0.6750 - val_loss: 1.0406 - val_accuracy: 0.6496\n",
            "Epoch 32/100\n",
            "448/448 [==============================] - 58s 129ms/step - loss: 0.8575 - accuracy: 0.6751 - val_loss: 1.0014 - val_accuracy: 0.6390\n",
            "Epoch 33/100\n",
            "448/448 [==============================] - 58s 129ms/step - loss: 0.8451 - accuracy: 0.6855 - val_loss: 1.0321 - val_accuracy: 0.6468\n",
            "Epoch 34/100\n",
            "448/448 [==============================] - 58s 129ms/step - loss: 0.8358 - accuracy: 0.6852 - val_loss: 1.0244 - val_accuracy: 0.6356\n",
            "Epoch 35/100\n",
            "448/448 [==============================] - 58s 129ms/step - loss: 0.8293 - accuracy: 0.6831 - val_loss: 1.0343 - val_accuracy: 0.6283\n",
            "Epoch 36/100\n",
            "448/448 [==============================] - 58s 130ms/step - loss: 0.8294 - accuracy: 0.6912 - val_loss: 0.9994 - val_accuracy: 0.6512\n",
            "Epoch 37/100\n",
            "448/448 [==============================] - 57s 128ms/step - loss: 0.7944 - accuracy: 0.7027 - val_loss: 1.0275 - val_accuracy: 0.6498\n",
            "Epoch 38/100\n",
            "448/448 [==============================] - 58s 129ms/step - loss: 0.7860 - accuracy: 0.7071 - val_loss: 1.0259 - val_accuracy: 0.6465\n",
            "Epoch 39/100\n",
            "448/448 [==============================] - 57s 128ms/step - loss: 0.7840 - accuracy: 0.7030 - val_loss: 0.9982 - val_accuracy: 0.6529\n",
            "Epoch 40/100\n",
            "448/448 [==============================] - 57s 127ms/step - loss: 0.7592 - accuracy: 0.7158 - val_loss: 1.0627 - val_accuracy: 0.6546\n",
            "Epoch 41/100\n",
            "448/448 [==============================] - 57s 128ms/step - loss: 0.7588 - accuracy: 0.7135 - val_loss: 1.0242 - val_accuracy: 0.6498\n",
            "Epoch 42/100\n",
            "448/448 [==============================] - 58s 129ms/step - loss: 0.7479 - accuracy: 0.7254 - val_loss: 1.0097 - val_accuracy: 0.6657\n",
            "Epoch 43/100\n",
            "448/448 [==============================] - 57s 128ms/step - loss: 0.7333 - accuracy: 0.7264 - val_loss: 0.9964 - val_accuracy: 0.6590\n",
            "Epoch 44/100\n",
            "448/448 [==============================] - 57s 128ms/step - loss: 0.7306 - accuracy: 0.7282 - val_loss: 1.0598 - val_accuracy: 0.6501\n",
            "Epoch 45/100\n",
            "448/448 [==============================] - 58s 128ms/step - loss: 0.7286 - accuracy: 0.7301 - val_loss: 0.9949 - val_accuracy: 0.6568\n",
            "Epoch 46/100\n",
            "448/448 [==============================] - 57s 128ms/step - loss: 0.7047 - accuracy: 0.7375 - val_loss: 1.0214 - val_accuracy: 0.6549\n",
            "Epoch 47/100\n",
            "448/448 [==============================] - 58s 129ms/step - loss: 0.6933 - accuracy: 0.7422 - val_loss: 1.0032 - val_accuracy: 0.6655\n",
            "Epoch 48/100\n",
            "448/448 [==============================] - 58s 129ms/step - loss: 0.6772 - accuracy: 0.7454 - val_loss: 1.0316 - val_accuracy: 0.6604\n",
            "Epoch 49/100\n",
            "448/448 [==============================] - 58s 129ms/step - loss: 0.6730 - accuracy: 0.7479 - val_loss: 1.0542 - val_accuracy: 0.6694\n",
            "Epoch 50/100\n",
            "448/448 [==============================] - 57s 128ms/step - loss: 0.6692 - accuracy: 0.7518 - val_loss: 1.0354 - val_accuracy: 0.6643\n",
            "Epoch 51/100\n",
            "448/448 [==============================] - 57s 127ms/step - loss: 0.6593 - accuracy: 0.7532 - val_loss: 1.0551 - val_accuracy: 0.6655\n",
            "Epoch 52/100\n",
            "448/448 [==============================] - 57s 128ms/step - loss: 0.6312 - accuracy: 0.7660 - val_loss: 1.0581 - val_accuracy: 0.6574\n",
            "Epoch 53/100\n",
            "448/448 [==============================] - 59s 131ms/step - loss: 0.6291 - accuracy: 0.7654 - val_loss: 1.0647 - val_accuracy: 0.6590\n",
            "Epoch 54/100\n",
            "448/448 [==============================] - 58s 130ms/step - loss: 0.6164 - accuracy: 0.7699 - val_loss: 1.0479 - val_accuracy: 0.6783\n",
            "Epoch 55/100\n",
            "448/448 [==============================] - 58s 129ms/step - loss: 0.5995 - accuracy: 0.7757 - val_loss: 1.0519 - val_accuracy: 0.6666\n",
            "Epoch 56/100\n",
            "448/448 [==============================] - 57s 128ms/step - loss: 0.6132 - accuracy: 0.7739 - val_loss: 1.0807 - val_accuracy: 0.6652\n",
            "Epoch 57/100\n",
            "448/448 [==============================] - 58s 129ms/step - loss: 0.5900 - accuracy: 0.7845 - val_loss: 1.0536 - val_accuracy: 0.6741\n",
            "Epoch 58/100\n",
            "448/448 [==============================] - 58s 130ms/step - loss: 0.5814 - accuracy: 0.7827 - val_loss: 1.0896 - val_accuracy: 0.6713\n",
            "Epoch 59/100\n",
            "448/448 [==============================] - 58s 129ms/step - loss: 0.5809 - accuracy: 0.7840 - val_loss: 1.1208 - val_accuracy: 0.6551\n",
            "Epoch 60/100\n",
            "448/448 [==============================] - 57s 126ms/step - loss: 0.5739 - accuracy: 0.7851 - val_loss: 1.1115 - val_accuracy: 0.6574\n",
            "Restoring model weights from the end of the best epoch.\n",
            "Epoch 00060: early stopping\n"
          ]
        }
      ]
    },
    {
      "cell_type": "code",
      "source": [
        "#saving history of model in dataframe\n",
        "df_model = pd.DataFrame(model.history.history)"
      ],
      "metadata": {
        "id": "ua5fr_Zq2QIg"
      },
      "execution_count": 32,
      "outputs": []
    },
    {
      "cell_type": "code",
      "source": [
        "# plot loss\n",
        "df_model[[\"loss\",\"val_loss\"]].plot(figsize=(10,6))\n",
        "plt.title(\"Loss plot of training and validation data\")"
      ],
      "metadata": {
        "id": "Iqro1hZVWNfl",
        "colab": {
          "base_uri": "https://localhost:8080/",
          "height": 407
        },
        "outputId": "0fc63eb9-b4e2-4fc9-fecf-b851947e096d"
      },
      "execution_count": 33,
      "outputs": [
        {
          "output_type": "execute_result",
          "data": {
            "text/plain": [
              "Text(0.5, 1.0, 'Loss plot of training and validation data')"
            ]
          },
          "metadata": {},
          "execution_count": 33
        },
        {
          "output_type": "display_data",
          "data": {
            "text/plain": [
              "<Figure size 720x432 with 1 Axes>"
            ],
            "image/png": "[encoded data removed]"
          },
          "metadata": {
            "needs_background": "light"
          }
        }
      ]
    },
    {
      "cell_type": "code",
      "source": [
        "# plot accuracy\n",
        "df_model[[\"accuracy\",\"val_accuracy\"]].plot(figsize=(10,6))\n",
        "plt.title(\"Accuracy plot of training and validation data\")"
      ],
      "metadata": {
        "id": "DrPEgi34WoJi",
        "colab": {
          "base_uri": "https://localhost:8080/",
          "height": 407
        },
        "outputId": "a2874e67-e22d-4171-8f2b-ac31e7ad4cc9"
      },
      "execution_count": 34,
      "outputs": [
        {
          "output_type": "execute_result",
          "data": {
            "text/plain": [
              "Text(0.5, 1.0, 'Accuracy plot of training and validation data')"
            ]
          },
          "metadata": {},
          "execution_count": 34
        },
        {
          "output_type": "display_data",
          "data": {
            "text/plain": [
              "<Figure size 720x432 with 1 Axes>"
            ],
            "image/png": "[encoded data removed]"
          },
          "metadata": {
            "needs_background": "light"
          }
        }
      ]
    },
    {
      "cell_type": "code",
      "source": [
        "y_true = np.argmax(y_test,axis=1)\n",
        "y_pred = np.argmax(model.predict(x_test),axis=1)"
      ],
      "metadata": {
        "id": "yq7NIF6AW0Td"
      },
      "execution_count": 36,
      "outputs": []
    },
    {
      "cell_type": "code",
      "source": [
        "print(\"Classification report\",classification_report(y_true,y_pred))"
      ],
      "metadata": {
        "id": "-axTwvXEXIin",
        "colab": {
          "base_uri": "https://localhost:8080/"
        },
        "outputId": "9a444666-9a6f-4b83-f6ae-d18d8d854bd3"
      },
      "execution_count": 37,
      "outputs": [
        {
          "output_type": "stream",
          "name": "stdout",
          "text": [
            "Classification report               precision    recall  f1-score   support\n",
            "\n",
            "           0       0.56      0.64      0.60       491\n",
            "           1       0.59      0.65      0.62        55\n",
            "           2       0.54      0.41      0.47       528\n",
            "           3       0.88      0.86      0.87       879\n",
            "           4       0.53      0.52      0.52       594\n",
            "           5       0.77      0.77      0.77       416\n",
            "           6       0.62      0.69      0.65       626\n",
            "\n",
            "    accuracy                           0.67      3589\n",
            "   macro avg       0.64      0.65      0.64      3589\n",
            "weighted avg       0.67      0.67      0.66      3589\n",
            "\n"
          ]
        }
      ]
    },
    {
      "cell_type": "code",
      "source": [
        "# save model\n",
        "model.save(\"/content/drive/MyDrive/Face Emotion Recognition - Milan Ajudiya/Data/face emotion detection model/emotion_detection_model.h5\")"
      ],
      "metadata": {
        "id": "WuoJv-DnXYik"
      },
      "execution_count": 38,
      "outputs": []
    },
    {
      "cell_type": "markdown",
      "source": [
        "Real Time Detection"
      ],
      "metadata": {
        "id": "4fwD-dSkBzWD"
      }
    },
    {
      "cell_type": "code",
      "source": [
        "model = tensorflow.keras.models.load_model(\"/content/drive/MyDrive/Face Emotion Recognition - Milan Ajudiya/Data/face emotion detection model/emotion_detection_model.h5\")"
      ],
      "metadata": {
        "id": "9l3DXNGpX_3W"
      },
      "execution_count": 39,
      "outputs": []
    },
    {
      "cell_type": "code",
      "source": [
        "face_haar_cascade = cv2.CascadeClassifier('/content/drive/MyDrive/Face Emotion Recognition - Milan Ajudiya/Data/haarcascade_frontalface_default.xml')"
      ],
      "metadata": {
        "id": "vW2XyMWSYVvh"
      },
      "execution_count": 44,
      "outputs": []
    },
    {
      "cell_type": "code",
      "source": [
        "#real time detection\n",
        "cap = cv2.VideoCapture(0)\n",
        "while cap.isOpened():\n",
        "  ret,imag = cap.read()\n",
        "  height,width,channel = imag.shape\n",
        "  sub_imag = imag[0:int(height/6),0:int(width)]\n",
        "  heading = np.ones(sub_imag.shape, dtype = np.uint8)*0\n",
        "  result = cv2.addWeighted(sub_imag, 0.82, heading, 0.18, 0)\n",
        "  font = cv2.FONT_HERSHEY_SIMPLEX\n",
        "  font_scale = 0.9\n",
        "  font_thickness = 2\n",
        "  lable_color = (0, 255, 0)\n",
        "  lable = \"Face Emotion Detection\"\n",
        "  lable_dimension = cv2.getTextSize(lable,font,font_scale,font_thickness)[0]\n",
        "  textX = int((result.shape[1] - lable_dimension[0])/2)\n",
        "  textY = int((result.shape[0] + lable_dimension[1])/2)\n",
        "  cv2.putText(result, lable,(textX,textY),font,font_scale,(0,0,0),font_thickness) \n",
        "\n",
        "  # prediction\n",
        "  gray_image = cv2.cvtColor(imag,cv2.COLOR_BGR2GRAY)\n",
        "  # detect face\n",
        "  faces = face_haar_cascade.detectMultiScale(gray_image)\n",
        "  try:\n",
        "    for(x,y,w,h) in faces:\n",
        "      #rectangle\n",
        "      cv2.rectangle(imag, pt1 = (x,y), pt2 = (x+w,y+h), color = (0,0,255), thickness = 2)\n",
        "      roi_gray = gray_image[y-5:y+h+5, x-5:x+w+5]\n",
        "      roi_gray = cv2.resize(roi_gray,(48,48))\n",
        "      image_pixels = tensorflow.keras.preprocessing.image.image_to_array(roi_gray)\n",
        "      image_pixels = np.expand_dims(image_pixels,axis = 0)\n",
        "      image_pixels /= 255\n",
        "      prediction = model.predict(image_pixels)\n",
        "      max_index = np.argmax(prediction[0])\n",
        "      emotion_detection = (\"Angry\",\"Disgust\",\"Fear\",\"happy\",\"Sad\",\"Surprise\",\"Neutral\")\n",
        "      emotion_prediction = emotion_detection[max_index]\n",
        "      cv2.putText(imag, emotion_prediction, (int(x+w/3),int(y)),font,0.9,lable_color,2)\n",
        "  except:\n",
        "    pass\n",
        "  imag[0:int(height/6),0:int(width)] = result\n",
        "  cv2.imshow(\"Face Emotion Detection\",imag)\n",
        "  # press Q to close \n",
        "  if cv2.waitKey(1) == ord(\"Q\"):\n",
        "    break\n",
        "\n",
        "cap.release()\n",
        "cv2.destroyAllWindows()"
      ],
      "metadata": {
        "id": "R8iYX-ylY08S"
      },
      "execution_count": 42,
      "outputs": []
    },
    {
      "cell_type": "code",
      "source": [],
      "metadata": {
        "id": "ReutYt0uDV9-"
      },
      "execution_count": null,
      "outputs": []
    }
  ]
}