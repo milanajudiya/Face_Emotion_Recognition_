{
  "cells": [
    {
      "cell_type": "markdown",
      "metadata": {
        "id": "view-in-github",
        "colab_type": "text"
      },
      "source": [
        "<a href=\"https://colab.research.google.com/github/milanajudiya/Face_Emotion_Recognition_/blob/main/Face_Emotion_Recognition.ipynb\" target=\"_parent\"><img src=\"https://colab.research.google.com/assets/colab-badge.svg\" alt=\"Open In Colab\"/></a>"
      ]
    },
    {
      "cell_type": "markdown",
      "metadata": {
        "id": "MJ-LH1UVpPxJ"
      },
      "source": [
        "# **Project Introduction**\n",
        "The Indian education landscape has been undergoing rapid changes for the past 10 years owing to the advancement of web-based learning services, specifically, eLearning platforms.Global E-learning is estimated to witness an 8X over the next 5 years to reach USD 2B in 2021. India\n",
        "is expected to grow with a CAGR of 44% crossing the 10M users mark in 2021. Although the market\n",
        "is growing on a rapid scale, there are major challenges associated with digital learning when\n",
        "compared with brick and mortar classrooms. One of many challenges is how to ensure quality\n",
        "learning for students. Digital platforms might overpower physical classrooms in terms of content\n",
        "quality but when it comes to understanding whether students are able to grasp the content in a live\n",
        "class scenario is yet an open-end challenge.\n",
        "In a physical classroom during a lecturing teacher can see the faces and assess the emotion of the\n",
        "class and tune their lecture accordingly, whether he is going fast or slow. He can identify students who\n",
        "need special attention. Digital classrooms are conducted via video telephony software program (ex\u0002Zoom) where it’s not possible for medium scale class (25-50) to see all students and access the\n",
        "mood. Because of this drawback, students are not focusing on content due to lack of surveillance.\n",
        "While digital platforms have limitations in terms of physical surveillance but it comes with the power of\n",
        "data and machines which can work for you. It provides data in the form of video, audio, and texts\n",
        "which can be analysed using deep learning algorithms. Deep learning backed system not only solves\n",
        "the surveillance issue, but it also removes the human bias from the system, and all information is no\n",
        "longer in the teacher’s brain rather translated in numbers that can be analysed and tracked.\n"
      ]
    },
    {
      "cell_type": "markdown",
      "metadata": {
        "id": "FJo30lRYpukr"
      },
      "source": [
        "## **Problem Statements**\n",
        "We will solve the above-mentioned challenge by applying deep learning algorithms to live video data.\n",
        "The solution to this problem is by recognizing facial emotions"
      ]
    },
    {
      "cell_type": "code",
      "execution_count": 1,
      "metadata": {
        "colab": {
          "base_uri": "https://localhost:8080/"
        },
        "id": "ForH8vJ6qx-v",
        "outputId": "3661921e-dbc1-4771-baf5-8e4396042a01"
      },
      "outputs": [
        {
          "output_type": "stream",
          "name": "stdout",
          "text": [
            "Python 3.7.13\n"
          ]
        }
      ],
      "source": [
        "!python --version"
      ]
    },
    {
      "cell_type": "code",
      "execution_count": 1,
      "metadata": {
        "colab": {
          "base_uri": "https://localhost:8080/"
        },
        "id": "2Pf39H3BseM5",
        "outputId": "f186b02a-d534-41bb-c233-84c5e875cc40"
      },
      "outputs": [
        {
          "output_type": "stream",
          "name": "stdout",
          "text": [
            "Looking in indexes: https://pypi.org/simple, https://us-python.pkg.dev/colab-wheels/public/simple/\n",
            "Requirement already satisfied: tensorflow===2.4.1 in /usr/local/lib/python3.7/dist-packages (2.4.1)\n",
            "Requirement already satisfied: keras-preprocessing~=1.1.2 in /usr/local/lib/python3.7/dist-packages (from tensorflow===2.4.1) (1.1.2)\n",
            "Requirement already satisfied: wrapt~=1.12.1 in /usr/local/lib/python3.7/dist-packages (from tensorflow===2.4.1) (1.12.1)\n",
            "Requirement already satisfied: astunparse~=1.6.3 in /usr/local/lib/python3.7/dist-packages (from tensorflow===2.4.1) (1.6.3)\n",
            "Requirement already satisfied: gast==0.3.3 in /usr/local/lib/python3.7/dist-packages (from tensorflow===2.4.1) (0.3.3)\n",
            "Requirement already satisfied: absl-py~=0.10 in /usr/local/lib/python3.7/dist-packages (from tensorflow===2.4.1) (0.15.0)\n",
            "Requirement already satisfied: opt-einsum~=3.3.0 in /usr/local/lib/python3.7/dist-packages (from tensorflow===2.4.1) (3.3.0)\n",
            "Requirement already satisfied: numpy~=1.19.2 in /usr/local/lib/python3.7/dist-packages (from tensorflow===2.4.1) (1.19.5)\n",
            "Requirement already satisfied: six~=1.15.0 in /usr/local/lib/python3.7/dist-packages (from tensorflow===2.4.1) (1.15.0)\n",
            "Requirement already satisfied: tensorflow-estimator<2.5.0,>=2.4.0 in /usr/local/lib/python3.7/dist-packages (from tensorflow===2.4.1) (2.4.0)\n",
            "Requirement already satisfied: grpcio~=1.32.0 in /usr/local/lib/python3.7/dist-packages (from tensorflow===2.4.1) (1.32.0)\n",
            "Requirement already satisfied: tensorboard~=2.4 in /usr/local/lib/python3.7/dist-packages (from tensorflow===2.4.1) (2.6.0)\n",
            "Requirement already satisfied: google-pasta~=0.2 in /usr/local/lib/python3.7/dist-packages (from tensorflow===2.4.1) (0.2.0)\n",
            "Requirement already satisfied: flatbuffers~=1.12.0 in /usr/local/lib/python3.7/dist-packages (from tensorflow===2.4.1) (1.12)\n",
            "Requirement already satisfied: wheel~=0.35 in /usr/local/lib/python3.7/dist-packages (from tensorflow===2.4.1) (0.37.1)\n",
            "Requirement already satisfied: typing-extensions~=3.7.4 in /usr/local/lib/python3.7/dist-packages (from tensorflow===2.4.1) (3.7.4.3)\n",
            "Requirement already satisfied: termcolor~=1.1.0 in /usr/local/lib/python3.7/dist-packages (from tensorflow===2.4.1) (1.1.0)\n",
            "Requirement already satisfied: protobuf>=3.9.2 in /usr/local/lib/python3.7/dist-packages (from tensorflow===2.4.1) (3.17.3)\n",
            "Requirement already satisfied: h5py~=2.10.0 in /usr/local/lib/python3.7/dist-packages (from tensorflow===2.4.1) (2.10.0)\n",
            "Requirement already satisfied: werkzeug>=0.11.15 in /usr/local/lib/python3.7/dist-packages (from tensorboard~=2.4->tensorflow===2.4.1) (1.0.1)\n",
            "Requirement already satisfied: google-auth<2,>=1.6.3 in /usr/local/lib/python3.7/dist-packages (from tensorboard~=2.4->tensorflow===2.4.1) (1.35.0)\n",
            "Requirement already satisfied: requests<3,>=2.21.0 in /usr/local/lib/python3.7/dist-packages (from tensorboard~=2.4->tensorflow===2.4.1) (2.23.0)\n",
            "Requirement already satisfied: google-auth-oauthlib<0.5,>=0.4.1 in /usr/local/lib/python3.7/dist-packages (from tensorboard~=2.4->tensorflow===2.4.1) (0.4.6)\n",
            "Requirement already satisfied: tensorboard-data-server<0.7.0,>=0.6.0 in /usr/local/lib/python3.7/dist-packages (from tensorboard~=2.4->tensorflow===2.4.1) (0.6.1)\n",
            "Requirement already satisfied: tensorboard-plugin-wit>=1.6.0 in /usr/local/lib/python3.7/dist-packages (from tensorboard~=2.4->tensorflow===2.4.1) (1.8.1)\n",
            "Requirement already satisfied: setuptools>=41.0.0 in /usr/local/lib/python3.7/dist-packages (from tensorboard~=2.4->tensorflow===2.4.1) (57.4.0)\n",
            "Requirement already satisfied: markdown>=2.6.8 in /usr/local/lib/python3.7/dist-packages (from tensorboard~=2.4->tensorflow===2.4.1) (3.4.1)\n",
            "Requirement already satisfied: pyasn1-modules>=0.2.1 in /usr/local/lib/python3.7/dist-packages (from google-auth<2,>=1.6.3->tensorboard~=2.4->tensorflow===2.4.1) (0.2.8)\n",
            "Requirement already satisfied: rsa<5,>=3.1.4 in /usr/local/lib/python3.7/dist-packages (from google-auth<2,>=1.6.3->tensorboard~=2.4->tensorflow===2.4.1) (4.9)\n",
            "Requirement already satisfied: cachetools<5.0,>=2.0.0 in /usr/local/lib/python3.7/dist-packages (from google-auth<2,>=1.6.3->tensorboard~=2.4->tensorflow===2.4.1) (4.2.4)\n",
            "Requirement already satisfied: requests-oauthlib>=0.7.0 in /usr/local/lib/python3.7/dist-packages (from google-auth-oauthlib<0.5,>=0.4.1->tensorboard~=2.4->tensorflow===2.4.1) (1.3.1)\n",
            "Requirement already satisfied: importlib-metadata>=4.4 in /usr/local/lib/python3.7/dist-packages (from markdown>=2.6.8->tensorboard~=2.4->tensorflow===2.4.1) (4.12.0)\n",
            "Requirement already satisfied: zipp>=0.5 in /usr/local/lib/python3.7/dist-packages (from importlib-metadata>=4.4->markdown>=2.6.8->tensorboard~=2.4->tensorflow===2.4.1) (3.8.1)\n",
            "Requirement already satisfied: pyasn1<0.5.0,>=0.4.6 in /usr/local/lib/python3.7/dist-packages (from pyasn1-modules>=0.2.1->google-auth<2,>=1.6.3->tensorboard~=2.4->tensorflow===2.4.1) (0.4.8)\n",
            "Requirement already satisfied: urllib3!=1.25.0,!=1.25.1,<1.26,>=1.21.1 in /usr/local/lib/python3.7/dist-packages (from requests<3,>=2.21.0->tensorboard~=2.4->tensorflow===2.4.1) (1.24.3)\n",
            "Requirement already satisfied: idna<3,>=2.5 in /usr/local/lib/python3.7/dist-packages (from requests<3,>=2.21.0->tensorboard~=2.4->tensorflow===2.4.1) (2.10)\n",
            "Requirement already satisfied: chardet<4,>=3.0.2 in /usr/local/lib/python3.7/dist-packages (from requests<3,>=2.21.0->tensorboard~=2.4->tensorflow===2.4.1) (3.0.4)\n",
            "Requirement already satisfied: certifi>=2017.4.17 in /usr/local/lib/python3.7/dist-packages (from requests<3,>=2.21.0->tensorboard~=2.4->tensorflow===2.4.1) (2022.6.15)\n",
            "Requirement already satisfied: oauthlib>=3.0.0 in /usr/local/lib/python3.7/dist-packages (from requests-oauthlib>=0.7.0->google-auth-oauthlib<0.5,>=0.4.1->tensorboard~=2.4->tensorflow===2.4.1) (3.2.0)\n"
          ]
        }
      ],
      "source": [
        "!pip install tensorflow===2.4.1"
      ]
    },
    {
      "cell_type": "code",
      "execution_count": 2,
      "metadata": {
        "colab": {
          "base_uri": "https://localhost:8080/"
        },
        "id": "WeNfvoVrtfHV",
        "outputId": "a6c4fe67-5500-49af-bb8e-ef80e0806faf"
      },
      "outputs": [
        {
          "output_type": "stream",
          "name": "stdout",
          "text": [
            "Looking in indexes: https://pypi.org/simple, https://us-python.pkg.dev/colab-wheels/public/simple/\n",
            "Requirement already satisfied: keras===2.4.3 in /usr/local/lib/python3.7/dist-packages (2.4.3)\n",
            "Requirement already satisfied: scipy>=0.14 in /usr/local/lib/python3.7/dist-packages (from keras===2.4.3) (1.7.3)\n",
            "Requirement already satisfied: h5py in /usr/local/lib/python3.7/dist-packages (from keras===2.4.3) (2.10.0)\n",
            "Requirement already satisfied: pyyaml in /usr/local/lib/python3.7/dist-packages (from keras===2.4.3) (6.0)\n",
            "Requirement already satisfied: numpy>=1.9.1 in /usr/local/lib/python3.7/dist-packages (from keras===2.4.3) (1.19.5)\n",
            "Requirement already satisfied: six in /usr/local/lib/python3.7/dist-packages (from h5py->keras===2.4.3) (1.15.0)\n"
          ]
        }
      ],
      "source": [
        "!pip install keras===2.4.3"
      ]
    },
    {
      "cell_type": "code",
      "execution_count": 3,
      "metadata": {
        "id": "qcbenYjgpAbe"
      },
      "outputs": [],
      "source": [
        "# import libraries\n",
        "import pandas as pd\n",
        "import numpy as np\n",
        "import seaborn as sns\n",
        "import matplotlib.pyplot as plt\n",
        "#inline matplotlib\n",
        "\n",
        "import tensorflow \n",
        "from tensorflow.keras.utils import to_categorical\n",
        "import os\n",
        "from PIL import Image\n",
        "\n",
        "from keras.models import Sequential\n",
        "from keras.layers import Dense, Dropout, Activation, Flatten, BatchNormalization\n",
        "from keras.layers.convolutional import Convolution2D, MaxPooling2D, ZeroPadding2D\n",
        "from tensorflow.keras.optimizers import Adam, SGD\n",
        "from keras.callbacks import EarlyStopping\n",
        "\n",
        "from sklearn.metrics import classification_report\n",
        "import cv2\n",
        "\n",
        "import warnings\n",
        "warnings.filterwarnings(\"ignore\")\n",
        "warnings.simplefilter(\"ignore\")"
      ]
    },
    {
      "cell_type": "code",
      "execution_count": 4,
      "metadata": {
        "colab": {
          "base_uri": "https://localhost:8080/",
          "height": 36
        },
        "id": "MJ8GYSkqpBDE",
        "outputId": "68289b80-f162-46ba-f978-5840fbf5f0ad"
      },
      "outputs": [
        {
          "output_type": "execute_result",
          "data": {
            "text/plain": [
              "'/device:GPU:0'"
            ],
            "application/vnd.google.colaboratory.intrinsic+json": {
              "type": "string"
            }
          },
          "metadata": {},
          "execution_count": 4
        }
      ],
      "source": [
        "tensorflow.test.gpu_device_name()"
      ]
    },
    {
      "cell_type": "code",
      "execution_count": 5,
      "metadata": {
        "colab": {
          "base_uri": "https://localhost:8080/"
        },
        "id": "Mzp8BxQJ3BYo",
        "outputId": "70e1d30a-3431-4900-ef3f-bd0ebad3f5c6"
      },
      "outputs": [
        {
          "output_type": "stream",
          "name": "stdout",
          "text": [
            "Drive already mounted at /content/drive; to attempt to forcibly remount, call drive.mount(\"/content/drive\", force_remount=True).\n"
          ]
        }
      ],
      "source": [
        "from google.colab import drive\n",
        "drive.mount('/content/drive')"
      ]
    },
    {
      "cell_type": "code",
      "execution_count": 6,
      "metadata": {
        "id": "uTyk2M7PsHsN"
      },
      "outputs": [],
      "source": [
        "data = pd.read_csv(\"/content/drive/MyDrive/Face Emotion Recognition - Milan Ajudiya/Data/fer2013.csv\")"
      ]
    },
    {
      "cell_type": "code",
      "execution_count": 7,
      "metadata": {
        "colab": {
          "base_uri": "https://localhost:8080/",
          "height": 206
        },
        "id": "If29QXWU2xNe",
        "outputId": "8ada1c64-3c40-4bdf-9aa5-36570f7e6056"
      },
      "outputs": [
        {
          "output_type": "execute_result",
          "data": {
            "text/plain": [
              "   emotion                                             pixels     Usage\n",
              "0        0  70 80 82 72 58 58 60 63 54 58 60 48 89 115 121...  Training\n",
              "1        0  151 150 147 155 148 133 111 140 170 174 182 15...  Training\n",
              "2        2  231 212 156 164 174 138 161 173 182 200 106 38...  Training\n",
              "3        4  24 32 36 30 32 23 19 20 30 41 21 22 32 34 21 1...  Training\n",
              "4        6  4 0 0 0 0 0 0 0 0 0 0 0 3 15 23 28 48 50 58 84...  Training"
            ],
            "text/html": [
              "\n",
              "  <div id=\"df-92a222e7-01d6-4dc0-a9e6-139bbcce0b36\">\n",
              "    <div class=\"colab-df-container\">\n",
              "      <div>\n",
              "<style scoped>\n",
              "    .dataframe tbody tr th:only-of-type {\n",
              "        vertical-align: middle;\n",
              "    }\n",
              "\n",
              "    .dataframe tbody tr th {\n",
              "        vertical-align: top;\n",
              "    }\n",
              "\n",
              "    .dataframe thead th {\n",
              "        text-align: right;\n",
              "    }\n",
              "</style>\n",
              "<table border=\"1\" class=\"dataframe\">\n",
              "  <thead>\n",
              "    <tr style=\"text-align: right;\">\n",
              "      <th></th>\n",
              "      <th>emotion</th>\n",
              "      <th>pixels</th>\n",
              "      <th>Usage</th>\n",
              "    </tr>\n",
              "  </thead>\n",
              "  <tbody>\n",
              "    <tr>\n",
              "      <th>0</th>\n",
              "      <td>0</td>\n",
              "      <td>70 80 82 72 58 58 60 63 54 58 60 48 89 115 121...</td>\n",
              "      <td>Training</td>\n",
              "    </tr>\n",
              "    <tr>\n",
              "      <th>1</th>\n",
              "      <td>0</td>\n",
              "      <td>151 150 147 155 148 133 111 140 170 174 182 15...</td>\n",
              "      <td>Training</td>\n",
              "    </tr>\n",
              "    <tr>\n",
              "      <th>2</th>\n",
              "      <td>2</td>\n",
              "      <td>231 212 156 164 174 138 161 173 182 200 106 38...</td>\n",
              "      <td>Training</td>\n",
              "    </tr>\n",
              "    <tr>\n",
              "      <th>3</th>\n",
              "      <td>4</td>\n",
              "      <td>24 32 36 30 32 23 19 20 30 41 21 22 32 34 21 1...</td>\n",
              "      <td>Training</td>\n",
              "    </tr>\n",
              "    <tr>\n",
              "      <th>4</th>\n",
              "      <td>6</td>\n",
              "      <td>4 0 0 0 0 0 0 0 0 0 0 0 3 15 23 28 48 50 58 84...</td>\n",
              "      <td>Training</td>\n",
              "    </tr>\n",
              "  </tbody>\n",
              "</table>\n",
              "</div>\n",
              "      <button class=\"colab-df-convert\" onclick=\"convertToInteractive('df-92a222e7-01d6-4dc0-a9e6-139bbcce0b36')\"\n",
              "              title=\"Convert this dataframe to an interactive table.\"\n",
              "              style=\"display:none;\">\n",
              "        \n",
              "  <svg xmlns=\"http://www.w3.org/2000/svg\" height=\"24px\"viewBox=\"0 0 24 24\"\n",
              "       width=\"24px\">\n",
              "    <path d=\"M0 0h24v24H0V0z\" fill=\"none\"/>\n",
              "    <path d=\"M18.56 5.44l.94 2.06.94-2.06 2.06-.94-2.06-.94-.94-2.06-.94 2.06-2.06.94zm-11 1L8.5 8.5l.94-2.06 2.06-.94-2.06-.94L8.5 2.5l-.94 2.06-2.06.94zm10 10l.94 2.06.94-2.06 2.06-.94-2.06-.94-.94-2.06-.94 2.06-2.06.94z\"/><path d=\"M17.41 7.96l-1.37-1.37c-.4-.4-.92-.59-1.43-.59-.52 0-1.04.2-1.43.59L10.3 9.45l-7.72 7.72c-.78.78-.78 2.05 0 2.83L4 21.41c.39.39.9.59 1.41.59.51 0 1.02-.2 1.41-.59l7.78-7.78 2.81-2.81c.8-.78.8-2.07 0-2.86zM5.41 20L4 18.59l7.72-7.72 1.47 1.35L5.41 20z\"/>\n",
              "  </svg>\n",
              "      </button>\n",
              "      \n",
              "  <style>\n",
              "    .colab-df-container {\n",
              "      display:flex;\n",
              "      flex-wrap:wrap;\n",
              "      gap: 12px;\n",
              "    }\n",
              "\n",
              "    .colab-df-convert {\n",
              "      background-color: #E8F0FE;\n",
              "      border: none;\n",
              "      border-radius: 50%;\n",
              "      cursor: pointer;\n",
              "      display: none;\n",
              "      fill: #1967D2;\n",
              "      height: 32px;\n",
              "      padding: 0 0 0 0;\n",
              "      width: 32px;\n",
              "    }\n",
              "\n",
              "    .colab-df-convert:hover {\n",
              "      background-color: #E2EBFA;\n",
              "      box-shadow: 0px 1px 2px rgba(60, 64, 67, 0.3), 0px 1px 3px 1px rgba(60, 64, 67, 0.15);\n",
              "      fill: #174EA6;\n",
              "    }\n",
              "\n",
              "    [theme=dark] .colab-df-convert {\n",
              "      background-color: #3B4455;\n",
              "      fill: #D2E3FC;\n",
              "    }\n",
              "\n",
              "    [theme=dark] .colab-df-convert:hover {\n",
              "      background-color: #434B5C;\n",
              "      box-shadow: 0px 1px 3px 1px rgba(0, 0, 0, 0.15);\n",
              "      filter: drop-shadow(0px 1px 2px rgba(0, 0, 0, 0.3));\n",
              "      fill: #FFFFFF;\n",
              "    }\n",
              "  </style>\n",
              "\n",
              "      <script>\n",
              "        const buttonEl =\n",
              "          document.querySelector('#df-92a222e7-01d6-4dc0-a9e6-139bbcce0b36 button.colab-df-convert');\n",
              "        buttonEl.style.display =\n",
              "          google.colab.kernel.accessAllowed ? 'block' : 'none';\n",
              "\n",
              "        async function convertToInteractive(key) {\n",
              "          const element = document.querySelector('#df-92a222e7-01d6-4dc0-a9e6-139bbcce0b36');\n",
              "          const dataTable =\n",
              "            await google.colab.kernel.invokeFunction('convertToInteractive',\n",
              "                                                     [key], {});\n",
              "          if (!dataTable) return;\n",
              "\n",
              "          const docLinkHtml = 'Like what you see? Visit the ' +\n",
              "            '<a target=\"_blank\" href=https://colab.research.google.com/notebooks/data_table.ipynb>data table notebook</a>'\n",
              "            + ' to learn more about interactive tables.';\n",
              "          element.innerHTML = '';\n",
              "          dataTable['output_type'] = 'display_data';\n",
              "          await google.colab.output.renderOutput(dataTable, element);\n",
              "          const docLink = document.createElement('div');\n",
              "          docLink.innerHTML = docLinkHtml;\n",
              "          element.appendChild(docLink);\n",
              "        }\n",
              "      </script>\n",
              "    </div>\n",
              "  </div>\n",
              "  "
            ]
          },
          "metadata": {},
          "execution_count": 7
        }
      ],
      "source": [
        "data.head()"
      ]
    },
    {
      "cell_type": "code",
      "execution_count": 8,
      "metadata": {
        "colab": {
          "base_uri": "https://localhost:8080/"
        },
        "id": "sPPnpGLH3LaT",
        "outputId": "c76f0df8-0af5-4098-94d0-067b00b96c44"
      },
      "outputs": [
        {
          "output_type": "execute_result",
          "data": {
            "text/plain": [
              "(35887, 3)"
            ]
          },
          "metadata": {},
          "execution_count": 8
        }
      ],
      "source": [
        "# shape of data\n",
        "data.shape"
      ]
    },
    {
      "cell_type": "code",
      "execution_count": 9,
      "metadata": {
        "colab": {
          "base_uri": "https://localhost:8080/"
        },
        "id": "CqWRS4qj3Otx",
        "outputId": "6a69abf4-395f-4634-aa0e-c8d498beaeb5"
      },
      "outputs": [
        {
          "output_type": "execute_result",
          "data": {
            "text/plain": [
              "emotion    0\n",
              "pixels     0\n",
              "Usage      0\n",
              "dtype: int64"
            ]
          },
          "metadata": {},
          "execution_count": 9
        }
      ],
      "source": [
        "# check for null values\n",
        "data.isnull().sum()"
      ]
    },
    {
      "cell_type": "code",
      "execution_count": 10,
      "metadata": {
        "colab": {
          "base_uri": "https://localhost:8080/"
        },
        "id": "aBNB6eF-3Y9b",
        "outputId": "8e51e7fa-2177-48e8-9e5b-2aa790c45a40"
      },
      "outputs": [
        {
          "output_type": "execute_result",
          "data": {
            "text/plain": [
              "Training       28709\n",
              "PublicTest      3589\n",
              "PrivateTest     3589\n",
              "Name: Usage, dtype: int64"
            ]
          },
          "metadata": {},
          "execution_count": 10
        }
      ],
      "source": [
        "data[\"Usage\"].value_counts()"
      ]
    },
    {
      "cell_type": "code",
      "execution_count": 11,
      "metadata": {
        "colab": {
          "base_uri": "https://localhost:8080/"
        },
        "id": "hwW7yqYT3ju1",
        "outputId": "e1ab7e45-1d06-48dd-abbe-029f198287a3"
      },
      "outputs": [
        {
          "output_type": "execute_result",
          "data": {
            "text/plain": [
              "3    8989\n",
              "6    6198\n",
              "4    6077\n",
              "2    5121\n",
              "0    4953\n",
              "5    4002\n",
              "1     547\n",
              "Name: emotion, dtype: int64"
            ]
          },
          "metadata": {},
          "execution_count": 11
        }
      ],
      "source": [
        "data[\"emotion\"].value_counts()"
      ]
    },
    {
      "cell_type": "markdown",
      "metadata": {
        "id": "PBnw4X0U3sob"
      },
      "source": [
        "as see there are seven different emotion."
      ]
    },
    {
      "cell_type": "code",
      "execution_count": 12,
      "metadata": {
        "colab": {
          "base_uri": "https://localhost:8080/",
          "height": 1000
        },
        "id": "6aQy4KeK3qDm",
        "outputId": "82d82fb7-7e5d-456c-8092-6a286d546e81"
      },
      "outputs": [
        {
          "output_type": "display_data",
          "data": {
            "text/plain": [
              "<Figure size 432x288 with 1 Axes>"
            ],
            "image/png": "[encoded data removed]"
          },
          "metadata": {
            "needs_background": "light"
          }
        },
        {
          "output_type": "display_data",
          "data": {
            "text/plain": [
              "<Figure size 432x288 with 1 Axes>"
            ],
            "image/png": "[encoded data removed]"
          },
          "metadata": {
            "needs_background": "light"
          }
        },
        {
          "output_type": "display_data",
          "data": {
            "text/plain": [
              "<Figure size 432x288 with 1 Axes>"
            ],
            "image/png": "[encoded data removed]"
          },
          "metadata": {
            "needs_background": "light"
          }
        },
        {
          "output_type": "display_data",
          "data": {
            "text/plain": [
              "<Figure size 432x288 with 1 Axes>"
            ],
            "image/png": "[encoded data removed]"
          },
          "metadata": {
            "needs_background": "light"
          }
        },
        {
          "output_type": "display_data",
          "data": {
            "text/plain": [
              "<Figure size 432x288 with 1 Axes>"
            ],
            "image/png": "[encoded data removed]"
          },
          "metadata": {
            "needs_background": "light"
          }
        },
        {
          "output_type": "display_data",
          "data": {
            "text/plain": [
              "<Figure size 432x288 with 1 Axes>"
            ],
            "image/png": "[encoded data removed]"
          },
          "metadata": {
            "needs_background": "light"
          }
        },
        {
          "output_type": "display_data",
          "data": {
            "text/plain": [
              "<Figure size 432x288 with 1 Axes>"
            ],
            "image/png": "[encoded data removed]"
          },
          "metadata": {
            "needs_background": "light"
          }
        }
      ],
      "source": [
        "def show_imag(df_row, pixel_string,class_col):\n",
        "  pixels = df_row[pixel_string]\n",
        "  label = df_row[class_col]\n",
        "  # convert into array\n",
        "  picture = np.array(pixels.split())\n",
        "  picture = picture.reshape(48,48)\n",
        "  image = np.zeros((48,48,3))\n",
        "  # slice the image\n",
        "  image[:,:,0] = picture\n",
        "  image[:,:,1] = picture\n",
        "  image[:,:,2] = picture\n",
        "\n",
        "  return np.array([image.astype(np.uint8),label])\n",
        "\n",
        "# iterate overl all emotions\n",
        "for emotion in range(1,8):\n",
        "  pic = data[data[\"emotion\"] == emotion -1].iloc[0]\n",
        "  pic = show_imag(pic,\"pixels\",\"emotion\")\n",
        "  plt.imshow(pic[0])\n",
        "  plt.title(pic[1])\n",
        "  plt.show()"
      ]
    },
    {
      "cell_type": "code",
      "execution_count": 13,
      "metadata": {
        "colab": {
          "base_uri": "https://localhost:8080/",
          "height": 405
        },
        "id": "2yab5ds96Jrn",
        "outputId": "cb2fd6ce-50c3-481a-c258-c9625ce10649"
      },
      "outputs": [
        {
          "output_type": "execute_result",
          "data": {
            "text/plain": [
              "[<matplotlib.lines.Line2D at 0x7f7fd4616950>]"
            ]
          },
          "metadata": {},
          "execution_count": 13
        },
        {
          "output_type": "display_data",
          "data": {
            "text/plain": [
              "<Figure size 576x432 with 1 Axes>"
            ],
            "image/png": "[encoded data removed]"
          },
          "metadata": {
            "needs_background": "light"
          }
        }
      ],
      "source": [
        "emotion_dict = {0 : \"Angry\", 1:\"Disgust\", 2:\"Fear\", 3:\"happy\", 4:\"Sad\",5:\"Surprise\",6:\"Neutral\"}\n",
        "df = data.copy()\n",
        "df[\"emotion\"] = df[\"emotion\"].map(emotion_dict)\n",
        "plt.figure(figsize=(8,6))\n",
        "sns.countplot(x = df[\"emotion\"])\n",
        "plt.plot(\"Emotion\")"
      ]
    },
    {
      "cell_type": "markdown",
      "metadata": {
        "id": "8u9bPOGm7_Uf"
      },
      "source": [
        "## **Data preprocessing**"
      ]
    },
    {
      "cell_type": "code",
      "execution_count": 14,
      "metadata": {
        "id": "Qx_oFwqc7gVm"
      },
      "outputs": [],
      "source": [
        "# split data into train validation and test\n",
        "train_data = data[data[\"Usage\"]== \"Training\"]\n",
        "val_data = data[data[\"Usage\"]== \"PublicTest\"]\n",
        "test_data = data[data[\"Usage\"]== \"PrivateTest\"]\n"
      ]
    },
    {
      "cell_type": "code",
      "execution_count": 15,
      "metadata": {
        "colab": {
          "base_uri": "https://localhost:8080/"
        },
        "id": "sSCq0tt28i0_",
        "outputId": "2c234d7d-c297-47f3-eed1-88a26092c627"
      },
      "outputs": [
        {
          "output_type": "stream",
          "name": "stdout",
          "text": [
            "train data (28709, 3)\n",
            "validation data (3589, 3)\n",
            "test data (3589, 3)\n"
          ]
        }
      ],
      "source": [
        "print(\"train data\",train_data.shape)\n",
        "print(\"validation data\",val_data.shape)\n",
        "print(\"test data\",test_data.shape)"
      ]
    },
    {
      "cell_type": "code",
      "execution_count": 16,
      "metadata": {
        "id": "ZSs_dNrS8yDC"
      },
      "outputs": [],
      "source": [
        "for col in [train_data,val_data,test_data]:\n",
        "  col.reset_index(drop=True,inplace=True)\n",
        "  col.drop(\"Usage\",axis=1,inplace=True)"
      ]
    },
    {
      "cell_type": "code",
      "execution_count": 17,
      "metadata": {
        "id": "Yf7tb5B29bqC"
      },
      "outputs": [],
      "source": [
        "test_data[\"pixels\"] = test_data[\"pixels\"].apply(lambda pixels : [int(x)for x in pixels.split()])\n",
        "x_test = np.array(test_data[\"pixels\"].tolist(),dtype =\"float32\").reshape(-1,48,48,1)/255.0\n",
        "y_test = to_categorical(test_data[\"emotion\"],num_classes = 7,dtype =\"uint8\")"
      ]
    },
    {
      "cell_type": "code",
      "execution_count": 18,
      "metadata": {
        "id": "yJInszzf-paq"
      },
      "outputs": [],
      "source": [
        "# main directory path/\n",
        "path = \"/content/drive/MyDrive/Face Emotion Recognition - Milan Ajudiya/Data/\""
      ]
    },
    {
      "cell_type": "code",
      "execution_count": 19,
      "metadata": {
        "id": "FLAuWZJBAFjz"
      },
      "outputs": [],
      "source": [
        "def create_direc(path,class_list):\n",
        "  #create train validation directory\n",
        "  train_path = os.path.join(path,'TRain_directory______')\n",
        "  val_path = os.path.join(path,'VAlid_directory______')\n",
        "  os.mkdir(train_path)\n",
        "  os.mkdir(val_path)\n",
        "  for data_path,categ in {train_path :'train-' ,val_path:'valid-'}.items():\n",
        "    for label in class_list:\n",
        "      label_dir =os.path.join(data_path,categ+str(label))\n",
        "      os.mkdir(label_dir)"
      ]
    },
    {
      "cell_type": "code",
      "execution_count": 20,
      "metadata": {
        "id": "mQgN_kH3CEsR"
      },
      "outputs": [],
      "source": [
        "create_direc(path,[0,1,2,3,4,5,6])"
      ]
    },
    {
      "cell_type": "code",
      "execution_count": 21,
      "metadata": {
        "id": "OTJomFLcwU3k"
      },
      "outputs": [],
      "source": [
        "train_path = \"/content/drive/MyDrive/Face Emotion Recognition - Milan Ajudiya/Data/TRain_directory______\"\n",
        "val_path = \"/content/drive/MyDrive/Face Emotion Recognition - Milan Ajudiya/Data/VAlid_directory______\""
      ]
    },
    {
      "cell_type": "code",
      "execution_count": 22,
      "metadata": {
        "id": "s5vTgTaKyLPk"
      },
      "outputs": [],
      "source": [
        "# save image\n",
        "def save_image(df1,df1_path,pixel_col,class_col,class_list,prefix):\n",
        "  for i in range(len(df1)):\n",
        "    pixel_string = df1[pixel_col][i]\n",
        "    pixels = list(map(int,pixel_string.split()))\n",
        "    matrix = np.array(pixels).reshape(48,48).astype(np.uint8)\n",
        "    imag = Image.fromarray(matrix)\n",
        "    for label in class_list: \n",
        "      if str(df1[class_col][i]) in prefix  + str(label):\n",
        "        imag.save(df1_path + \"/\" + prefix + str(label)+ \"/\" + prefix +str(label) + \"-\" +str(i) + \".png\")\n",
        "      else:\n",
        "        continue"
      ]
    },
    {
      "cell_type": "code",
      "execution_count": 23,
      "metadata": {
        "id": "RHlnr4LM0inL"
      },
      "outputs": [],
      "source": [
        "# train image\n",
        "save_image(train_data,train_path,\"pixels\",\"emotion\",[0,1,2,3,4,5,6],'train-')\n"
      ]
    },
    {
      "cell_type": "code",
      "execution_count": 24,
      "metadata": {
        "id": "X6RwlkDe7ujq"
      },
      "outputs": [],
      "source": [
        "#validation image\n",
        "save_image(val_data,val_path,\"pixels\",\"emotion\",[0,1,2,3,4,5,6],'valid-')"
      ]
    },
    {
      "cell_type": "code",
      "execution_count": 25,
      "metadata": {
        "id": "GrM8YMQF1axo"
      },
      "outputs": [],
      "source": [
        "# image preprocessing\n",
        "from keras.preprocessing.image import ImageDataGenerator\n",
        "def image_data_gen(train_path,val_path,target_size,batch_size,color_mode,class_mode):\n",
        "\n",
        "  # initialising generator for train validation\n",
        "  train_datagen = ImageDataGenerator(rescale = 1./255, rotation_range = 10, horizontal_flip = True, width_shift_range = 0.1, height_shift_range= 0.1, fill_mode= \"nearest\")\n",
        "  valid_datagen = ImageDataGenerator(rescale = 1./255)\n",
        "\n",
        "  train_generator = train_datagen.flow_from_directory(\n",
        "      train_path,\n",
        "      target_size=target_size,\n",
        "      batch_size=batch_size,\n",
        "      color_mode=color_mode,\n",
        "      seed = 42,\n",
        "      shuffle = True,\n",
        "      class_mode = class_mode)\n",
        "  \n",
        "  valid_generator = valid_datagen.flow_from_directory(\n",
        "      val_path,\n",
        "      target_size=target_size,\n",
        "      batch_size=batch_size,\n",
        "      color_mode=color_mode,\n",
        "      seed = 42,\n",
        "      shuffle = True,\n",
        "      class_mode = class_mode)\n",
        "  \n",
        "  return train_generator, valid_generator"
      ]
    },
    {
      "cell_type": "code",
      "execution_count": 26,
      "metadata": {
        "colab": {
          "base_uri": "https://localhost:8080/"
        },
        "id": "mF3GjjZI4Cxa",
        "outputId": "4adbc962-397f-4e02-c124-4be6026d512e"
      },
      "outputs": [
        {
          "output_type": "stream",
          "name": "stdout",
          "text": [
            "Found 28709 images belonging to 7 classes.\n",
            "Found 3589 images belonging to 7 classes.\n"
          ]
        }
      ],
      "source": [
        "# image generator\n",
        "train_gen, valid_gen = image_data_gen(train_path,val_path,target_size = (48,48),batch_size = 64, color_mode = \"grayscale\",class_mode = \"categorical\")"
      ]
    },
    {
      "cell_type": "markdown",
      "metadata": {
        "id": "iiMcTnpf4zxr"
      },
      "source": [
        "### **Model Building**"
      ]
    },
    {
      "cell_type": "code",
      "execution_count": 27,
      "metadata": {
        "colab": {
          "base_uri": "https://localhost:8080/"
        },
        "id": "1pHzcSYC4t_q",
        "outputId": "8ec5002d-d824-4c9b-d892-bd94713d8579"
      },
      "outputs": [
        {
          "output_type": "stream",
          "name": "stdout",
          "text": [
            "Model: \"sequential\"\n",
            "_________________________________________________________________\n",
            "Layer (type)                 Output Shape              Param #   \n",
            "=================================================================\n",
            "conv2d (Conv2D)              (None, 48, 48, 64)        640       \n",
            "_________________________________________________________________\n",
            "batch_normalization (BatchNo (None, 48, 48, 64)        256       \n",
            "_________________________________________________________________\n",
            "conv2d_1 (Conv2D)            (None, 48, 48, 64)        36928     \n",
            "_________________________________________________________________\n",
            "batch_normalization_1 (Batch (None, 48, 48, 64)        256       \n",
            "_________________________________________________________________\n",
            "max_pooling2d (MaxPooling2D) (None, 24, 24, 64)        0         \n",
            "_________________________________________________________________\n",
            "dropout (Dropout)            (None, 24, 24, 64)        0         \n",
            "_________________________________________________________________\n",
            "conv2d_2 (Conv2D)            (None, 24, 24, 128)       73856     \n",
            "_________________________________________________________________\n",
            "batch_normalization_2 (Batch (None, 24, 24, 128)       512       \n",
            "_________________________________________________________________\n",
            "conv2d_3 (Conv2D)            (None, 24, 24, 128)       147584    \n",
            "_________________________________________________________________\n",
            "batch_normalization_3 (Batch (None, 24, 24, 128)       512       \n",
            "_________________________________________________________________\n",
            "conv2d_4 (Conv2D)            (None, 24, 24, 128)       147584    \n",
            "_________________________________________________________________\n",
            "batch_normalization_4 (Batch (None, 24, 24, 128)       512       \n",
            "_________________________________________________________________\n",
            "max_pooling2d_1 (MaxPooling2 (None, 12, 12, 128)       0         \n",
            "_________________________________________________________________\n",
            "dropout_1 (Dropout)          (None, 12, 12, 128)       0         \n",
            "_________________________________________________________________\n",
            "conv2d_5 (Conv2D)            (None, 12, 12, 256)       295168    \n",
            "_________________________________________________________________\n",
            "batch_normalization_5 (Batch (None, 12, 12, 256)       1024      \n",
            "_________________________________________________________________\n",
            "conv2d_6 (Conv2D)            (None, 12, 12, 256)       590080    \n",
            "_________________________________________________________________\n",
            "batch_normalization_6 (Batch (None, 12, 12, 256)       1024      \n",
            "_________________________________________________________________\n",
            "conv2d_7 (Conv2D)            (None, 12, 12, 256)       590080    \n",
            "_________________________________________________________________\n",
            "batch_normalization_7 (Batch (None, 12, 12, 256)       1024      \n",
            "_________________________________________________________________\n",
            "max_pooling2d_2 (MaxPooling2 (None, 6, 6, 256)         0         \n",
            "_________________________________________________________________\n",
            "dropout_2 (Dropout)          (None, 6, 6, 256)         0         \n",
            "_________________________________________________________________\n",
            "conv2d_8 (Conv2D)            (None, 6, 6, 256)         590080    \n",
            "_________________________________________________________________\n",
            "batch_normalization_8 (Batch (None, 6, 6, 256)         1024      \n",
            "_________________________________________________________________\n",
            "conv2d_9 (Conv2D)            (None, 6, 6, 256)         590080    \n",
            "_________________________________________________________________\n",
            "batch_normalization_9 (Batch (None, 6, 6, 256)         1024      \n",
            "_________________________________________________________________\n",
            "conv2d_10 (Conv2D)           (None, 6, 6, 256)         590080    \n",
            "_________________________________________________________________\n",
            "batch_normalization_10 (Batc (None, 6, 6, 256)         1024      \n",
            "_________________________________________________________________\n",
            "max_pooling2d_3 (MaxPooling2 (None, 3, 3, 256)         0         \n",
            "_________________________________________________________________\n",
            "dropout_3 (Dropout)          (None, 3, 3, 256)         0         \n",
            "_________________________________________________________________\n",
            "flatten (Flatten)            (None, 2304)              0         \n",
            "_________________________________________________________________\n",
            "dense (Dense)                (None, 7)                 16135     \n",
            "=================================================================\n",
            "Total params: 3,676,487\n",
            "Trainable params: 3,672,391\n",
            "Non-trainable params: 4,096\n",
            "_________________________________________________________________\n"
          ]
        }
      ],
      "source": [
        "model = Sequential()\n",
        "num_classes = 7\n",
        "\n",
        "# first block\n",
        "model.add(Convolution2D(64, kernel_size = 3, activation = \"relu\", padding = \"same\", input_shape =(48,48,1)))\n",
        "model.add(BatchNormalization())\n",
        "model.add(Convolution2D(64, kernel_size = 3, activation = \"relu\", padding = \"same\", input_shape =(48,48,1)))\n",
        "model.add(BatchNormalization())\n",
        "model.add(MaxPooling2D(pool_size=(2,2)))\n",
        "model.add(Dropout(0.25))\n",
        "\n",
        "# second block\n",
        "model.add(Convolution2D(128, kernel_size = 3, activation = \"relu\", padding = \"same\"))\n",
        "model.add(BatchNormalization())\n",
        "model.add(Convolution2D(128, kernel_size = 3, activation = \"relu\", padding = \"same\"))\n",
        "model.add(BatchNormalization())\n",
        "model.add(Convolution2D(128, kernel_size = 3, activation = \"relu\", padding = \"same\"))\n",
        "model.add(BatchNormalization())\n",
        "model.add(MaxPooling2D(pool_size=(2,2)))\n",
        "model.add(Dropout(0.3))\n",
        "\n",
        "# Third block\n",
        "model.add(Convolution2D(256, kernel_size = 3, activation = \"relu\", padding = \"same\"))\n",
        "model.add(BatchNormalization())\n",
        "model.add(Convolution2D(256, kernel_size = 3, activation = \"relu\", padding = \"same\"))\n",
        "model.add(BatchNormalization())\n",
        "model.add(Convolution2D(256, kernel_size = 3, activation = \"relu\", padding = \"same\"))\n",
        "model.add(BatchNormalization())\n",
        "model.add(MaxPooling2D(pool_size=(2,2)))\n",
        "model.add(Dropout(0.3))\n",
        "\n",
        "# fourth block\n",
        "model.add(Convolution2D(256, kernel_size = 3, activation = \"relu\", padding = \"same\"))\n",
        "model.add(BatchNormalization())\n",
        "model.add(Convolution2D(256, kernel_size = 3, activation = \"relu\", padding = \"same\"))\n",
        "model.add(BatchNormalization())\n",
        "model.add(Convolution2D(256, kernel_size = 3, activation = \"relu\", padding = \"same\"))\n",
        "model.add(BatchNormalization())\n",
        "model.add(MaxPooling2D(pool_size=(2,2)))\n",
        "model.add(Dropout(0.3))\n",
        "\n",
        "\n",
        "\n",
        "# flatten\n",
        "model.add(Flatten())\n",
        "\n",
        "model.add(Dense(num_classes, activation = \"softmax\"))\n",
        "\n",
        "#summary layer\n",
        "model.summary()\n",
        "\n"
      ]
    },
    {
      "cell_type": "code",
      "execution_count": 28,
      "metadata": {
        "id": "2HYV4ONu7p10"
      },
      "outputs": [],
      "source": [
        "opt = Adam(learning_rate = 0.0001,decay = 1e-6)\n",
        "model.compile(optimizer = opt , loss =\"categorical_crossentropy\" ,metrics =[\"accuracy\"])"
      ]
    },
    {
      "cell_type": "code",
      "execution_count": 29,
      "metadata": {
        "colab": {
          "base_uri": "https://localhost:8080/"
        },
        "id": "oSdM6oY4z5Hn",
        "outputId": "a1b0ed34-e466-4caa-b58c-cd4f4c9197a6"
      },
      "outputs": [
        {
          "output_type": "stream",
          "name": "stdout",
          "text": [
            "Epoch 1/100\n",
            "448/448 [==============================] - 78s 147ms/step - loss: 2.9520 - accuracy: 0.2040 - val_loss: 2.2527 - val_accuracy: 0.2492\n",
            "Epoch 2/100\n",
            "448/448 [==============================] - 61s 136ms/step - loss: 2.1675 - accuracy: 0.2502 - val_loss: 1.7178 - val_accuracy: 0.3410\n",
            "Epoch 3/100\n",
            "448/448 [==============================] - 61s 137ms/step - loss: 2.0065 - accuracy: 0.2882 - val_loss: 1.6840 - val_accuracy: 0.3664\n",
            "Epoch 4/100\n",
            "448/448 [==============================] - 61s 135ms/step - loss: 1.8908 - accuracy: 0.3313 - val_loss: 1.5791 - val_accuracy: 0.4104\n",
            "Epoch 5/100\n",
            "448/448 [==============================] - 62s 139ms/step - loss: 1.7954 - accuracy: 0.3664 - val_loss: 1.5072 - val_accuracy: 0.4498\n",
            "Epoch 6/100\n",
            "448/448 [==============================] - 63s 140ms/step - loss: 1.6962 - accuracy: 0.4027 - val_loss: 1.5247 - val_accuracy: 0.4604\n",
            "Epoch 7/100\n",
            "448/448 [==============================] - 63s 141ms/step - loss: 1.5986 - accuracy: 0.4389 - val_loss: 1.8703 - val_accuracy: 0.4436\n",
            "Epoch 8/100\n",
            "448/448 [==============================] - 62s 138ms/step - loss: 1.5008 - accuracy: 0.4668 - val_loss: 1.5752 - val_accuracy: 0.4830\n",
            "Epoch 9/100\n",
            "448/448 [==============================] - 62s 139ms/step - loss: 1.4398 - accuracy: 0.4850 - val_loss: 2.1221 - val_accuracy: 0.4590\n",
            "Epoch 10/100\n",
            "448/448 [==============================] - 61s 137ms/step - loss: 1.4177 - accuracy: 0.4979 - val_loss: 2.2769 - val_accuracy: 0.5008\n",
            "Epoch 11/100\n",
            "448/448 [==============================] - 63s 140ms/step - loss: 1.3641 - accuracy: 0.5102 - val_loss: 1.2401 - val_accuracy: 0.5382\n",
            "Epoch 12/100\n",
            "448/448 [==============================] - 61s 136ms/step - loss: 1.2724 - accuracy: 0.5284 - val_loss: 1.1959 - val_accuracy: 0.5614\n",
            "Epoch 13/100\n",
            "448/448 [==============================] - 61s 136ms/step - loss: 1.2021 - accuracy: 0.5492 - val_loss: 1.2075 - val_accuracy: 0.5539\n",
            "Epoch 14/100\n",
            "448/448 [==============================] - 62s 137ms/step - loss: 1.1676 - accuracy: 0.5626 - val_loss: 1.1737 - val_accuracy: 0.5672\n",
            "Epoch 15/100\n",
            "448/448 [==============================] - 61s 136ms/step - loss: 1.1475 - accuracy: 0.5657 - val_loss: 1.1210 - val_accuracy: 0.5865\n",
            "Epoch 16/100\n",
            "448/448 [==============================] - 62s 138ms/step - loss: 1.1004 - accuracy: 0.5879 - val_loss: 1.1724 - val_accuracy: 0.5527\n",
            "Epoch 17/100\n",
            "448/448 [==============================] - 60s 135ms/step - loss: 1.1021 - accuracy: 0.5880 - val_loss: 1.1028 - val_accuracy: 0.5924\n",
            "Epoch 18/100\n",
            "448/448 [==============================] - 61s 137ms/step - loss: 1.0724 - accuracy: 0.5989 - val_loss: 1.1152 - val_accuracy: 0.5940\n",
            "Epoch 19/100\n",
            "448/448 [==============================] - 60s 135ms/step - loss: 1.0532 - accuracy: 0.6005 - val_loss: 1.0906 - val_accuracy: 0.6046\n",
            "Epoch 20/100\n",
            "448/448 [==============================] - 61s 136ms/step - loss: 1.0207 - accuracy: 0.6149 - val_loss: 1.1315 - val_accuracy: 0.6091\n",
            "Epoch 21/100\n",
            "448/448 [==============================] - 60s 135ms/step - loss: 1.0223 - accuracy: 0.6189 - val_loss: 1.0688 - val_accuracy: 0.6197\n",
            "Epoch 22/100\n",
            "448/448 [==============================] - 61s 136ms/step - loss: 0.9961 - accuracy: 0.6262 - val_loss: 1.0688 - val_accuracy: 0.6136\n",
            "Epoch 23/100\n",
            "448/448 [==============================] - 60s 134ms/step - loss: 0.9876 - accuracy: 0.6267 - val_loss: 1.0878 - val_accuracy: 0.6060\n",
            "Epoch 24/100\n",
            "448/448 [==============================] - 60s 134ms/step - loss: 0.9691 - accuracy: 0.6369 - val_loss: 1.0575 - val_accuracy: 0.6108\n",
            "Epoch 25/100\n",
            "448/448 [==============================] - 60s 135ms/step - loss: 0.9682 - accuracy: 0.6382 - val_loss: 1.0038 - val_accuracy: 0.6362\n",
            "Epoch 26/100\n",
            "448/448 [==============================] - 60s 133ms/step - loss: 0.9315 - accuracy: 0.6472 - val_loss: 1.0648 - val_accuracy: 0.6197\n",
            "Epoch 27/100\n",
            "448/448 [==============================] - 61s 136ms/step - loss: 0.9215 - accuracy: 0.6574 - val_loss: 1.0384 - val_accuracy: 0.6230\n",
            "Epoch 28/100\n",
            "448/448 [==============================] - 59s 133ms/step - loss: 0.9204 - accuracy: 0.6583 - val_loss: 1.0364 - val_accuracy: 0.6222\n",
            "Epoch 29/100\n",
            "448/448 [==============================] - 60s 134ms/step - loss: 0.8989 - accuracy: 0.6620 - val_loss: 1.0373 - val_accuracy: 0.6303\n",
            "Epoch 30/100\n",
            "448/448 [==============================] - 60s 133ms/step - loss: 0.8868 - accuracy: 0.6667 - val_loss: 1.0220 - val_accuracy: 0.6362\n",
            "Epoch 31/100\n",
            "448/448 [==============================] - 60s 134ms/step - loss: 0.8852 - accuracy: 0.6717 - val_loss: 0.9960 - val_accuracy: 0.6504\n",
            "Epoch 32/100\n",
            "448/448 [==============================] - 61s 135ms/step - loss: 0.8715 - accuracy: 0.6685 - val_loss: 1.0270 - val_accuracy: 0.6356\n",
            "Epoch 33/100\n",
            "448/448 [==============================] - 60s 133ms/step - loss: 0.8465 - accuracy: 0.6795 - val_loss: 1.0233 - val_accuracy: 0.6350\n",
            "Epoch 34/100\n",
            "448/448 [==============================] - 59s 133ms/step - loss: 0.8345 - accuracy: 0.6902 - val_loss: 0.9921 - val_accuracy: 0.6392\n",
            "Epoch 35/100\n",
            "448/448 [==============================] - 60s 133ms/step - loss: 0.8225 - accuracy: 0.6918 - val_loss: 1.0130 - val_accuracy: 0.6323\n",
            "Epoch 36/100\n",
            "448/448 [==============================] - 60s 134ms/step - loss: 0.8092 - accuracy: 0.6975 - val_loss: 0.9984 - val_accuracy: 0.6462\n",
            "Epoch 37/100\n",
            "448/448 [==============================] - 60s 133ms/step - loss: 0.8126 - accuracy: 0.6958 - val_loss: 1.0110 - val_accuracy: 0.6557\n",
            "Epoch 38/100\n",
            "448/448 [==============================] - 60s 134ms/step - loss: 0.7928 - accuracy: 0.7063 - val_loss: 1.0434 - val_accuracy: 0.6395\n",
            "Epoch 39/100\n",
            "448/448 [==============================] - 60s 133ms/step - loss: 0.7933 - accuracy: 0.7015 - val_loss: 0.9931 - val_accuracy: 0.6537\n",
            "Epoch 40/100\n",
            "448/448 [==============================] - 60s 135ms/step - loss: 0.7583 - accuracy: 0.7191 - val_loss: 0.9797 - val_accuracy: 0.6571\n",
            "Epoch 41/100\n",
            "448/448 [==============================] - 60s 133ms/step - loss: 0.7626 - accuracy: 0.7123 - val_loss: 1.0201 - val_accuracy: 0.6512\n",
            "Epoch 42/100\n",
            "448/448 [==============================] - 61s 135ms/step - loss: 0.7356 - accuracy: 0.7237 - val_loss: 1.0293 - val_accuracy: 0.6493\n",
            "Epoch 43/100\n",
            "448/448 [==============================] - 60s 133ms/step - loss: 0.7397 - accuracy: 0.7198 - val_loss: 0.9976 - val_accuracy: 0.6635\n",
            "Epoch 44/100\n",
            "448/448 [==============================] - 60s 134ms/step - loss: 0.7336 - accuracy: 0.7283 - val_loss: 0.9984 - val_accuracy: 0.6590\n",
            "Epoch 45/100\n",
            "448/448 [==============================] - 60s 135ms/step - loss: 0.7181 - accuracy: 0.7316 - val_loss: 1.0413 - val_accuracy: 0.6579\n",
            "Epoch 46/100\n",
            "448/448 [==============================] - 59s 133ms/step - loss: 0.6967 - accuracy: 0.7393 - val_loss: 1.0521 - val_accuracy: 0.6451\n",
            "Epoch 47/100\n",
            "448/448 [==============================] - 80s 179ms/step - loss: 0.6813 - accuracy: 0.7433 - val_loss: 1.0287 - val_accuracy: 0.6571\n",
            "Epoch 48/100\n",
            "448/448 [==============================] - 60s 134ms/step - loss: 0.6875 - accuracy: 0.7457 - val_loss: 1.0362 - val_accuracy: 0.6574\n",
            "Epoch 49/100\n",
            "448/448 [==============================] - 61s 135ms/step - loss: 0.6685 - accuracy: 0.7441 - val_loss: 1.0322 - val_accuracy: 0.6571\n",
            "Epoch 50/100\n",
            "448/448 [==============================] - 60s 133ms/step - loss: 0.6660 - accuracy: 0.7533 - val_loss: 1.0171 - val_accuracy: 0.6677\n",
            "Epoch 51/100\n",
            "448/448 [==============================] - 61s 136ms/step - loss: 0.6458 - accuracy: 0.7606 - val_loss: 1.0095 - val_accuracy: 0.6669\n",
            "Epoch 52/100\n",
            "448/448 [==============================] - 60s 135ms/step - loss: 0.6469 - accuracy: 0.7615 - val_loss: 1.0371 - val_accuracy: 0.6618\n",
            "Epoch 53/100\n",
            "448/448 [==============================] - 61s 135ms/step - loss: 0.6269 - accuracy: 0.7606 - val_loss: 1.0238 - val_accuracy: 0.6618\n",
            "Epoch 54/100\n",
            "448/448 [==============================] - 60s 133ms/step - loss: 0.6235 - accuracy: 0.7694 - val_loss: 1.0754 - val_accuracy: 0.6666\n",
            "Epoch 55/100\n",
            "448/448 [==============================] - 60s 134ms/step - loss: 0.6144 - accuracy: 0.7741 - val_loss: 1.1119 - val_accuracy: 0.6574\n",
            "Restoring model weights from the end of the best epoch.\n",
            "Epoch 00055: early stopping\n"
          ]
        }
      ],
      "source": [
        "# training\n",
        "\n",
        "early_stop = EarlyStopping(monitor = \"val_loss\",\n",
        "                           min_delta = 0, \n",
        "                           patience = 15,\n",
        "                           verbose = 1,\n",
        "                           restore_best_weights = True)\n",
        "\n",
        "#fitting \n",
        "validation_steps = (len(val_data)//64)\n",
        "\n",
        "history = model.fit(train_gen,\n",
        "                    steps_per_epoch = len(train_data)//64,\n",
        "                    epochs = 100,\n",
        "                    callbacks = early_stop,\n",
        "                    verbose = 1,\n",
        "                    validation_data = valid_gen,\n",
        "                    validation_steps = validation_steps\n",
        "                    )"
      ]
    },
    {
      "cell_type": "code",
      "execution_count": 30,
      "metadata": {
        "id": "ua5fr_Zq2QIg"
      },
      "outputs": [],
      "source": [
        "#saving history of model in dataframe\n",
        "df_model = pd.DataFrame(model.history.history)"
      ]
    },
    {
      "cell_type": "code",
      "execution_count": 31,
      "metadata": {
        "colab": {
          "base_uri": "https://localhost:8080/",
          "height": 407
        },
        "id": "Iqro1hZVWNfl",
        "outputId": "00988148-f4ce-4377-f1f7-36f983185983"
      },
      "outputs": [
        {
          "output_type": "execute_result",
          "data": {
            "text/plain": [
              "Text(0.5, 1.0, 'Loss plot of training and validation data')"
            ]
          },
          "metadata": {},
          "execution_count": 31
        },
        {
          "output_type": "display_data",
          "data": {
            "text/plain": [
              "<Figure size 720x432 with 1 Axes>"
            ],
            "image/png": "[encoded data removed]"
          },
          "metadata": {
            "needs_background": "light"
          }
        }
      ],
      "source": [
        "# plot loss\n",
        "df_model[[\"loss\",\"val_loss\"]].plot(figsize=(10,6))\n",
        "plt.title(\"Loss plot of training and validation data\")"
      ]
    },
    {
      "cell_type": "code",
      "execution_count": 32,
      "metadata": {
        "colab": {
          "base_uri": "https://localhost:8080/",
          "height": 407
        },
        "id": "DrPEgi34WoJi",
        "outputId": "74c5f6a8-067f-445e-e3cc-4276d7334a01"
      },
      "outputs": [
        {
          "output_type": "execute_result",
          "data": {
            "text/plain": [
              "Text(0.5, 1.0, 'Accuracy plot of training and validation data')"
            ]
          },
          "metadata": {},
          "execution_count": 32
        },
        {
          "output_type": "display_data",
          "data": {
            "text/plain": [
              "<Figure size 720x432 with 1 Axes>"
            ],
            "image/png": "[encoded data removed]"
          },
          "metadata": {
            "needs_background": "light"
          }
        }
      ],
      "source": [
        "# plot accuracy\n",
        "df_model[[\"accuracy\",\"val_accuracy\"]].plot(figsize=(10,6))\n",
        "plt.title(\"Accuracy plot of training and validation data\")"
      ]
    },
    {
      "cell_type": "code",
      "execution_count": 33,
      "metadata": {
        "id": "yq7NIF6AW0Td"
      },
      "outputs": [],
      "source": [
        "y_true = np.argmax(y_test,axis=1)\n",
        "y_pred = np.argmax(model.predict(x_test),axis=1)"
      ]
    },
    {
      "cell_type": "code",
      "execution_count": 34,
      "metadata": {
        "colab": {
          "base_uri": "https://localhost:8080/"
        },
        "id": "-axTwvXEXIin",
        "outputId": "eb6034b5-98a5-4225-8062-078f3370b3d9"
      },
      "outputs": [
        {
          "output_type": "stream",
          "name": "stdout",
          "text": [
            "              precision    recall  f1-score   support\n",
            "\n",
            "           0       0.70      0.52      0.60       491\n",
            "           1       0.76      0.67      0.71        55\n",
            "           2       0.53      0.45      0.49       528\n",
            "           3       0.89      0.87      0.88       879\n",
            "           4       0.52      0.61      0.56       594\n",
            "           5       0.76      0.75      0.75       416\n",
            "           6       0.61      0.74      0.67       626\n",
            "\n",
            "    accuracy                           0.68      3589\n",
            "   macro avg       0.68      0.66      0.67      3589\n",
            "weighted avg       0.68      0.68      0.68      3589\n",
            "\n"
          ]
        }
      ],
      "source": [
        "print(classification_report(y_true,y_pred))"
      ]
    },
    {
      "cell_type": "code",
      "execution_count": 35,
      "metadata": {
        "id": "WuoJv-DnXYik"
      },
      "outputs": [],
      "source": [
        "# save model\n",
        "model.save(\"/content/drive/MyDrive/Face Emotion Recognition - Milan Ajudiya/Data/face emotion detection model/emotion_detection_model.h5\")"
      ]
    },
    {
      "cell_type": "markdown",
      "metadata": {
        "id": "4fwD-dSkBzWD"
      },
      "source": [
        "# **Real Time Detection**"
      ]
    },
    {
      "cell_type": "code",
      "execution_count": 36,
      "metadata": {
        "id": "9l3DXNGpX_3W"
      },
      "outputs": [],
      "source": [
        "model = tensorflow.keras.models.load_model(\"/content/drive/MyDrive/Face Emotion Recognition - Milan Ajudiya/Data/face emotion detection model/emotion_detection_model.h5\")"
      ]
    },
    {
      "cell_type": "code",
      "execution_count": 39,
      "metadata": {
        "id": "vW2XyMWSYVvh"
      },
      "outputs": [],
      "source": [
        "face_haar_cascade = cv2.CascadeClassifier('/content/drive/MyDrive/Face Emotion Recognition - Milan Ajudiya/Data/haarcascade_frontalface_default.xml')"
      ]
    },
    {
      "cell_type": "code",
      "execution_count": 40,
      "metadata": {
        "id": "R8iYX-ylY08S"
      },
      "outputs": [],
      "source": [
        "#real time detection\n",
        "cap = cv2.VideoCapture(0)\n",
        "while cap.isOpened():\n",
        "  ret,imag = cap.read()\n",
        "  height,width,channel = imag.shape\n",
        "  sub_imag = imag[0:int(height/6),0:int(width)]\n",
        "  heading = np.ones(sub_imag.shape, dtype = np.uint8)*0\n",
        "  result = cv2.addWeighted(sub_imag, 0.82, heading, 0.18, 0)\n",
        "  font = cv2.FONT_HERSHEY_SIMPLEX\n",
        "  font_scale = 0.9\n",
        "  font_thickness = 2\n",
        "  lable_color = (0, 255, 0)\n",
        "  lable = \"Face Emotion Detection\"\n",
        "  lable_dimension = cv2.getTextSize(lable,font,font_scale,font_thickness)[0]\n",
        "  textX = int((result.shape[1] - lable_dimension[0])/2)\n",
        "  textY = int((result.shape[0] + lable_dimension[1])/2)\n",
        "  cv2.putText(result, lable,(textX,textY),font,font_scale,(0,0,0),font_thickness) \n",
        "\n",
        "  # prediction\n",
        "  gray_image = cv2.cvtColor(imag,cv2.COLOR_BGR2GRAY)\n",
        "  # detect face\n",
        "  faces = face_haar_cascade.detectMultiScale(gray_image)\n",
        "  try:\n",
        "    for(x,y,w,h) in faces:\n",
        "      #rectangle\n",
        "      cv2.rectangle(imag, pt1 = (x,y), pt2 = (x+w,y+h), color = (0,0,255), thickness = 2)\n",
        "      roi_gray = gray_image[y-5:y+h+5, x-5:x+w+5]\n",
        "      roi_gray = cv2.resize(roi_gray,(48,48))\n",
        "      image_pixels = tensorflow.keras.preprocessing.image.image_to_array(roi_gray)\n",
        "      image_pixels = np.expand_dims(image_pixels,axis = 0)\n",
        "      image_pixels /= 255\n",
        "      prediction = model.predict(image_pixels)\n",
        "      max_index = np.argmax(prediction[0])\n",
        "      emotion_detection = (\"Angry\",\"Disgust\",\"Fear\",\"happy\",\"Sad\",\"Surprise\",\"Neutral\")\n",
        "      emotion_prediction = emotion_detection[max_index]\n",
        "      cv2.putText(imag, emotion_prediction, (int(x+w/3),int(y)),font,0.9,lable_color,2)\n",
        "  except:\n",
        "    pass\n",
        "  imag[0:int(height/6),0:int(width)] = result\n",
        "  cv2.imshow(\"Face Emotion Detection\",imag)\n",
        "  # press Q to close \n",
        "  if cv2.waitKey(1) == ord(\"Q\"):\n",
        "    break\n",
        "\n",
        "cap.release()\n",
        "cv2.destroyAllWindows()"
      ]
    },
    {
      "cell_type": "code",
      "execution_count": null,
      "metadata": {
        "id": "ReutYt0uDV9-"
      },
      "outputs": [],
      "source": []
    }
  ],
  "metadata": {
    "accelerator": "GPU",
    "colab": {
      "collapsed_sections": [],
      "provenance": [],
      "mount_file_id": "1hiPtrmQxQiVASe6paFhddDgvGV15MNej",
      "authorship_tag": "ABX9TyNeCAZycjLlIbJkps4/TQ+5",
      "include_colab_link": true
    },
    "gpuClass": "standard",
    "kernelspec": {
      "display_name": "Python 3",
      "name": "python3"
    },
    "language_info": {
      "name": "python"
    }
  },
  "nbformat": 4,
  "nbformat_minor": 0
}