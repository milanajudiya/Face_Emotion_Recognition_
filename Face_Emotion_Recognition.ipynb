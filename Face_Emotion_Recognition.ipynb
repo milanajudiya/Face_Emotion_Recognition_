{
  "cells": [
    {
      "cell_type": "markdown",
      "metadata": {
        "id": "view-in-github",
        "colab_type": "text"
      },
      "source": [
        "<a href=\"https://colab.research.google.com/github/milanajudiya/Face_Emotion_Recognition_/blob/main/Face_Emotion_Recognition.ipynb\" target=\"_parent\"><img src=\"https://colab.research.google.com/assets/colab-badge.svg\" alt=\"Open In Colab\"/></a>"
      ]
    },
    {
      "cell_type": "markdown",
      "metadata": {
        "id": "MJ-LH1UVpPxJ"
      },
      "source": [
        "# **Project Introduction**\n",
        "The Indian education landscape has been undergoing rapid changes for the past 10 years owing to the advancement of web-based learning services, specifically, eLearning platforms.Global E-learning is estimated to witness an 8X over the next 5 years to reach USD 2B in 2021. India\n",
        "is expected to grow with a CAGR of 44% crossing the 10M users mark in 2021. Although the market\n",
        "is growing on a rapid scale, there are major challenges associated with digital learning when\n",
        "compared with brick and mortar classrooms. One of many challenges is how to ensure quality\n",
        "learning for students. Digital platforms might overpower physical classrooms in terms of content\n",
        "quality but when it comes to understanding whether students are able to grasp the content in a live\n",
        "class scenario is yet an open-end challenge.\n",
        "In a physical classroom during a lecturing teacher can see the faces and assess the emotion of the\n",
        "class and tune their lecture accordingly, whether he is going fast or slow. He can identify students who\n",
        "need special attention. Digital classrooms are conducted via video telephony software program (ex : Zoom) where it’s not possible for medium scale class (25-50) to see all students and access the\n",
        "mood. Because of this drawback, students are not focusing on content due to lack of surveillance.\n",
        "While digital platforms have limitations in terms of physical surveillance but it comes with the power of\n",
        "data and machines which can work for you. It provides data in the form of video, audio, and texts\n",
        "which can be analysed using deep learning algorithms. Deep learning backed system not only solves\n",
        "the surveillance issue, but it also removes the human bias from the system, and all information is no\n",
        "longer in the teacher’s brain rather translated in numbers that can be analysed and tracked.\n"
      ]
    },
    {
      "cell_type": "markdown",
      "metadata": {
        "id": "FJo30lRYpukr"
      },
      "source": [
        "## **Problem Statements**\n",
        "We will solve the above-mentioned challenge by applying deep learning algorithms to live video data.\n",
        "The solution to this problem is by recognizing facial emotions"
      ]
    },
    {
      "cell_type": "markdown",
      "source": [
        "##**Install packages**"
      ],
      "metadata": {
        "id": "Bjr1PkCC3si1"
      }
    },
    {
      "cell_type": "code",
      "execution_count": null,
      "metadata": {
        "colab": {
          "base_uri": "https://localhost:8080/"
        },
        "id": "2Pf39H3BseM5",
        "outputId": "8aab8229-828c-46a7-c563-7a0127299d2e"
      },
      "outputs": [
        {
          "output_type": "stream",
          "name": "stdout",
          "text": [
            "Looking in indexes: https://pypi.org/simple, https://us-python.pkg.dev/colab-wheels/public/simple/\n",
            "Requirement already satisfied: tensorflow===2.4.1 in /usr/local/lib/python3.7/dist-packages (2.4.1)\n",
            "Requirement already satisfied: wrapt~=1.12.1 in /usr/local/lib/python3.7/dist-packages (from tensorflow===2.4.1) (1.12.1)\n",
            "Requirement already satisfied: tensorflow-estimator<2.5.0,>=2.4.0 in /usr/local/lib/python3.7/dist-packages (from tensorflow===2.4.1) (2.4.0)\n",
            "Requirement already satisfied: grpcio~=1.32.0 in /usr/local/lib/python3.7/dist-packages (from tensorflow===2.4.1) (1.32.0)\n",
            "Requirement already satisfied: astunparse~=1.6.3 in /usr/local/lib/python3.7/dist-packages (from tensorflow===2.4.1) (1.6.3)\n",
            "Requirement already satisfied: absl-py~=0.10 in /usr/local/lib/python3.7/dist-packages (from tensorflow===2.4.1) (0.15.0)\n",
            "Requirement already satisfied: opt-einsum~=3.3.0 in /usr/local/lib/python3.7/dist-packages (from tensorflow===2.4.1) (3.3.0)\n",
            "Requirement already satisfied: tensorboard~=2.4 in /usr/local/lib/python3.7/dist-packages (from tensorflow===2.4.1) (2.8.0)\n",
            "Requirement already satisfied: h5py~=2.10.0 in /usr/local/lib/python3.7/dist-packages (from tensorflow===2.4.1) (2.10.0)\n",
            "Requirement already satisfied: six~=1.15.0 in /usr/local/lib/python3.7/dist-packages (from tensorflow===2.4.1) (1.15.0)\n",
            "Requirement already satisfied: protobuf>=3.9.2 in /usr/local/lib/python3.7/dist-packages (from tensorflow===2.4.1) (3.17.3)\n",
            "Requirement already satisfied: numpy~=1.19.2 in /usr/local/lib/python3.7/dist-packages (from tensorflow===2.4.1) (1.19.5)\n",
            "Requirement already satisfied: keras-preprocessing~=1.1.2 in /usr/local/lib/python3.7/dist-packages (from tensorflow===2.4.1) (1.1.2)\n",
            "Requirement already satisfied: flatbuffers~=1.12.0 in /usr/local/lib/python3.7/dist-packages (from tensorflow===2.4.1) (1.12)\n",
            "Requirement already satisfied: termcolor~=1.1.0 in /usr/local/lib/python3.7/dist-packages (from tensorflow===2.4.1) (1.1.0)\n",
            "Requirement already satisfied: typing-extensions~=3.7.4 in /usr/local/lib/python3.7/dist-packages (from tensorflow===2.4.1) (3.7.4.3)\n",
            "Requirement already satisfied: wheel~=0.35 in /usr/local/lib/python3.7/dist-packages (from tensorflow===2.4.1) (0.37.1)\n",
            "Requirement already satisfied: gast==0.3.3 in /usr/local/lib/python3.7/dist-packages (from tensorflow===2.4.1) (0.3.3)\n",
            "Requirement already satisfied: google-pasta~=0.2 in /usr/local/lib/python3.7/dist-packages (from tensorflow===2.4.1) (0.2.0)\n",
            "Requirement already satisfied: setuptools>=41.0.0 in /usr/local/lib/python3.7/dist-packages (from tensorboard~=2.4->tensorflow===2.4.1) (57.4.0)\n",
            "Requirement already satisfied: google-auth-oauthlib<0.5,>=0.4.1 in /usr/local/lib/python3.7/dist-packages (from tensorboard~=2.4->tensorflow===2.4.1) (0.4.6)\n",
            "Requirement already satisfied: markdown>=2.6.8 in /usr/local/lib/python3.7/dist-packages (from tensorboard~=2.4->tensorflow===2.4.1) (3.4.1)\n",
            "Requirement already satisfied: tensorboard-data-server<0.7.0,>=0.6.0 in /usr/local/lib/python3.7/dist-packages (from tensorboard~=2.4->tensorflow===2.4.1) (0.6.1)\n",
            "Requirement already satisfied: google-auth<3,>=1.6.3 in /usr/local/lib/python3.7/dist-packages (from tensorboard~=2.4->tensorflow===2.4.1) (1.35.0)\n",
            "Requirement already satisfied: tensorboard-plugin-wit>=1.6.0 in /usr/local/lib/python3.7/dist-packages (from tensorboard~=2.4->tensorflow===2.4.1) (1.8.1)\n",
            "Requirement already satisfied: werkzeug>=0.11.15 in /usr/local/lib/python3.7/dist-packages (from tensorboard~=2.4->tensorflow===2.4.1) (1.0.1)\n",
            "Requirement already satisfied: requests<3,>=2.21.0 in /usr/local/lib/python3.7/dist-packages (from tensorboard~=2.4->tensorflow===2.4.1) (2.23.0)\n",
            "Requirement already satisfied: rsa<5,>=3.1.4 in /usr/local/lib/python3.7/dist-packages (from google-auth<3,>=1.6.3->tensorboard~=2.4->tensorflow===2.4.1) (4.9)\n",
            "Requirement already satisfied: cachetools<5.0,>=2.0.0 in /usr/local/lib/python3.7/dist-packages (from google-auth<3,>=1.6.3->tensorboard~=2.4->tensorflow===2.4.1) (4.2.4)\n",
            "Requirement already satisfied: pyasn1-modules>=0.2.1 in /usr/local/lib/python3.7/dist-packages (from google-auth<3,>=1.6.3->tensorboard~=2.4->tensorflow===2.4.1) (0.2.8)\n",
            "Requirement already satisfied: requests-oauthlib>=0.7.0 in /usr/local/lib/python3.7/dist-packages (from google-auth-oauthlib<0.5,>=0.4.1->tensorboard~=2.4->tensorflow===2.4.1) (1.3.1)\n",
            "Requirement already satisfied: importlib-metadata>=4.4 in /usr/local/lib/python3.7/dist-packages (from markdown>=2.6.8->tensorboard~=2.4->tensorflow===2.4.1) (4.12.0)\n",
            "Requirement already satisfied: zipp>=0.5 in /usr/local/lib/python3.7/dist-packages (from importlib-metadata>=4.4->markdown>=2.6.8->tensorboard~=2.4->tensorflow===2.4.1) (3.8.1)\n",
            "Requirement already satisfied: pyasn1<0.5.0,>=0.4.6 in /usr/local/lib/python3.7/dist-packages (from pyasn1-modules>=0.2.1->google-auth<3,>=1.6.3->tensorboard~=2.4->tensorflow===2.4.1) (0.4.8)\n",
            "Requirement already satisfied: idna<3,>=2.5 in /usr/local/lib/python3.7/dist-packages (from requests<3,>=2.21.0->tensorboard~=2.4->tensorflow===2.4.1) (2.10)\n",
            "Requirement already satisfied: urllib3!=1.25.0,!=1.25.1,<1.26,>=1.21.1 in /usr/local/lib/python3.7/dist-packages (from requests<3,>=2.21.0->tensorboard~=2.4->tensorflow===2.4.1) (1.24.3)\n",
            "Requirement already satisfied: certifi>=2017.4.17 in /usr/local/lib/python3.7/dist-packages (from requests<3,>=2.21.0->tensorboard~=2.4->tensorflow===2.4.1) (2022.6.15)\n",
            "Requirement already satisfied: chardet<4,>=3.0.2 in /usr/local/lib/python3.7/dist-packages (from requests<3,>=2.21.0->tensorboard~=2.4->tensorflow===2.4.1) (3.0.4)\n",
            "Requirement already satisfied: oauthlib>=3.0.0 in /usr/local/lib/python3.7/dist-packages (from requests-oauthlib>=0.7.0->google-auth-oauthlib<0.5,>=0.4.1->tensorboard~=2.4->tensorflow===2.4.1) (3.2.0)\n"
          ]
        }
      ],
      "source": [
        "!pip install tensorflow===2.4.1"
      ]
    },
    {
      "cell_type": "code",
      "execution_count": null,
      "metadata": {
        "colab": {
          "base_uri": "https://localhost:8080/"
        },
        "id": "WeNfvoVrtfHV",
        "outputId": "8d5d08d2-0790-4f4c-8ec9-a98115f37e13"
      },
      "outputs": [
        {
          "output_type": "stream",
          "name": "stdout",
          "text": [
            "Looking in indexes: https://pypi.org/simple, https://us-python.pkg.dev/colab-wheels/public/simple/\n",
            "Requirement already satisfied: keras===2.4.3 in /usr/local/lib/python3.7/dist-packages (2.4.3)\n",
            "Requirement already satisfied: scipy>=0.14 in /usr/local/lib/python3.7/dist-packages (from keras===2.4.3) (1.7.3)\n",
            "Requirement already satisfied: h5py in /usr/local/lib/python3.7/dist-packages (from keras===2.4.3) (2.10.0)\n",
            "Requirement already satisfied: numpy>=1.9.1 in /usr/local/lib/python3.7/dist-packages (from keras===2.4.3) (1.19.5)\n",
            "Requirement already satisfied: pyyaml in /usr/local/lib/python3.7/dist-packages (from keras===2.4.3) (6.0)\n",
            "Requirement already satisfied: six in /usr/local/lib/python3.7/dist-packages (from h5py->keras===2.4.3) (1.15.0)\n"
          ]
        }
      ],
      "source": [
        "!pip install keras===2.4.3"
      ]
    },
    {
      "cell_type": "markdown",
      "source": [
        "##**Import Libraries**"
      ],
      "metadata": {
        "id": "GsTnwQSg31cf"
      }
    },
    {
      "cell_type": "code",
      "execution_count": 1,
      "metadata": {
        "id": "qcbenYjgpAbe"
      },
      "outputs": [],
      "source": [
        "# import libraries\n",
        "import pandas as pd\n",
        "import numpy as np\n",
        "import seaborn as sns\n",
        "import matplotlib.pyplot as plt\n",
        "#inline matplotlib\n",
        "\n",
        "import tensorflow \n",
        "from tensorflow.keras.utils import to_categorical\n",
        "import os\n",
        "from PIL import Image\n",
        "\n",
        "from keras.models import Sequential\n",
        "from keras.layers import Dense, Dropout, Activation, Flatten, BatchNormalization\n",
        "from keras.layers.convolutional import Convolution2D, MaxPooling2D, ZeroPadding2D\n",
        "from tensorflow.keras.optimizers import Adam, SGD\n",
        "from keras.callbacks import EarlyStopping\n",
        "\n",
        "from sklearn.metrics import classification_report\n",
        "import cv2\n",
        "\n",
        "import warnings\n",
        "warnings.filterwarnings(\"ignore\")\n",
        "warnings.simplefilter(\"ignore\")"
      ]
    },
    {
      "cell_type": "markdown",
      "source": [
        "### checking the GPU device"
      ],
      "metadata": {
        "id": "JXXuLYdZ39yP"
      }
    },
    {
      "cell_type": "code",
      "execution_count": null,
      "metadata": {
        "colab": {
          "base_uri": "https://localhost:8080/",
          "height": 36
        },
        "id": "MJ8GYSkqpBDE",
        "outputId": "2944c295-e1cf-4241-de91-89767c20b353"
      },
      "outputs": [
        {
          "output_type": "execute_result",
          "data": {
            "text/plain": [
              "'/device:GPU:0'"
            ],
            "application/vnd.google.colaboratory.intrinsic+json": {
              "type": "string"
            }
          },
          "metadata": {},
          "execution_count": 5
        }
      ],
      "source": [
        "tensorflow.test.gpu_device_name()"
      ]
    },
    {
      "cell_type": "markdown",
      "source": [
        "### Mounting the Google Drive"
      ],
      "metadata": {
        "id": "lV5wpMtQ4DQd"
      }
    },
    {
      "cell_type": "code",
      "execution_count": 2,
      "metadata": {
        "colab": {
          "base_uri": "https://localhost:8080/"
        },
        "id": "Mzp8BxQJ3BYo",
        "outputId": "317f1bc5-d8ed-4723-b551-f2d2631ccd35"
      },
      "outputs": [
        {
          "output_type": "stream",
          "name": "stdout",
          "text": [
            "Drive already mounted at /content/drive; to attempt to forcibly remount, call drive.mount(\"/content/drive\", force_remount=True).\n"
          ]
        }
      ],
      "source": [
        "from google.colab import drive\n",
        "drive.mount('/content/drive')"
      ]
    },
    {
      "cell_type": "markdown",
      "source": [
        "##**Read the data from Drive**"
      ],
      "metadata": {
        "id": "Cme4uhW94MuD"
      }
    },
    {
      "cell_type": "code",
      "execution_count": 3,
      "metadata": {
        "id": "uTyk2M7PsHsN"
      },
      "outputs": [],
      "source": [
        "data = pd.read_csv(\"/content/drive/MyDrive/Face Emotion Recognition - Milan Ajudiya/Data/fer2013.csv\")"
      ]
    },
    {
      "cell_type": "code",
      "execution_count": 4,
      "metadata": {
        "colab": {
          "base_uri": "https://localhost:8080/",
          "height": 206
        },
        "id": "If29QXWU2xNe",
        "outputId": "a63fbeb5-b154-4006-ad6f-745bddf74f33"
      },
      "outputs": [
        {
          "output_type": "execute_result",
          "data": {
            "text/plain": [
              "   emotion                                             pixels     Usage\n",
              "0        0  70 80 82 72 58 58 60 63 54 58 60 48 89 115 121...  Training\n",
              "1        0  151 150 147 155 148 133 111 140 170 174 182 15...  Training\n",
              "2        2  231 212 156 164 174 138 161 173 182 200 106 38...  Training\n",
              "3        4  24 32 36 30 32 23 19 20 30 41 21 22 32 34 21 1...  Training\n",
              "4        6  4 0 0 0 0 0 0 0 0 0 0 0 3 15 23 28 48 50 58 84...  Training"
            ],
            "text/html": [
              "\n",
              "  <div id=\"df-4530043c-dc0f-4aeb-8838-1bed054d1f27\">\n",
              "    <div class=\"colab-df-container\">\n",
              "      <div>\n",
              "<style scoped>\n",
              "    .dataframe tbody tr th:only-of-type {\n",
              "        vertical-align: middle;\n",
              "    }\n",
              "\n",
              "    .dataframe tbody tr th {\n",
              "        vertical-align: top;\n",
              "    }\n",
              "\n",
              "    .dataframe thead th {\n",
              "        text-align: right;\n",
              "    }\n",
              "</style>\n",
              "<table border=\"1\" class=\"dataframe\">\n",
              "  <thead>\n",
              "    <tr style=\"text-align: right;\">\n",
              "      <th></th>\n",
              "      <th>emotion</th>\n",
              "      <th>pixels</th>\n",
              "      <th>Usage</th>\n",
              "    </tr>\n",
              "  </thead>\n",
              "  <tbody>\n",
              "    <tr>\n",
              "      <th>0</th>\n",
              "      <td>0</td>\n",
              "      <td>70 80 82 72 58 58 60 63 54 58 60 48 89 115 121...</td>\n",
              "      <td>Training</td>\n",
              "    </tr>\n",
              "    <tr>\n",
              "      <th>1</th>\n",
              "      <td>0</td>\n",
              "      <td>151 150 147 155 148 133 111 140 170 174 182 15...</td>\n",
              "      <td>Training</td>\n",
              "    </tr>\n",
              "    <tr>\n",
              "      <th>2</th>\n",
              "      <td>2</td>\n",
              "      <td>231 212 156 164 174 138 161 173 182 200 106 38...</td>\n",
              "      <td>Training</td>\n",
              "    </tr>\n",
              "    <tr>\n",
              "      <th>3</th>\n",
              "      <td>4</td>\n",
              "      <td>24 32 36 30 32 23 19 20 30 41 21 22 32 34 21 1...</td>\n",
              "      <td>Training</td>\n",
              "    </tr>\n",
              "    <tr>\n",
              "      <th>4</th>\n",
              "      <td>6</td>\n",
              "      <td>4 0 0 0 0 0 0 0 0 0 0 0 3 15 23 28 48 50 58 84...</td>\n",
              "      <td>Training</td>\n",
              "    </tr>\n",
              "  </tbody>\n",
              "</table>\n",
              "</div>\n",
              "      <button class=\"colab-df-convert\" onclick=\"convertToInteractive('df-4530043c-dc0f-4aeb-8838-1bed054d1f27')\"\n",
              "              title=\"Convert this dataframe to an interactive table.\"\n",
              "              style=\"display:none;\">\n",
              "        \n",
              "  <svg xmlns=\"http://www.w3.org/2000/svg\" height=\"24px\"viewBox=\"0 0 24 24\"\n",
              "       width=\"24px\">\n",
              "    <path d=\"M0 0h24v24H0V0z\" fill=\"none\"/>\n",
              "    <path d=\"M18.56 5.44l.94 2.06.94-2.06 2.06-.94-2.06-.94-.94-2.06-.94 2.06-2.06.94zm-11 1L8.5 8.5l.94-2.06 2.06-.94-2.06-.94L8.5 2.5l-.94 2.06-2.06.94zm10 10l.94 2.06.94-2.06 2.06-.94-2.06-.94-.94-2.06-.94 2.06-2.06.94z\"/><path d=\"M17.41 7.96l-1.37-1.37c-.4-.4-.92-.59-1.43-.59-.52 0-1.04.2-1.43.59L10.3 9.45l-7.72 7.72c-.78.78-.78 2.05 0 2.83L4 21.41c.39.39.9.59 1.41.59.51 0 1.02-.2 1.41-.59l7.78-7.78 2.81-2.81c.8-.78.8-2.07 0-2.86zM5.41 20L4 18.59l7.72-7.72 1.47 1.35L5.41 20z\"/>\n",
              "  </svg>\n",
              "      </button>\n",
              "      \n",
              "  <style>\n",
              "    .colab-df-container {\n",
              "      display:flex;\n",
              "      flex-wrap:wrap;\n",
              "      gap: 12px;\n",
              "    }\n",
              "\n",
              "    .colab-df-convert {\n",
              "      background-color: #E8F0FE;\n",
              "      border: none;\n",
              "      border-radius: 50%;\n",
              "      cursor: pointer;\n",
              "      display: none;\n",
              "      fill: #1967D2;\n",
              "      height: 32px;\n",
              "      padding: 0 0 0 0;\n",
              "      width: 32px;\n",
              "    }\n",
              "\n",
              "    .colab-df-convert:hover {\n",
              "      background-color: #E2EBFA;\n",
              "      box-shadow: 0px 1px 2px rgba(60, 64, 67, 0.3), 0px 1px 3px 1px rgba(60, 64, 67, 0.15);\n",
              "      fill: #174EA6;\n",
              "    }\n",
              "\n",
              "    [theme=dark] .colab-df-convert {\n",
              "      background-color: #3B4455;\n",
              "      fill: #D2E3FC;\n",
              "    }\n",
              "\n",
              "    [theme=dark] .colab-df-convert:hover {\n",
              "      background-color: #434B5C;\n",
              "      box-shadow: 0px 1px 3px 1px rgba(0, 0, 0, 0.15);\n",
              "      filter: drop-shadow(0px 1px 2px rgba(0, 0, 0, 0.3));\n",
              "      fill: #FFFFFF;\n",
              "    }\n",
              "  </style>\n",
              "\n",
              "      <script>\n",
              "        const buttonEl =\n",
              "          document.querySelector('#df-4530043c-dc0f-4aeb-8838-1bed054d1f27 button.colab-df-convert');\n",
              "        buttonEl.style.display =\n",
              "          google.colab.kernel.accessAllowed ? 'block' : 'none';\n",
              "\n",
              "        async function convertToInteractive(key) {\n",
              "          const element = document.querySelector('#df-4530043c-dc0f-4aeb-8838-1bed054d1f27');\n",
              "          const dataTable =\n",
              "            await google.colab.kernel.invokeFunction('convertToInteractive',\n",
              "                                                     [key], {});\n",
              "          if (!dataTable) return;\n",
              "\n",
              "          const docLinkHtml = 'Like what you see? Visit the ' +\n",
              "            '<a target=\"_blank\" href=https://colab.research.google.com/notebooks/data_table.ipynb>data table notebook</a>'\n",
              "            + ' to learn more about interactive tables.';\n",
              "          element.innerHTML = '';\n",
              "          dataTable['output_type'] = 'display_data';\n",
              "          await google.colab.output.renderOutput(dataTable, element);\n",
              "          const docLink = document.createElement('div');\n",
              "          docLink.innerHTML = docLinkHtml;\n",
              "          element.appendChild(docLink);\n",
              "        }\n",
              "      </script>\n",
              "    </div>\n",
              "  </div>\n",
              "  "
            ]
          },
          "metadata": {},
          "execution_count": 4
        }
      ],
      "source": [
        "data.head()"
      ]
    },
    {
      "cell_type": "markdown",
      "source": [
        "###**Shape of data**"
      ],
      "metadata": {
        "id": "gNUEfm-a4U90"
      }
    },
    {
      "cell_type": "code",
      "execution_count": null,
      "metadata": {
        "colab": {
          "base_uri": "https://localhost:8080/"
        },
        "id": "sPPnpGLH3LaT",
        "outputId": "2732f714-aa61-4980-b7ad-b0e8a8a78cbe"
      },
      "outputs": [
        {
          "output_type": "execute_result",
          "data": {
            "text/plain": [
              "(35887, 3)"
            ]
          },
          "metadata": {},
          "execution_count": 9
        }
      ],
      "source": [
        "# shape of data\n",
        "data.shape"
      ]
    },
    {
      "cell_type": "code",
      "execution_count": null,
      "metadata": {
        "colab": {
          "base_uri": "https://localhost:8080/"
        },
        "id": "CqWRS4qj3Otx",
        "outputId": "e838b54c-2524-4cc7-def4-9d73658b265c"
      },
      "outputs": [
        {
          "output_type": "execute_result",
          "data": {
            "text/plain": [
              "emotion    0\n",
              "pixels     0\n",
              "Usage      0\n",
              "dtype: int64"
            ]
          },
          "metadata": {},
          "execution_count": 10
        }
      ],
      "source": [
        "# check for null values\n",
        "data.isnull().sum()"
      ]
    },
    {
      "cell_type": "markdown",
      "source": [
        "### Data is clean dataset has no null values"
      ],
      "metadata": {
        "id": "g_qULtNZ4j15"
      }
    },
    {
      "cell_type": "code",
      "execution_count": 5,
      "metadata": {
        "colab": {
          "base_uri": "https://localhost:8080/"
        },
        "id": "aBNB6eF-3Y9b",
        "outputId": "68d9f2ec-c191-4ff1-8959-1cd58b5ff424"
      },
      "outputs": [
        {
          "output_type": "execute_result",
          "data": {
            "text/plain": [
              "Training       28709\n",
              "PublicTest      3589\n",
              "PrivateTest     3589\n",
              "Name: Usage, dtype: int64"
            ]
          },
          "metadata": {},
          "execution_count": 5
        }
      ],
      "source": [
        "# value counts of sets\n",
        "data[\"Usage\"].value_counts()"
      ]
    },
    {
      "cell_type": "code",
      "execution_count": null,
      "metadata": {
        "colab": {
          "base_uri": "https://localhost:8080/"
        },
        "id": "hwW7yqYT3ju1",
        "outputId": "c39cab72-a3b9-4134-fa3e-1f2d7f1a4dc5"
      },
      "outputs": [
        {
          "output_type": "execute_result",
          "data": {
            "text/plain": [
              "3    8989\n",
              "6    6198\n",
              "4    6077\n",
              "2    5121\n",
              "0    4953\n",
              "5    4002\n",
              "1     547\n",
              "Name: emotion, dtype: int64"
            ]
          },
          "metadata": {},
          "execution_count": 12
        }
      ],
      "source": [
        "data[\"emotion\"].value_counts()"
      ]
    },
    {
      "cell_type": "markdown",
      "metadata": {
        "id": "PBnw4X0U3sob"
      },
      "source": [
        "###As see there are seven different emotion."
      ]
    },
    {
      "cell_type": "code",
      "execution_count": null,
      "metadata": {
        "colab": {
          "base_uri": "https://localhost:8080/",
          "height": 1000
        },
        "id": "6aQy4KeK3qDm",
        "outputId": "5ae8b114-9b7a-43ba-9e30-e740833826d6"
      },
      "outputs": [
        {
          "output_type": "display_data",
          "data": {
            "text/plain": [
              "<Figure size 432x288 with 1 Axes>"
            ],
            "image/png": "[encoded data removed]"
          },
          "metadata": {
            "needs_background": "light"
          }
        },
        {
          "output_type": "display_data",
          "data": {
            "text/plain": [
              "<Figure size 432x288 with 1 Axes>"
            ],
            "image/png": "[encoded data removed]"
          },
          "metadata": {
            "needs_background": "light"
          }
        },
        {
          "output_type": "display_data",
          "data": {
            "text/plain": [
              "<Figure size 432x288 with 1 Axes>"
            ],
            "image/png": "[encoded data removed]"
          },
          "metadata": {
            "needs_background": "light"
          }
        },
        {
          "output_type": "display_data",
          "data": {
            "text/plain": [
              "<Figure size 432x288 with 1 Axes>"
            ],
            "image/png": "[encoded data removed]"
          },
          "metadata": {
            "needs_background": "light"
          }
        },
        {
          "output_type": "display_data",
          "data": {
            "text/plain": [
              "<Figure size 432x288 with 1 Axes>"
            ],
            "image/png": "[encoded data removed]"
          },
          "metadata": {
            "needs_background": "light"
          }
        },
        {
          "output_type": "display_data",
          "data": {
            "text/plain": [
              "<Figure size 432x288 with 1 Axes>"
            ],
            "image/png": "[encoded data removed]"
          },
          "metadata": {
            "needs_background": "light"
          }
        },
        {
          "output_type": "display_data",
          "data": {
            "text/plain": [
              "<Figure size 432x288 with 1 Axes>"
            ],
            "image/png": "[encoded data removed]"
          },
          "metadata": {
            "needs_background": "light"
          }
        }
      ],
      "source": [
        "# define the function to show different emotion images\n",
        "\n",
        "def show_imag(df_row, pixel_string,class_col):\n",
        "  pixels = df_row[pixel_string]\n",
        "  label = df_row[class_col]\n",
        "  # convert into array\n",
        "  picture = np.array(pixels.split())\n",
        "  picture = picture.reshape(48,48)\n",
        "  image = np.zeros((48,48,3))\n",
        "  # slice the image\n",
        "  image[:,:,0] = picture\n",
        "  image[:,:,1] = picture\n",
        "  image[:,:,2] = picture\n",
        "\n",
        "  return np.array([image.astype(np.uint8),label])\n",
        "\n",
        "# iterate overl all emotions\n",
        "for emotion in range(1,8):\n",
        "  pic = data[data[\"emotion\"] == emotion -1].iloc[0]\n",
        "  pic = show_imag(pic,\"pixels\",\"emotion\")\n",
        "  plt.imshow(pic[0])\n",
        "  plt.title(pic[1])\n",
        "  plt.show()"
      ]
    },
    {
      "cell_type": "markdown",
      "source": [
        "#**Data Description**"
      ],
      "metadata": {
        "id": "fIh6QFDX6AeW"
      }
    },
    {
      "cell_type": "markdown",
      "source": [
        "<p>This dataset contains 48*48 pixels grayscale image faces. The faces are autimatically registered so that the faces are more or less centered in each image and take up around some amount of area.<p>\n",
        "The sevent categories of emotion are (0=Angry,1=Disgust,2=Fear,3=Happy,4=Sad,5=Surprised,6=Neutral), dataset contains 28,709 training sets and 3589 test sets."
      ],
      "metadata": {
        "id": "s-dL71GY6OkT"
      }
    },
    {
      "cell_type": "code",
      "execution_count": null,
      "metadata": {
        "colab": {
          "base_uri": "https://localhost:8080/",
          "height": 405
        },
        "id": "2yab5ds96Jrn",
        "outputId": "629e764e-eaa0-4864-b1f0-3e7b9a94827d"
      },
      "outputs": [
        {
          "output_type": "execute_result",
          "data": {
            "text/plain": [
              "[<matplotlib.lines.Line2D at 0x7faf83573310>]"
            ]
          },
          "metadata": {},
          "execution_count": 14
        },
        {
          "output_type": "display_data",
          "data": {
            "text/plain": [
              "<Figure size 576x432 with 1 Axes>"
            ],
            "image/png": "[encoded data removed]"
          },
          "metadata": {
            "needs_background": "light"
          }
        }
      ],
      "source": [
        "# create the dictonary of different emotions \n",
        "emotion_dict = {0 : \"Angry\", 1:\"Disgust\", 2:\"Fear\", 3:\"happy\", 4:\"Sad\",5:\"Surprise\",6:\"Neutral\"}\n",
        "\n",
        "# make the copy of original dataset\n",
        "df = data.copy()\n",
        "\n",
        "# plot bar graph of different emotion \n",
        "df[\"emotion\"] = df[\"emotion\"].map(emotion_dict)\n",
        "plt.figure(figsize=(8,6))\n",
        "sns.countplot(x = df[\"emotion\"])\n",
        "plt.plot(\"Emotion\")"
      ]
    },
    {
      "cell_type": "markdown",
      "source": [
        "### As see in graph that there is more data of Happy, and very less data of Disgust."
      ],
      "metadata": {
        "id": "I5x2JnSi5mJk"
      }
    },
    {
      "cell_type": "markdown",
      "metadata": {
        "id": "8u9bPOGm7_Uf"
      },
      "source": [
        "## **Data preprocessing**"
      ]
    },
    {
      "cell_type": "code",
      "execution_count": null,
      "metadata": {
        "id": "Qx_oFwqc7gVm"
      },
      "outputs": [],
      "source": [
        "# split data into train validation and test\n",
        "train_data = data[data[\"Usage\"]== \"Training\"]\n",
        "val_data = data[data[\"Usage\"]== \"PublicTest\"]\n",
        "test_data = data[data[\"Usage\"]== \"PrivateTest\"]\n"
      ]
    },
    {
      "cell_type": "code",
      "execution_count": null,
      "metadata": {
        "colab": {
          "base_uri": "https://localhost:8080/"
        },
        "id": "sSCq0tt28i0_",
        "outputId": "a2e1559a-b185-4a7d-f24e-d0a9bf7d6a83"
      },
      "outputs": [
        {
          "output_type": "stream",
          "name": "stdout",
          "text": [
            "train data (28709, 3)\n",
            "validation data (3589, 3)\n",
            "test data (3589, 3)\n"
          ]
        }
      ],
      "source": [
        "print(\"train data\",train_data.shape)\n",
        "print(\"validation data\",val_data.shape)\n",
        "print(\"test data\",test_data.shape)"
      ]
    },
    {
      "cell_type": "code",
      "execution_count": null,
      "metadata": {
        "id": "ZSs_dNrS8yDC"
      },
      "outputs": [],
      "source": [
        "# resetting the index and drop usage\n",
        "for col in [train_data,val_data,test_data]:\n",
        "  col.reset_index(drop=True,inplace=True)\n",
        "  col.drop(\"Usage\",axis=1,inplace=True)"
      ]
    },
    {
      "cell_type": "code",
      "execution_count": null,
      "metadata": {
        "id": "Yf7tb5B29bqC"
      },
      "outputs": [],
      "source": [
        "# prepare data for test\n",
        "test_data[\"pixels\"] = test_data[\"pixels\"].apply(lambda pixels : [int(x)for x in pixels.split()])\n",
        "x_test = np.array(test_data[\"pixels\"].tolist(),dtype =\"float32\").reshape(-1,48,48,1)/255.0\n",
        "y_test = to_categorical(test_data[\"emotion\"],num_classes = 7,dtype =\"uint8\")"
      ]
    },
    {
      "cell_type": "markdown",
      "source": [
        "The method flow from directory for Image Data Augmentation expects that images belonging to different classes are present in different folders but are inside the same parent folder."
      ],
      "metadata": {
        "id": "dB4ExPna7A7y"
      }
    },
    {
      "cell_type": "code",
      "execution_count": null,
      "metadata": {
        "id": "yJInszzf-paq"
      },
      "outputs": [],
      "source": [
        "# main directory path \n",
        "\n",
        "path = \"/content/drive/MyDrive/Face Emotion Recognition - Milan Ajudiya/Data/\""
      ]
    },
    {
      "cell_type": "code",
      "execution_count": null,
      "metadata": {
        "id": "FLAuWZJBAFjz"
      },
      "outputs": [],
      "source": [
        "# image data dictonary creation\n",
        "\n",
        "def create_direc(path,class_list):\n",
        "  \n",
        "  #create train validation directory\n",
        "  train_path = os.path.join(path,'TRAin_directory______')\n",
        "  val_path = os.path.join(path,'VALid_directory______')\n",
        "  os.mkdir(train_path)\n",
        "  os.mkdir(val_path)\n",
        "  for data_path,categ in {train_path :'train-' ,val_path:'valid-'}.items():\n",
        "    for label in class_list:\n",
        "      label_dir =os.path.join(data_path,categ+str(label))\n",
        "      os.mkdir(label_dir)"
      ]
    },
    {
      "cell_type": "code",
      "execution_count": null,
      "metadata": {
        "id": "mQgN_kH3CEsR"
      },
      "outputs": [],
      "source": [
        "# create Dictonaries\n",
        "create_direc(path,[0,1,2,3,4,5,6])"
      ]
    },
    {
      "cell_type": "code",
      "execution_count": null,
      "metadata": {
        "id": "OTJomFLcwU3k"
      },
      "outputs": [],
      "source": [
        "train_path = \"/content/drive/MyDrive/Face Emotion Recognition - Milan Ajudiya/Data/TRAin_directory______\"\n",
        "val_path = \"/content/drive/MyDrive/Face Emotion Recognition - Milan Ajudiya/Data/VALid_directory______\""
      ]
    },
    {
      "cell_type": "code",
      "execution_count": null,
      "metadata": {
        "id": "s5vTgTaKyLPk"
      },
      "outputs": [],
      "source": [
        "# save image\n",
        "def save_image(df1,df1_path,pixel_col,class_col,class_list,prefix):\n",
        "  for i in range(len(df1)):\n",
        "    pixel_string = df1[pixel_col][i]\n",
        "    pixels = list(map(int,pixel_string.split()))\n",
        "    matrix = np.array(pixels).reshape(48,48).astype(np.uint8)\n",
        "    imag = Image.fromarray(matrix)\n",
        "    for label in class_list: \n",
        "      if str(df1[class_col][i]) in prefix  + str(label):\n",
        "        imag.save(df1_path + \"/\" + prefix + str(label)+ \"/\" + prefix +str(label) + \"-\" +str(i) + \".png\")\n",
        "      else:\n",
        "        continue"
      ]
    },
    {
      "cell_type": "code",
      "execution_count": null,
      "metadata": {
        "id": "RHlnr4LM0inL"
      },
      "outputs": [],
      "source": [
        "# train image\n",
        "save_image(train_data,train_path,\"pixels\",\"emotion\",[0,1,2,3,4,5,6],'train-')\n"
      ]
    },
    {
      "cell_type": "code",
      "execution_count": null,
      "metadata": {
        "id": "X6RwlkDe7ujq"
      },
      "outputs": [],
      "source": [
        "#validation image\n",
        "save_image(val_data,val_path,\"pixels\",\"emotion\",[0,1,2,3,4,5,6],'valid-')"
      ]
    },
    {
      "cell_type": "code",
      "execution_count": null,
      "metadata": {
        "id": "GrM8YMQF1axo"
      },
      "outputs": [],
      "source": [
        "# image preprocessing\n",
        "from keras.preprocessing.image import ImageDataGenerator\n",
        "def image_data_gen(train_path,val_path,target_size,batch_size,color_mode,class_mode):\n",
        "\n",
        "  # initialising generator for train validation and validation sets\n",
        "  train_datagen = ImageDataGenerator(rescale = 1./255, rotation_range = 10, horizontal_flip = True, width_shift_range = 0.1, height_shift_range= 0.1, fill_mode= \"nearest\")\n",
        "  valid_datagen = ImageDataGenerator(rescale = 1./255)\n",
        "\n",
        "  train_generator = train_datagen.flow_from_directory(\n",
        "      train_path,\n",
        "      target_size=target_size,\n",
        "      batch_size=batch_size,\n",
        "      color_mode=color_mode,\n",
        "      seed = 42,\n",
        "      shuffle = True,\n",
        "      class_mode = class_mode)\n",
        "  \n",
        "  valid_generator = valid_datagen.flow_from_directory(\n",
        "      val_path,\n",
        "      target_size=target_size,\n",
        "      batch_size=batch_size,\n",
        "      color_mode=color_mode,\n",
        "      seed = 42,\n",
        "      shuffle = True,\n",
        "      class_mode = class_mode)\n",
        "  \n",
        "  return train_generator, valid_generator"
      ]
    },
    {
      "cell_type": "markdown",
      "source": [
        "## Generate Image"
      ],
      "metadata": {
        "id": "eraXqICS7pUD"
      }
    },
    {
      "cell_type": "code",
      "execution_count": null,
      "metadata": {
        "colab": {
          "base_uri": "https://localhost:8080/"
        },
        "id": "mF3GjjZI4Cxa",
        "outputId": "8baeb9a4-8064-478a-b853-75894809e704"
      },
      "outputs": [
        {
          "output_type": "stream",
          "name": "stdout",
          "text": [
            "Found 28709 images belonging to 7 classes.\n",
            "Found 3589 images belonging to 7 classes.\n"
          ]
        }
      ],
      "source": [
        "# image generator\n",
        "\n",
        "train_gen, valid_gen = image_data_gen(train_path,val_path,target_size = (48,48),batch_size = 64, color_mode = \"grayscale\",class_mode = \"categorical\")"
      ]
    },
    {
      "cell_type": "markdown",
      "metadata": {
        "id": "iiMcTnpf4zxr"
      },
      "source": [
        "### **Model Building**"
      ]
    },
    {
      "cell_type": "code",
      "execution_count": null,
      "metadata": {
        "colab": {
          "base_uri": "https://localhost:8080/"
        },
        "id": "1pHzcSYC4t_q",
        "outputId": "0511fb51-fff7-44b9-d66f-ddd6eb98136b"
      },
      "outputs": [
        {
          "output_type": "stream",
          "name": "stdout",
          "text": [
            "Model: \"sequential\"\n",
            "_________________________________________________________________\n",
            "Layer (type)                 Output Shape              Param #   \n",
            "=================================================================\n",
            "conv2d (Conv2D)              (None, 48, 48, 64)        640       \n",
            "_________________________________________________________________\n",
            "batch_normalization (BatchNo (None, 48, 48, 64)        256       \n",
            "_________________________________________________________________\n",
            "conv2d_1 (Conv2D)            (None, 48, 48, 64)        36928     \n",
            "_________________________________________________________________\n",
            "batch_normalization_1 (Batch (None, 48, 48, 64)        256       \n",
            "_________________________________________________________________\n",
            "max_pooling2d (MaxPooling2D) (None, 24, 24, 64)        0         \n",
            "_________________________________________________________________\n",
            "dropout (Dropout)            (None, 24, 24, 64)        0         \n",
            "_________________________________________________________________\n",
            "conv2d_2 (Conv2D)            (None, 24, 24, 128)       73856     \n",
            "_________________________________________________________________\n",
            "batch_normalization_2 (Batch (None, 24, 24, 128)       512       \n",
            "_________________________________________________________________\n",
            "conv2d_3 (Conv2D)            (None, 24, 24, 128)       147584    \n",
            "_________________________________________________________________\n",
            "batch_normalization_3 (Batch (None, 24, 24, 128)       512       \n",
            "_________________________________________________________________\n",
            "conv2d_4 (Conv2D)            (None, 24, 24, 128)       147584    \n",
            "_________________________________________________________________\n",
            "batch_normalization_4 (Batch (None, 24, 24, 128)       512       \n",
            "_________________________________________________________________\n",
            "max_pooling2d_1 (MaxPooling2 (None, 12, 12, 128)       0         \n",
            "_________________________________________________________________\n",
            "dropout_1 (Dropout)          (None, 12, 12, 128)       0         \n",
            "_________________________________________________________________\n",
            "conv2d_5 (Conv2D)            (None, 12, 12, 256)       295168    \n",
            "_________________________________________________________________\n",
            "batch_normalization_5 (Batch (None, 12, 12, 256)       1024      \n",
            "_________________________________________________________________\n",
            "conv2d_6 (Conv2D)            (None, 12, 12, 256)       590080    \n",
            "_________________________________________________________________\n",
            "batch_normalization_6 (Batch (None, 12, 12, 256)       1024      \n",
            "_________________________________________________________________\n",
            "conv2d_7 (Conv2D)            (None, 12, 12, 256)       590080    \n",
            "_________________________________________________________________\n",
            "batch_normalization_7 (Batch (None, 12, 12, 256)       1024      \n",
            "_________________________________________________________________\n",
            "max_pooling2d_2 (MaxPooling2 (None, 6, 6, 256)         0         \n",
            "_________________________________________________________________\n",
            "dropout_2 (Dropout)          (None, 6, 6, 256)         0         \n",
            "_________________________________________________________________\n",
            "conv2d_8 (Conv2D)            (None, 6, 6, 256)         590080    \n",
            "_________________________________________________________________\n",
            "batch_normalization_8 (Batch (None, 6, 6, 256)         1024      \n",
            "_________________________________________________________________\n",
            "conv2d_9 (Conv2D)            (None, 6, 6, 256)         590080    \n",
            "_________________________________________________________________\n",
            "batch_normalization_9 (Batch (None, 6, 6, 256)         1024      \n",
            "_________________________________________________________________\n",
            "conv2d_10 (Conv2D)           (None, 6, 6, 256)         590080    \n",
            "_________________________________________________________________\n",
            "batch_normalization_10 (Batc (None, 6, 6, 256)         1024      \n",
            "_________________________________________________________________\n",
            "max_pooling2d_3 (MaxPooling2 (None, 3, 3, 256)         0         \n",
            "_________________________________________________________________\n",
            "dropout_3 (Dropout)          (None, 3, 3, 256)         0         \n",
            "_________________________________________________________________\n",
            "flatten (Flatten)            (None, 2304)              0         \n",
            "_________________________________________________________________\n",
            "dense (Dense)                (None, 7)                 16135     \n",
            "=================================================================\n",
            "Total params: 3,676,487\n",
            "Trainable params: 3,672,391\n",
            "Non-trainable params: 4,096\n",
            "_________________________________________________________________\n"
          ]
        }
      ],
      "source": [
        "# model building\n",
        "model = Sequential()\n",
        "num_classes = 7\n",
        "\n",
        "# first block\n",
        "model.add(Convolution2D(64, kernel_size = 3, activation = \"relu\", padding = \"same\", input_shape =(48,48,1)))\n",
        "model.add(BatchNormalization())\n",
        "model.add(Convolution2D(64, kernel_size = 3, activation = \"relu\", padding = \"same\", input_shape =(48,48,1)))\n",
        "model.add(BatchNormalization())\n",
        "model.add(MaxPooling2D(pool_size=(2,2)))\n",
        "model.add(Dropout(0.25))\n",
        "\n",
        "# second block\n",
        "model.add(Convolution2D(128, kernel_size = 3, activation = \"relu\", padding = \"same\"))\n",
        "model.add(BatchNormalization())\n",
        "model.add(Convolution2D(128, kernel_size = 3, activation = \"relu\", padding = \"same\"))\n",
        "model.add(BatchNormalization())\n",
        "model.add(Convolution2D(128, kernel_size = 3, activation = \"relu\", padding = \"same\"))\n",
        "model.add(BatchNormalization())\n",
        "model.add(MaxPooling2D(pool_size=(2,2)))\n",
        "model.add(Dropout(0.3))\n",
        "\n",
        "# Third block\n",
        "model.add(Convolution2D(256, kernel_size = 3, activation = \"relu\", padding = \"same\"))\n",
        "model.add(BatchNormalization())\n",
        "model.add(Convolution2D(256, kernel_size = 3, activation = \"relu\", padding = \"same\"))\n",
        "model.add(BatchNormalization())\n",
        "model.add(Convolution2D(256, kernel_size = 3, activation = \"relu\", padding = \"same\"))\n",
        "model.add(BatchNormalization())\n",
        "model.add(MaxPooling2D(pool_size=(2,2)))\n",
        "model.add(Dropout(0.3))\n",
        "\n",
        "# fourth block\n",
        "model.add(Convolution2D(256, kernel_size = 3, activation = \"relu\", padding = \"same\"))\n",
        "model.add(BatchNormalization())\n",
        "model.add(Convolution2D(256, kernel_size = 3, activation = \"relu\", padding = \"same\"))\n",
        "model.add(BatchNormalization())\n",
        "model.add(Convolution2D(256, kernel_size = 3, activation = \"relu\", padding = \"same\"))\n",
        "model.add(BatchNormalization())\n",
        "model.add(MaxPooling2D(pool_size=(2,2)))\n",
        "model.add(Dropout(0.3))\n",
        "\n",
        "\n",
        "\n",
        "# flatten\n",
        "model.add(Flatten())\n",
        "\n",
        "model.add(Dense(num_classes, activation = \"softmax\"))\n",
        "\n",
        "#summary layer\n",
        "model.summary()\n",
        "\n"
      ]
    },
    {
      "cell_type": "markdown",
      "source": [
        "## compile the model"
      ],
      "metadata": {
        "id": "-zMNHOMQ8F1v"
      }
    },
    {
      "cell_type": "code",
      "execution_count": null,
      "metadata": {
        "id": "2HYV4ONu7p10"
      },
      "outputs": [],
      "source": [
        "# model compiling\n",
        "\n",
        "opt = Adam(learning_rate = 0.0001,decay = 1e-6)\n",
        "model.compile(optimizer = opt , loss =\"categorical_crossentropy\" ,metrics =[\"accuracy\"])"
      ]
    },
    {
      "cell_type": "code",
      "execution_count": null,
      "metadata": {
        "colab": {
          "base_uri": "https://localhost:8080/"
        },
        "id": "oSdM6oY4z5Hn",
        "outputId": "62607a07-d7c8-4320-b143-e055c66d73cc"
      },
      "outputs": [
        {
          "output_type": "stream",
          "name": "stdout",
          "text": [
            "Epoch 1/100\n",
            "448/448 [==============================] - 79s 146ms/step - loss: 2.8494 - accuracy: 0.2061 - val_loss: 1.9598 - val_accuracy: 0.1836\n",
            "Epoch 2/100\n",
            "448/448 [==============================] - 64s 142ms/step - loss: 2.1100 - accuracy: 0.2654 - val_loss: 1.7586 - val_accuracy: 0.3290\n",
            "Epoch 3/100\n",
            "448/448 [==============================] - 64s 142ms/step - loss: 1.9613 - accuracy: 0.3122 - val_loss: 1.7318 - val_accuracy: 0.3686\n",
            "Epoch 4/100\n",
            "448/448 [==============================] - 64s 143ms/step - loss: 1.8349 - accuracy: 0.3667 - val_loss: 1.6349 - val_accuracy: 0.4358\n",
            "Epoch 5/100\n",
            "448/448 [==============================] - 71s 159ms/step - loss: 1.7287 - accuracy: 0.3955 - val_loss: 1.6134 - val_accuracy: 0.4461\n",
            "Epoch 6/100\n",
            "448/448 [==============================] - 65s 146ms/step - loss: 1.6313 - accuracy: 0.4340 - val_loss: 1.8489 - val_accuracy: 0.4367\n",
            "Epoch 7/100\n",
            "448/448 [==============================] - 62s 138ms/step - loss: 1.5435 - accuracy: 0.4634 - val_loss: 1.6515 - val_accuracy: 0.4754\n",
            "Epoch 8/100\n",
            "448/448 [==============================] - 63s 140ms/step - loss: 1.4775 - accuracy: 0.4882 - val_loss: 1.6525 - val_accuracy: 0.5103\n",
            "Epoch 9/100\n",
            "448/448 [==============================] - 63s 140ms/step - loss: 1.4401 - accuracy: 0.4982 - val_loss: 1.3299 - val_accuracy: 0.5276\n",
            "Epoch 10/100\n",
            "448/448 [==============================] - 63s 139ms/step - loss: 1.4033 - accuracy: 0.5094 - val_loss: 1.9157 - val_accuracy: 0.5220\n",
            "Epoch 11/100\n",
            "448/448 [==============================] - 62s 138ms/step - loss: 1.3506 - accuracy: 0.5319 - val_loss: 1.2935 - val_accuracy: 0.5511\n",
            "Epoch 12/100\n",
            "448/448 [==============================] - 62s 138ms/step - loss: 1.2771 - accuracy: 0.5371 - val_loss: 1.1841 - val_accuracy: 0.5622\n",
            "Epoch 13/100\n",
            "448/448 [==============================] - 63s 140ms/step - loss: 1.1912 - accuracy: 0.5538 - val_loss: 1.1526 - val_accuracy: 0.5689\n",
            "Epoch 14/100\n",
            "448/448 [==============================] - 63s 141ms/step - loss: 1.1454 - accuracy: 0.5728 - val_loss: 1.1692 - val_accuracy: 0.5706\n",
            "Epoch 15/100\n",
            "448/448 [==============================] - 62s 138ms/step - loss: 1.1244 - accuracy: 0.5793 - val_loss: 1.1309 - val_accuracy: 0.5753\n",
            "Epoch 16/100\n",
            "448/448 [==============================] - 62s 138ms/step - loss: 1.0952 - accuracy: 0.5897 - val_loss: 1.1048 - val_accuracy: 0.5912\n",
            "Epoch 17/100\n",
            "448/448 [==============================] - 62s 138ms/step - loss: 1.0893 - accuracy: 0.5953 - val_loss: 1.0996 - val_accuracy: 0.5871\n",
            "Epoch 18/100\n",
            "448/448 [==============================] - 60s 134ms/step - loss: 1.0622 - accuracy: 0.6020 - val_loss: 1.1040 - val_accuracy: 0.5982\n",
            "Epoch 19/100\n",
            "448/448 [==============================] - 61s 136ms/step - loss: 1.0353 - accuracy: 0.6132 - val_loss: 1.0658 - val_accuracy: 0.6063\n",
            "Epoch 20/100\n",
            "448/448 [==============================] - 61s 136ms/step - loss: 1.0205 - accuracy: 0.6195 - val_loss: 1.0625 - val_accuracy: 0.6122\n",
            "Epoch 21/100\n",
            "448/448 [==============================] - 60s 134ms/step - loss: 1.0154 - accuracy: 0.6260 - val_loss: 1.0760 - val_accuracy: 0.6147\n",
            "Epoch 22/100\n",
            "448/448 [==============================] - 61s 136ms/step - loss: 0.9947 - accuracy: 0.6236 - val_loss: 1.0386 - val_accuracy: 0.6281\n",
            "Epoch 23/100\n",
            "448/448 [==============================] - 60s 134ms/step - loss: 0.9741 - accuracy: 0.6353 - val_loss: 1.0474 - val_accuracy: 0.6136\n",
            "Epoch 24/100\n",
            "448/448 [==============================] - 61s 136ms/step - loss: 0.9629 - accuracy: 0.6398 - val_loss: 1.0649 - val_accuracy: 0.6105\n",
            "Epoch 25/100\n",
            "448/448 [==============================] - 60s 134ms/step - loss: 0.9473 - accuracy: 0.6423 - val_loss: 1.0374 - val_accuracy: 0.6303\n",
            "Epoch 26/100\n",
            "448/448 [==============================] - 60s 133ms/step - loss: 0.9323 - accuracy: 0.6490 - val_loss: 1.0177 - val_accuracy: 0.6253\n",
            "Epoch 27/100\n",
            "448/448 [==============================] - 60s 133ms/step - loss: 0.9193 - accuracy: 0.6560 - val_loss: 1.0139 - val_accuracy: 0.6362\n",
            "Epoch 28/100\n",
            "448/448 [==============================] - 59s 132ms/step - loss: 0.8997 - accuracy: 0.6646 - val_loss: 1.0242 - val_accuracy: 0.6373\n",
            "Epoch 29/100\n",
            "448/448 [==============================] - 60s 135ms/step - loss: 0.9008 - accuracy: 0.6632 - val_loss: 1.0208 - val_accuracy: 0.6470\n",
            "Epoch 30/100\n",
            "448/448 [==============================] - 60s 135ms/step - loss: 0.8893 - accuracy: 0.6642 - val_loss: 1.0318 - val_accuracy: 0.6437\n",
            "Epoch 31/100\n",
            "448/448 [==============================] - 60s 133ms/step - loss: 0.8561 - accuracy: 0.6766 - val_loss: 1.0213 - val_accuracy: 0.6440\n",
            "Epoch 32/100\n",
            "448/448 [==============================] - 60s 134ms/step - loss: 0.8733 - accuracy: 0.6769 - val_loss: 1.0082 - val_accuracy: 0.6487\n",
            "Epoch 33/100\n",
            "448/448 [==============================] - 59s 132ms/step - loss: 0.8322 - accuracy: 0.6944 - val_loss: 0.9958 - val_accuracy: 0.6504\n",
            "Epoch 34/100\n",
            "448/448 [==============================] - 60s 134ms/step - loss: 0.8310 - accuracy: 0.6927 - val_loss: 0.9922 - val_accuracy: 0.6451\n",
            "Epoch 35/100\n",
            "448/448 [==============================] - 59s 132ms/step - loss: 0.8189 - accuracy: 0.6967 - val_loss: 0.9825 - val_accuracy: 0.6546\n",
            "Epoch 36/100\n",
            "448/448 [==============================] - 60s 133ms/step - loss: 0.8242 - accuracy: 0.6966 - val_loss: 1.0189 - val_accuracy: 0.6549\n",
            "Epoch 37/100\n",
            "448/448 [==============================] - 59s 132ms/step - loss: 0.8060 - accuracy: 0.6988 - val_loss: 0.9667 - val_accuracy: 0.6724\n",
            "Epoch 38/100\n",
            "448/448 [==============================] - 60s 134ms/step - loss: 0.7828 - accuracy: 0.7066 - val_loss: 1.0056 - val_accuracy: 0.6602\n",
            "Epoch 39/100\n",
            "448/448 [==============================] - 59s 131ms/step - loss: 0.7833 - accuracy: 0.7092 - val_loss: 0.9950 - val_accuracy: 0.6571\n",
            "Epoch 40/100\n",
            "448/448 [==============================] - 60s 133ms/step - loss: 0.7497 - accuracy: 0.7210 - val_loss: 0.9569 - val_accuracy: 0.6671\n",
            "Epoch 41/100\n",
            "448/448 [==============================] - 60s 134ms/step - loss: 0.7525 - accuracy: 0.7156 - val_loss: 1.0219 - val_accuracy: 0.6590\n",
            "Epoch 42/100\n",
            "448/448 [==============================] - 59s 131ms/step - loss: 0.7388 - accuracy: 0.7223 - val_loss: 1.0075 - val_accuracy: 0.6537\n",
            "Epoch 43/100\n",
            "448/448 [==============================] - 59s 132ms/step - loss: 0.7333 - accuracy: 0.7266 - val_loss: 1.0006 - val_accuracy: 0.6540\n",
            "Epoch 44/100\n",
            "448/448 [==============================] - 59s 131ms/step - loss: 0.7229 - accuracy: 0.7315 - val_loss: 1.0260 - val_accuracy: 0.6604\n",
            "Epoch 45/100\n",
            "448/448 [==============================] - 60s 133ms/step - loss: 0.7000 - accuracy: 0.7415 - val_loss: 1.0294 - val_accuracy: 0.6504\n",
            "Epoch 46/100\n",
            "448/448 [==============================] - 59s 132ms/step - loss: 0.6942 - accuracy: 0.7402 - val_loss: 0.9751 - val_accuracy: 0.6775\n",
            "Epoch 47/100\n",
            "448/448 [==============================] - 59s 131ms/step - loss: 0.6864 - accuracy: 0.7452 - val_loss: 1.0104 - val_accuracy: 0.6702\n",
            "Epoch 48/100\n",
            "448/448 [==============================] - 60s 134ms/step - loss: 0.6846 - accuracy: 0.7435 - val_loss: 1.0426 - val_accuracy: 0.6671\n",
            "Epoch 49/100\n",
            "448/448 [==============================] - 60s 133ms/step - loss: 0.6758 - accuracy: 0.7512 - val_loss: 1.0179 - val_accuracy: 0.6590\n",
            "Epoch 50/100\n",
            "448/448 [==============================] - 59s 133ms/step - loss: 0.6630 - accuracy: 0.7544 - val_loss: 1.0348 - val_accuracy: 0.6546\n",
            "Epoch 51/100\n",
            "448/448 [==============================] - 58s 130ms/step - loss: 0.6380 - accuracy: 0.7625 - val_loss: 1.0185 - val_accuracy: 0.6716\n",
            "Epoch 52/100\n",
            "448/448 [==============================] - 59s 132ms/step - loss: 0.6381 - accuracy: 0.7631 - val_loss: 1.0311 - val_accuracy: 0.6671\n",
            "Epoch 53/100\n",
            "448/448 [==============================] - 59s 132ms/step - loss: 0.6210 - accuracy: 0.7707 - val_loss: 1.0275 - val_accuracy: 0.6814\n",
            "Epoch 54/100\n",
            "448/448 [==============================] - 59s 132ms/step - loss: 0.6179 - accuracy: 0.7740 - val_loss: 1.1059 - val_accuracy: 0.6660\n",
            "Epoch 55/100\n",
            "448/448 [==============================] - 60s 135ms/step - loss: 0.6049 - accuracy: 0.7777 - val_loss: 1.0601 - val_accuracy: 0.6749\n",
            "Restoring model weights from the end of the best epoch.\n",
            "Epoch 00055: early stopping\n"
          ]
        }
      ],
      "source": [
        "# training\n",
        "\n",
        "early_stop = EarlyStopping(monitor = \"val_loss\",\n",
        "                           min_delta = 0, \n",
        "                           patience = 15,\n",
        "                           verbose = 1,\n",
        "                           restore_best_weights = True)\n",
        "\n",
        "#fitting \n",
        "validation_steps = (len(val_data)//64)\n",
        "\n",
        "history = model.fit(train_gen,\n",
        "                    steps_per_epoch = len(train_data)//64,\n",
        "                    epochs = 100,\n",
        "                    callbacks = early_stop,\n",
        "                    verbose = 1,\n",
        "                    validation_data = valid_gen,\n",
        "                    validation_steps = validation_steps\n",
        "                    )"
      ]
    },
    {
      "cell_type": "markdown",
      "source": [
        "#### Restoring model weights, which is Epoch 46 \n",
        "#### loss: 0.6942 - accuracy: 0.7402 - val_loss: 0.9751 - val_accuracy: 0.6775"
      ],
      "metadata": {
        "id": "spQdMICJdgn7"
      }
    },
    {
      "cell_type": "markdown",
      "source": [
        "#**Model Evaluation**"
      ],
      "metadata": {
        "id": "YPcm9S_l8mJm"
      }
    },
    {
      "cell_type": "code",
      "execution_count": null,
      "metadata": {
        "id": "ua5fr_Zq2QIg"
      },
      "outputs": [],
      "source": [
        "#saving history of model in dataframe\n",
        "df_model = pd.DataFrame(model.history.history)"
      ]
    },
    {
      "cell_type": "code",
      "execution_count": null,
      "metadata": {
        "colab": {
          "base_uri": "https://localhost:8080/",
          "height": 407
        },
        "id": "Iqro1hZVWNfl",
        "outputId": "83a1944d-a237-4a14-85f9-d62026532747"
      },
      "outputs": [
        {
          "output_type": "execute_result",
          "data": {
            "text/plain": [
              "Text(0.5, 1.0, 'Loss plot of training and validation data')"
            ]
          },
          "metadata": {},
          "execution_count": 33
        },
        {
          "output_type": "display_data",
          "data": {
            "text/plain": [
              "<Figure size 720x432 with 1 Axes>"
            ],
            "image/png": "[encoded data removed]"
          },
          "metadata": {
            "needs_background": "light"
          }
        }
      ],
      "source": [
        "# plot loss\n",
        "df_model[[\"loss\",\"val_loss\"]].plot(figsize=(10,6))\n",
        "plt.title(\"Loss plot of training and validation data\")"
      ]
    },
    {
      "cell_type": "code",
      "execution_count": null,
      "metadata": {
        "colab": {
          "base_uri": "https://localhost:8080/",
          "height": 407
        },
        "id": "DrPEgi34WoJi",
        "outputId": "f7a03dec-eb99-4f39-cc61-2f461c39b809"
      },
      "outputs": [
        {
          "output_type": "execute_result",
          "data": {
            "text/plain": [
              "Text(0.5, 1.0, 'Accuracy plot of training and validation data')"
            ]
          },
          "metadata": {},
          "execution_count": 34
        },
        {
          "output_type": "display_data",
          "data": {
            "text/plain": [
              "<Figure size 720x432 with 1 Axes>"
            ],
            "image/png": "[encoded data removed]"
          },
          "metadata": {
            "needs_background": "light"
          }
        }
      ],
      "source": [
        "# plot accuracy\n",
        "df_model[[\"accuracy\",\"val_accuracy\"]].plot(figsize=(10,6))\n",
        "plt.title(\"Accuracy plot of training and validation data\")"
      ]
    },
    {
      "cell_type": "markdown",
      "source": [
        "## **Prediction on test data**"
      ],
      "metadata": {
        "id": "cNBWSuzD8vuh"
      }
    },
    {
      "cell_type": "code",
      "execution_count": null,
      "metadata": {
        "id": "yq7NIF6AW0Td"
      },
      "outputs": [],
      "source": [
        "y_true = np.argmax(y_test,axis=1)\n",
        "y_pred = np.argmax(model.predict(x_test),axis=1)"
      ]
    },
    {
      "cell_type": "code",
      "execution_count": null,
      "metadata": {
        "colab": {
          "base_uri": "https://localhost:8080/"
        },
        "id": "-axTwvXEXIin",
        "outputId": "9e263bbc-bba1-4244-f550-cdb21b5ab07e"
      },
      "outputs": [
        {
          "output_type": "stream",
          "name": "stdout",
          "text": [
            "              precision    recall  f1-score   support\n",
            "\n",
            "           0       0.62      0.62      0.62       491\n",
            "           1       0.76      0.56      0.65        55\n",
            "           2       0.53      0.38      0.44       528\n",
            "           3       0.90      0.87      0.88       879\n",
            "           4       0.52      0.59      0.55       594\n",
            "           5       0.78      0.74      0.76       416\n",
            "           6       0.61      0.73      0.67       626\n",
            "\n",
            "    accuracy                           0.67      3589\n",
            "   macro avg       0.67      0.64      0.65      3589\n",
            "weighted avg       0.68      0.67      0.67      3589\n",
            "\n"
          ]
        }
      ],
      "source": [
        "print(classification_report(y_true,y_pred))"
      ]
    },
    {
      "cell_type": "markdown",
      "source": [
        "### prediction on test data gives the accuracy of 0.67."
      ],
      "metadata": {
        "id": "fxr3sZud9BAm"
      }
    },
    {
      "cell_type": "markdown",
      "source": [
        "## **Save the Model**"
      ],
      "metadata": {
        "id": "23u1RULZ9QfY"
      }
    },
    {
      "cell_type": "code",
      "execution_count": null,
      "metadata": {
        "id": "WuoJv-DnXYik"
      },
      "outputs": [],
      "source": [
        "# save model\n",
        "model.save(\"/content/drive/MyDrive/Face Emotion Recognition - Milan Ajudiya/Data/face emotion detection model/emotion_detection_model.h5\")"
      ]
    },
    {
      "cell_type": "markdown",
      "metadata": {
        "id": "4fwD-dSkBzWD"
      },
      "source": [
        "# **Real Time Detection**"
      ]
    },
    {
      "cell_type": "code",
      "execution_count": null,
      "metadata": {
        "id": "9l3DXNGpX_3W"
      },
      "outputs": [],
      "source": [
        "model = tensorflow.keras.models.load_model(\"/content/drive/MyDrive/Face Emotion Recognition - Milan Ajudiya/Data/face emotion detection model/emotion_detection_model.h5\")"
      ]
    },
    {
      "cell_type": "code",
      "execution_count": null,
      "metadata": {
        "id": "vW2XyMWSYVvh"
      },
      "outputs": [],
      "source": [
        "import cv2\n",
        "face_haar_cascade = cv2.CascadeClassifier(\"/content/drive/MyDrive/Face Emotion Recognition - Milan Ajudiya/Data/haarcascade_frontalface_default.xml\")"
      ]
    },
    {
      "cell_type": "code",
      "execution_count": null,
      "metadata": {
        "id": "R8iYX-ylY08S"
      },
      "outputs": [],
      "source": [
        "#real time detection\n",
        "cap = cv2.VideoCapture(0)\n",
        "while cap.isOpened():\n",
        "  ret,img = cap.read()\n",
        "  height,width,channel = img.shape\n",
        "  sub_img = img[0:int(height/6),0:int(width)]\n",
        "  heading = np.ones(sub_img.shape, dtype = np.uint8)*0\n",
        "  result = cv2.addWeighted(sub_img, 0.82, heading, 0.18, 0)\n",
        "  font = cv2.FONT_HERSHEY_SIMPLEX\n",
        "  font_scale = 0.9\n",
        "  font_thickness = 2\n",
        "  lable_color = (0, 255, 0)\n",
        "  lable = \"Face Emotion Detection\"\n",
        "  lable_dimension = cv2.getTextSize(lable,font,font_scale,font_thickness)[0]\n",
        "  textX = int((result.shape[1] - lable_dimension[0])/2)\n",
        "  textY = int((result.shape[0] + lable_dimension[1])/2)\n",
        "  cv2.putText(result, lable,(textX,textY),font,font_scale,(0,0,0),font_thickness) \n",
        "\n",
        "  # prediction\n",
        "  gray_image = cv2.cvtColor(img,cv2.COLOR_BGR2GRAY)\n",
        "  # detect face\n",
        "  faces = face_haar_cascade.detectMultiScale(gray_image)\n",
        "  try:\n",
        "    for(x,y,w,h) in faces:\n",
        "      #rectangle\n",
        "      cv2.rectangle(img, pt1 = (x,y), pt2 = (x+w,y+h), color = (0,0,255), thickness = 2)\n",
        "      roi_gray = gray_image[y-5:y+h+5, x-5:x+w+5]\n",
        "      roi_gray = cv2.resize(roi_gray,(48,48))\n",
        "      image_pixels = tensorflow.keras.preprocessing.image.img_to_array(roi_gray)\n",
        "      image_pixels = np.expand_dims(image_pixels,axis = 0)\n",
        "      image_pixels /= 255\n",
        "      prediction = model.predict(image_pixels)\n",
        "      max_index = np.argmax(prediction[0])\n",
        "      emotion_detection = (\"Angry\",\"Disgust\",\"Fear\",\"happy\",\"Sad\",\"Surprise\",\"Neutral\")\n",
        "      emotion_prediction = emotion_detection[max_index]\n",
        "      cv2.putText(img, emotion_prediction, (int(x+w/3),int(y)),font,0.9,lable_color,2)\n",
        "  except:\n",
        "    pass\n",
        "  img[0:int(height/6),0:int(width)] = result\n",
        "  cv2.imshow(\"Face Emotion Detection\",img)\n",
        "  # press Q to close \n",
        "  if cv2.waitKey(1) == ord(\"Q\"):\n",
        "    break\n",
        "\n",
        "cap.release()\n",
        "cv2.destroyAllWindows()"
      ]
    },
    {
      "cell_type": "markdown",
      "source": [
        "# **Conclusion**"
      ],
      "metadata": {
        "id": "pKITy2hz9emP"
      }
    },
    {
      "cell_type": "markdown",
      "source": [
        "\n",
        "\n",
        "*   Model training result  : loss: 0.6942 - accuracy: 0.7402 - val_loss: 0.9751 - val_accuracy: 0.6775\n",
        "*   Model test Result:\n",
        "\n",
        "![classification report.jpg](data:image/jpeg;base64,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)\n",
        "\n"
      ],
      "metadata": {
        "id": "dtYjZCCN9uyP"
      }
    }
  ],
  "metadata": {
    "accelerator": "GPU",
    "colab": {
      "collapsed_sections": [],
      "provenance": [],
      "mount_file_id": "1hiPtrmQxQiVASe6paFhddDgvGV15MNej",
      "authorship_tag": "ABX9TyMpMsSRSWYVzSnLDeTk1QKo",
      "include_colab_link": true
    },
    "gpuClass": "standard",
    "kernelspec": {
      "display_name": "Python 3",
      "name": "python3"
    },
    "language_info": {
      "name": "python"
    }
  },
  "nbformat": 4,
  "nbformat_minor": 0
}